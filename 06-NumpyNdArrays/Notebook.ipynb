{
  "cells": [
    {
      "cell_type": "markdown",
      "metadata": {
        "toc": true
      },
      "source": [
        "<h1>Table of Contents<span class=\"tocSkip\"></span></h1>\n",
        "<div class=\"toc\"><ul class=\"toc-item\"><li><span><a href=\"#Numpy---numerical-computing-with-multidimensional-data-arrays\" data-toc-modified-id=\"Numpy---numerical-computing-with-multidimensional-data-arrays-1\"><span class=\"toc-item-num\">1&nbsp;&nbsp;</span>Numpy - numerical computing with multidimensional data arrays</a></span></li><li><span><a href=\"#Different-Ways-To-Create-An-Array\" data-toc-modified-id=\"Different-Ways-To-Create-An-Array-2\"><span class=\"toc-item-num\">2&nbsp;&nbsp;</span>Different Ways To Create An Array</a></span></li><li><span><a href=\"#Adding/Removing-Elements\" data-toc-modified-id=\"Adding/Removing-Elements-3\"><span class=\"toc-item-num\">3&nbsp;&nbsp;</span>Adding/Removing Elements</a></span></li><li><span><a href=\"#NumPy-Array-Methods\" data-toc-modified-id=\"NumPy-Array-Methods-4\"><span class=\"toc-item-num\">4&nbsp;&nbsp;</span>NumPy Array Methods</a></span></li><li><span><a href=\"#Indexing,-Slicing,-subsetting-and-broadcasting\" data-toc-modified-id=\"Indexing,-Slicing,-subsetting-and-broadcasting-5\"><span class=\"toc-item-num\">5&nbsp;&nbsp;</span>Indexing, Slicing, subsetting and broadcasting</a></span></li><li><span><a href=\"#N-dimensional-array\" data-toc-modified-id=\"N-dimensional-array-6\"><span class=\"toc-item-num\">6&nbsp;&nbsp;</span>N-dimensional array</a></span></li><li><span><a href=\"#Change-or-adjust-dimensions-(3-or-more)\" data-toc-modified-id=\"Change-or-adjust-dimensions-(3-or-more)-7\"><span class=\"toc-item-num\">7&nbsp;&nbsp;</span>Change or adjust dimensions (3 or more)</a></span><ul class=\"toc-item\"><li><span><a href=\"#Using-resize()\" data-toc-modified-id=\"Using-resize()-7.1\"><span class=\"toc-item-num\">7.1&nbsp;&nbsp;</span>Using resize()</a></span></li><li><span><a href=\"#Using-reshape\" data-toc-modified-id=\"Using-reshape-7.2\"><span class=\"toc-item-num\">7.2&nbsp;&nbsp;</span>Using reshape</a></span></li></ul></li><li><span><a href=\"#Using-NumPy-on-Alcohol-Consumption-Data-(real-world-data)\" data-toc-modified-id=\"Using-NumPy-on-Alcohol-Consumption-Data-(real-world-data)-8\"><span class=\"toc-item-num\">8&nbsp;&nbsp;</span>Using NumPy on Alcohol Consumption Data (real world data)</a></span></li></ul></div>"
      ]
    },
    {
      "cell_type": "markdown",
      "metadata": {},
      "source": [
        "## Numpy - numerical computing with multidimensional data arrays"
      ]
    },
    {
      "cell_type": "markdown",
      "metadata": {},
      "source": [
        "*  Provides vectorized operation functionality that a Python list cannot.\n",
        "* Occupies less memory compared to list. Greatly increase the speed and efficiency of processing large data sets. \n",
        "* It can be utilised to perform a number of mathematical operations on arrays such as trigonometric, statistical and algebraic functions.\n",
        "* library for scientific computing which is dealing with numbers and math\n",
        "* It also contains random number generators."
      ]
    },
    {
      "cell_type": "markdown",
      "metadata": {},
      "source": [
        "![Imgur](https://i.imgur.com/4aL45nA.png)\n",
        "![Imgur](https://i.imgur.com/azI3E1e.png)"
      ]
    },
    {
      "cell_type": "code",
      "execution_count": 1,
      "metadata": {
        "trusted": true
      },
      "outputs": [],
      "source": [
        "import numpy as np"
      ]
    },
    {
      "cell_type": "markdown",
      "metadata": {},
      "source": [
        "** Creating array from list: a one dimentional numpy array **"
      ]
    },
    {
      "cell_type": "code",
      "execution_count": 2,
      "metadata": {
        "trusted": true
      },
      "outputs": [],
      "source": [
        "my_list = [1, 2, 3, 4, 5]"
      ]
    },
    {
      "cell_type": "code",
      "execution_count": 3,
      "metadata": {
        "scrolled": false,
        "trusted": true
      },
      "outputs": [
        {
          "data": {
            "text/plain": [
              "array([1, 2, 3, 4, 5])"
            ]
          },
          "execution_count": 3,
          "metadata": {},
          "output_type": "execute_result"
        }
      ],
      "source": [
        "my_numpy_arr = np.array(my_list)\n",
        "my_numpy_arr #This line show the result of the array generated"
      ]
    },
    {
      "cell_type": "markdown",
      "metadata": {},
      "source": [
        "**user defined datatype **"
      ]
    },
    {
      "cell_type": "code",
      "execution_count": 6,
      "metadata": {
        "scrolled": true,
        "trusted": true
      },
      "outputs": [
        {
          "data": {
            "text/plain": [
              "array([1., 2., 3., 4., 5.])"
            ]
          },
          "execution_count": 6,
          "metadata": {},
          "output_type": "execute_result"
        }
      ],
      "source": [
        "my_numpy_arr = np.array(my_list,dtype=np.float64) \n",
        "my_numpy_arr\n",
        "# There are also other types available such as: Boolean, Complex,..etc\n"
      ]
    },
    {
      "cell_type": "markdown",
      "metadata": {},
      "source": [
        "**Set of attributes appled on top of 1d-array**"
      ]
    },
    {
      "cell_type": "code",
      "execution_count": 8,
      "metadata": {
        "run_control": {
          "marked": false
        },
        "trusted": true
      },
      "outputs": [
        {
          "name": "stdout",
          "output_type": "stream",
          "text": [
            "float64\n",
            "1\n",
            "(5,)\n",
            "5\n"
          ]
        }
      ],
      "source": [
        "# Describing a Matrix\n",
        "print(my_numpy_arr.dtype)\n",
        "print(my_numpy_arr.ndim) # number of dimensions\n",
        "print(my_numpy_arr.shape) # shape\n",
        "print(my_numpy_arr.size) # size"
      ]
    },
    {
      "cell_type": "markdown",
      "metadata": {},
      "source": [
        "**Row Vector**"
      ]
    },
    {
      "cell_type": "code",
      "execution_count": 3,
      "metadata": {
        "trusted": true
      },
      "outputs": [
        {
          "data": {
            "text/plain": [
              "array([1, 2, 3])"
            ]
          },
          "execution_count": 3,
          "metadata": {},
          "output_type": "execute_result"
        }
      ],
      "source": [
        "#Create a vector as a Row\n",
        "vector_row = np.array([1,2,3])\n",
        "vector_row"
      ]
    },
    {
      "cell_type": "markdown",
      "metadata": {},
      "source": [
        "**Column Vector**"
      ]
    },
    {
      "cell_type": "code",
      "execution_count": 4,
      "metadata": {
        "trusted": true
      },
      "outputs": [
        {
          "data": {
            "text/plain": [
              "array([[1],\n",
              "       [2],\n",
              "       [3]])"
            ]
          },
          "execution_count": 4,
          "metadata": {},
          "output_type": "execute_result"
        }
      ],
      "source": [
        "#Create vector as a Column\n",
        "vector_column = np.array([[1],[2],[3]])\n",
        "vector_column"
      ]
    },
    {
      "cell_type": "markdown",
      "metadata": {},
      "source": [
        "**Creating 2 dimentional array**"
      ]
    },
    {
      "cell_type": "code",
      "execution_count": 7,
      "metadata": {
        "trusted": true
      },
      "outputs": [
        {
          "name": "stdout",
          "output_type": "stream",
          "text": [
            "[[1 2 3]\n",
            " [4 5 6]]\n"
          ]
        }
      ],
      "source": [
        "#Create a 2-D Array or Matrix\n",
        "matrix = np.array([[1,2,3],[4,5,6]])\n",
        "print(matrix)"
      ]
    },
    {
      "cell_type": "code",
      "execution_count": 9,
      "metadata": {
        "trusted": true
      },
      "outputs": [
        {
          "data": {
            "text/plain": [
              "array([[1, 2, 3],\n",
              "       [5, 4, 1],\n",
              "       [3, 6, 7]])"
            ]
          },
          "execution_count": 9,
          "metadata": {},
          "output_type": "execute_result"
        }
      ],
      "source": [
        "second_list = [[1,2,3], [5,4,1], [3,6,7]]\n",
        "new_2d_arr = np.array(second_list)\n",
        "new_2d_arr #This line show the result of the array generated"
      ]
    },
    {
      "cell_type": "markdown",
      "metadata": {},
      "source": [
        "![Imgur](https://i.imgur.com/7CbWato.jpg)"
      ]
    },
    {
      "cell_type": "markdown",
      "metadata": {},
      "source": [
        "**Set of attributes appled on top of 2d-array**"
      ]
    },
    {
      "cell_type": "code",
      "execution_count": 10,
      "metadata": {
        "trusted": true
      },
      "outputs": [
        {
          "name": "stdout",
          "output_type": "stream",
          "text": [
            "int64\n",
            "2\n",
            "(3, 3)\n",
            "9\n"
          ]
        }
      ],
      "source": [
        "print(new_2d_arr.dtype)\n",
        "print(new_2d_arr.ndim) \n",
        "print(new_2d_arr.shape)\n",
        "print(new_2d_arr.size)"
      ]
    },
    {
      "cell_type": "markdown",
      "metadata": {
        "run_control": {
          "marked": false
        }
      },
      "source": [
        "## Different Ways To Create An Array"
      ]
    },
    {
      "cell_type": "markdown",
      "metadata": {},
      "source": [
        "* creating a numpy array using arange() built-in function"
      ]
    },
    {
      "cell_type": "code",
      "execution_count": 12,
      "metadata": {
        "trusted": true
      },
      "outputs": [
        {
          "name": "stdout",
          "output_type": "stream",
          "text": [
            "[0 1 2 3 4 5 6 7 8 9]\n"
          ]
        }
      ],
      "source": [
        "my_arange = np.arange(10)\n",
        "#OR\n",
        "print(my_arange)\n",
        "my_arange = np.arange(3,10)\n",
        "#This generates 10 digits of values from index 0 to 10."
      ]
    },
    {
      "cell_type": "markdown",
      "metadata": {},
      "source": [
        "**If you want to create an array with 0s:**\n",
        "* We can also generate a one-dimensional array of seven zeros."
      ]
    },
    {
      "cell_type": "code",
      "execution_count": null,
      "metadata": {},
      "outputs": [],
      "source": [
        "my_zeros = np.zeros(7)"
      ]
    },
    {
      "cell_type": "markdown",
      "metadata": {},
      "source": [
        "* Similarly, we could generate a two-dimensional array of zeros having 3 rows and 5 columns"
      ]
    },
    {
      "cell_type": "code",
      "execution_count": null,
      "metadata": {},
      "outputs": [],
      "source": [
        "two_d = np.zeros((3,5))"
      ]
    },
    {
      "cell_type": "markdown",
      "metadata": {},
      "source": [
        "**If you want to create an array with 1s:**\n",
        "* We can also generate a one-dimensional array of five ones."
      ]
    },
    {
      "cell_type": "code",
      "execution_count": null,
      "metadata": {},
      "outputs": [],
      "source": [
        "my_ones = np.ones(5)"
      ]
    },
    {
      "cell_type": "markdown",
      "metadata": {},
      "source": [
        "**If you want to create an array without any element:**\n",
        "* Creating NumPy array using empty() \n",
        "* Return a new array of given shape and type, without initializing entries random values.\n",
        "* unlike zeros, does not set the array values to zero, and may therefore be marginally faster. \n",
        "* On the other hand, it requires the user to manually set all the values in the array, and should be used with caution."
      ]
    },
    {
      "cell_type": "code",
      "execution_count": 19,
      "metadata": {},
      "outputs": [
        {
          "name": "stdout",
          "output_type": "stream",
          "text": [
            "[[6.91181617e-310 4.66913922e-310 0.00000000e+000 2.47032823e-323]\n",
            " [4.66913913e-310 0.00000000e+000 0.00000000e+000             nan]\n",
            " [4.66913913e-310 0.00000000e+000 0.00000000e+000             nan]\n",
            " [6.91181261e-310 6.91181259e-310 6.91181595e-310 6.91181261e-310]]\n"
          ]
        }
      ],
      "source": [
        "empty_d = np.empty((4,4), 'd') # string d is for double\n",
        "print(empty_d)"
      ]
    },
    {
      "cell_type": "markdown",
      "metadata": {},
      "source": [
        "**If you want to create a range of elements:**"
      ]
    },
    {
      "cell_type": "code",
      "execution_count": 8,
      "metadata": {
        "trusted": true
      },
      "outputs": [
        {
          "data": {
            "text/plain": [
              "array([0, 1, 2])"
            ]
          },
          "execution_count": 8,
          "metadata": {},
          "output_type": "execute_result"
        }
      ],
      "source": [
        "np.arange(3)\n",
        "#array will contain 0,1,2"
      ]
    },
    {
      "cell_type": "markdown",
      "metadata": {},
      "source": [
        "**If you want to create an array where the values are linearly spaced between an interval then use:**\n",
        "* Creating NumPy array using linspace() built-in function."
      ]
    },
    {
      "cell_type": "code",
      "execution_count": 7,
      "metadata": {},
      "outputs": [
        {
          "name": "stdout",
          "output_type": "stream",
          "text": [
            "[1.         1.14285714 1.28571429 1.42857143 1.57142857 1.71428571\n",
            " 1.85714286 2.         2.14285714 2.28571429 2.42857143 2.57142857\n",
            " 2.71428571 2.85714286 3.        ]\n"
          ]
        }
      ],
      "source": [
        "# The linspace() function returns numbers evenly spaced over a specified intervals. Say we want 15 evenly spaced points from 1 to 3, we can easily use:\n",
        "lin_arr = np.linspace(1, 3, 15)\n",
        "print(lin_arr)"
      ]
    },
    {
      "cell_type": "markdown",
      "metadata": {},
      "source": [
        "* Creating an identity matrix in NumPy"
      ]
    },
    {
      "cell_type": "code",
      "execution_count": 8,
      "metadata": {
        "scrolled": false
      },
      "outputs": [
        {
          "name": "stdout",
          "output_type": "stream",
          "text": [
            "[[1. 0. 0. 0. 0. 0.]\n",
            " [0. 1. 0. 0. 0. 0.]\n",
            " [0. 0. 1. 0. 0. 0.]\n",
            " [0. 0. 0. 1. 0. 0.]\n",
            " [0. 0. 0. 0. 1. 0.]\n",
            " [0. 0. 0. 0. 0. 1.]]\n"
          ]
        }
      ],
      "source": [
        "my_matrx = np.eye(6) #6 is the number of columns/rows you want \n",
        "print(my_matrx)"
      ]
    },
    {
      "cell_type": "markdown",
      "metadata": {},
      "source": [
        "**Random number generation:**\n",
        "* Generating an array of random numbers in NumP\n",
        "* generate an array of random numbers using `rand()`, `randn()` or `randint()` functions"
      ]
    },
    {
      "cell_type": "code",
      "execution_count": 9,
      "metadata": {},
      "outputs": [
        {
          "name": "stdout",
          "output_type": "stream",
          "text": [
            "[0.90783429 0.04334925 0.70510058 0.47323268]\n"
          ]
        }
      ],
      "source": [
        "# one-dimensional array of 4 objects that are uniformly distributed from 0 to 1\n",
        "my_rand = np.random.rand(4)\n",
        "print(my_rand)"
      ]
    },
    {
      "cell_type": "code",
      "execution_count": 9,
      "metadata": {
        "trusted": true
      },
      "outputs": [
        {
          "name": "stdout",
          "output_type": "stream",
          "text": [
            "[0.896123   0.8327489  0.18599274 0.66037868 0.23640302 0.584654\n",
            " 0.48097127 0.10324602 0.71351081 0.70278232 0.66097257 0.69954699\n",
            " 0.54410958 0.90439894 0.48752029 0.58862486 0.69461709 0.91658024\n",
            " 0.57016635 0.98324554 0.82391677 0.01885602 0.33355831 0.5234349\n",
            " 0.7504907 ]\n"
          ]
        }
      ],
      "source": [
        "# First, we generate a 1-d array of random 25 integers\n",
        "arr = np.random.rand(25)\n",
        "print(arr)"
      ]
    },
    {
      "cell_type": "code",
      "execution_count": 16,
      "metadata": {
        "trusted": true
      },
      "outputs": [
        {
          "data": {
            "text/plain": [
              "array([[0.36014431, 0.00550338, 0.9118491 , 0.32779085],\n",
              "       [0.9232909 , 0.82271223, 0.76053489, 0.9363674 ],\n",
              "       [0.79164193, 0.33359224, 0.61081042, 0.91095153],\n",
              "       [0.3099429 , 0.19904805, 0.00285802, 0.30875868],\n",
              "       [0.49982167, 0.12256968, 0.76572926, 0.08214017]])"
            ]
          },
          "execution_count": 16,
          "metadata": {},
          "output_type": "execute_result"
        }
      ],
      "source": [
        "# a two-dimensional array of 5rows and 4columns:\n",
        "my_rand = np.random.rand(5, 4)\n",
        "my_rand\n"
      ]
    },
    {
      "cell_type": "markdown",
      "metadata": {},
      "source": [
        "* using `randint()` function to generate an array of integers"
      ]
    },
    {
      "cell_type": "code",
      "execution_count": 3,
      "metadata": {
        "trusted": true
      },
      "outputs": [
        {
          "name": "stdout",
          "output_type": "stream",
          "text": [
            "7\n",
            "4\n",
            "[ 2 17  2 15 12  9 13]\n"
          ]
        }
      ],
      "source": [
        "import numpy as np\n",
        "print(np.random.randint(20)) #generates a random integer exclusive of 20\n",
        "print(np.random.randint(2, 20)) #generates a random integer including 2 but excluding 20\n",
        "print(np.random.randint(2, 20, 7)) #generates 7 random integers including 2 but excluding 20"
      ]
    },
    {
      "cell_type": "markdown",
      "metadata": {},
      "source": [
        "**To Generate standard normal distribution values:**"
      ]
    },
    {
      "cell_type": "code",
      "execution_count": 20,
      "metadata": {},
      "outputs": [
        {
          "data": {
            "text/plain": [
              "array([[-0.10221637,  1.0972533 ,  0.02014693,  3.01582451],\n",
              "       [-1.9876892 , -0.54198646, -0.56624764,  0.39828398]])"
            ]
          },
          "execution_count": 20,
          "metadata": {},
          "output_type": "execute_result"
        }
      ],
      "source": [
        "np.random.standard_normal((2,4)) # samples from standard normal distribution with mean and sd"
      ]
    },
    {
      "cell_type": "markdown",
      "metadata": {},
      "source": [
        "## Adding/Removing Elements"
      ]
    },
    {
      "cell_type": "markdown",
      "metadata": {},
      "source": [
        "* To add elements:\n",
        "* To delete elements"
      ]
    },
    {
      "cell_type": "code",
      "execution_count": 4,
      "metadata": {
        "trusted": true
      },
      "outputs": [
        {
          "name": "stdout",
          "output_type": "stream",
          "text": [
            "[15 19  7  8 15 18  4]\n",
            "[15 19  7  8 15 18  4  1  2]\n"
          ]
        }
      ],
      "source": [
        "a = np.random.randint(2, 20, 7)\n",
        "print(a)\n",
        "print(np.append(a, [1,2])) #adds 1,2 at the end\n",
        "#insert can also be used if we want to insert along a given index"
      ]
    },
    {
      "cell_type": "code",
      "execution_count": 5,
      "metadata": {
        "scrolled": true,
        "trusted": true
      },
      "outputs": [
        {
          "data": {
            "text/plain": [
              "array([15,  7,  8, 15, 18,  4])"
            ]
          },
          "execution_count": 5,
          "metadata": {},
          "output_type": "execute_result"
        }
      ],
      "source": [
        "np.delete(a, 1) #1 is going to be deleted from the array"
      ]
    },
    {
      "cell_type": "code",
      "execution_count": 7,
      "metadata": {
        "trusted": true
      },
      "outputs": [
        {
          "name": "stdout",
          "output_type": "stream",
          "text": [
            "[1 2 3]\n",
            "[5 4 3]\n",
            "[[ 2  4  8]\n",
            " [ 1 13  7]]\n",
            "[[ 2  1]\n",
            " [ 4 13]\n",
            " [ 8  7]]\n"
          ]
        }
      ],
      "source": [
        "a = np.array([1, 2, 3])\n",
        "print(a)\n",
        "b = np.array([5, 4, 3])\n",
        "print(b)\n",
        "c = np.array([[2, 4, 8], [1, 13, 7]])\n",
        "print(c)\n",
        "d = np.transpose(c)\n",
        "print(d)"
      ]
    },
    {
      "cell_type": "code",
      "execution_count": 10,
      "metadata": {
        "trusted": true
      },
      "outputs": [
        {
          "data": {
            "text/plain": [
              "array([ 2,  4,  8,  1, 13,  7,  2,  1,  4, 13,  8,  7])"
            ]
          },
          "execution_count": 10,
          "metadata": {},
          "output_type": "execute_result"
        }
      ],
      "source": [
        "np.append(c, d) # Append items in array c to array d"
      ]
    },
    {
      "cell_type": "code",
      "execution_count": 9,
      "metadata": {
        "scrolled": true,
        "trusted": true
      },
      "outputs": [
        {
          "data": {
            "text/plain": [
              "array([1, 5, 2, 3])"
            ]
          },
          "execution_count": 9,
          "metadata": {},
          "output_type": "execute_result"
        }
      ],
      "source": [
        "np.insert(a, 1, 5, axis=0) # Insert the number '5' at index 1 on axis 0\n",
        "# print(a)"
      ]
    },
    {
      "cell_type": "markdown",
      "metadata": {},
      "source": [
        "## NumPy Array Methods"
      ]
    },
    {
      "cell_type": "markdown",
      "metadata": {},
      "source": [
        "**Mathematical Operations sucha as**  \n",
        "`np.add()`, `np.subtract()`, `np.multiply()`, `np.divide()` and `np.remainder()`    \n",
        "**OR**  \n",
        "`+`, `-`, `*`, `/` and `%`  "
      ]
    },
    {
      "cell_type": "code",
      "execution_count": 5,
      "metadata": {
        "trusted": true
      },
      "outputs": [
        {
          "data": {
            "text/plain": [
              "array([[[1.46056385, 1.79771535, 1.98949934, 1.16760426],\n",
              "        [1.46056385, 1.79771535, 1.98949934, 1.16760426],\n",
              "        [1.46056385, 1.79771535, 1.98949934, 1.16760426]],\n",
              "\n",
              "       [[1.63557025, 1.10401616, 1.60081621, 1.07363843],\n",
              "        [1.63557025, 1.10401616, 1.60081621, 1.07363843],\n",
              "        [1.63557025, 1.10401616, 1.60081621, 1.07363843]],\n",
              "\n",
              "       [[1.85713169, 1.89871147, 1.82538507, 1.80608612],\n",
              "        [1.85713169, 1.89871147, 1.82538507, 1.80608612],\n",
              "        [1.85713169, 1.89871147, 1.82538507, 1.80608612]],\n",
              "\n",
              "       [[1.92862717, 1.38616018, 1.00489882, 1.76348076],\n",
              "        [1.92862717, 1.38616018, 1.00489882, 1.76348076],\n",
              "        [1.92862717, 1.38616018, 1.00489882, 1.76348076]],\n",
              "\n",
              "       [[1.84979056, 1.39708119, 1.42887973, 1.04687795],\n",
              "        [1.84979056, 1.39708119, 1.42887973, 1.04687795],\n",
              "        [1.84979056, 1.39708119, 1.42887973, 1.04687795]]])"
            ]
          },
          "execution_count": 5,
          "metadata": {},
          "output_type": "execute_result"
        }
      ],
      "source": [
        "# Import `numpy` as `np`\n",
        "import numpy as np\n",
        "\n",
        "# Initialize `x` and `y`\n",
        "x = np.ones((3,4))\n",
        "y = np.random.random((5,1,4))\n",
        "\n",
        "# Add `x` and `y`\n",
        "x + y"
      ]
    },
    {
      "cell_type": "code",
      "execution_count": 6,
      "metadata": {
        "trusted": true
      },
      "outputs": [
        {
          "data": {
            "text/plain": [
              "array([[[0.07887231, 0.20228465, 0.01050066, 0.16197868],\n",
              "        [0.07887231, 0.20228465, 0.01050066, 0.16197868],\n",
              "        [0.07887231, 0.20228465, 0.01050066, 0.16197868]],\n",
              "\n",
              "       [[0.36442975, 0.06385453, 0.39918379, 0.04270041],\n",
              "        [0.36442975, 0.06385453, 0.39918379, 0.04270041],\n",
              "        [0.36442975, 0.06385453, 0.39918379, 0.04270041]],\n",
              "\n",
              "       [[0.14286831, 0.10128853, 0.17461493, 0.19391388],\n",
              "        [0.14286831, 0.10128853, 0.17461493, 0.19391388],\n",
              "        [0.14286831, 0.10128853, 0.17461493, 0.19391388]],\n",
              "\n",
              "       [[0.07137283, 0.22767963, 0.00064054, 0.23651924],\n",
              "        [0.07137283, 0.22767963, 0.00064054, 0.23651924],\n",
              "        [0.07137283, 0.22767963, 0.00064054, 0.23651924]],\n",
              "\n",
              "       [[0.15020944, 0.20583763, 0.14224055, 0.01556304],\n",
              "        [0.15020944, 0.20583763, 0.14224055, 0.01556304],\n",
              "        [0.15020944, 0.20583763, 0.14224055, 0.01556304]]])"
            ]
          },
          "execution_count": 6,
          "metadata": {},
          "output_type": "execute_result"
        }
      ],
      "source": [
        "# Add `x` and `y`\n",
        "np.add(x,y)\n",
        "\n",
        "# Subtract `x` and `y`\n",
        "np.subtract(x,y)\n",
        "\n",
        "# Multiply `x` and `y`\n",
        "np.multiply(x,y)\n",
        "\n",
        "# Divide `x` and `y`\n",
        "np.divide(x,y)\n",
        "\n",
        "# Calculate the remainder of `x` and `y`\n",
        "np.remainder(x,y)"
      ]
    },
    {
      "cell_type": "code",
      "execution_count": 3,
      "metadata": {
        "scrolled": true,
        "trusted": true
      },
      "outputs": [
        {
          "name": "stdout",
          "output_type": "stream",
          "text": [
            "[[ 2  4  8]\n",
            " [ 1 13  7]]\n",
            "[[ 1  4  7]\n",
            " [ 2 13  8]]\n",
            "[[ 2  4  8]\n",
            " [ 1  7 13]]\n"
          ]
        }
      ],
      "source": [
        "# We can sort by axis\n",
        "c = np.array([[2, 4, 8], [1, 13, 7]])\n",
        "print(c)\n",
        "c.sort(axis=0) # array([[1, 4, 7], [2, 13, 8]])\n",
        "print(c)\n",
        "c = np.array([[2, 4, 8], [1, 13, 7]])\n",
        "c.sort(axis=1) # array([[2, 4, 8], [1, 7, 13]])\n",
        "print(c)"
      ]
    },
    {
      "cell_type": "markdown",
      "metadata": {},
      "source": [
        "* Locating the maximum and minimum values of a NumPy Array"
      ]
    },
    {
      "cell_type": "code",
      "execution_count": 9,
      "metadata": {
        "trusted": true
      },
      "outputs": [
        {
          "name": "stdout",
          "output_type": "stream",
          "text": [
            "[[1 2 3]\n",
            " [4 5 6]\n",
            " [7 8 9]]\n",
            "9\n",
            "1\n",
            "[7 8 9]\n",
            "[3 6 9]\n"
          ]
        }
      ],
      "source": [
        "#Create a Matrix\n",
        "matrix = np.array([[1,2,3],[4,5,6],[7,8,9]])\n",
        "print(matrix)\n",
        "#Return the max element\n",
        "print(np.max(matrix))\n",
        "#Return the min element\n",
        "print(np.min(matrix))\n",
        "#To find the max element in each column\n",
        "print(np.max(matrix,axis=0))\n",
        "#To find the max element in each row\n",
        "print(np.max(matrix,axis=1))"
      ]
    },
    {
      "cell_type": "code",
      "execution_count": 5,
      "metadata": {
        "trusted": true
      },
      "outputs": [
        {
          "name": "stdout",
          "output_type": "stream",
          "text": [
            "[ 1  8  3  5  7 18  8  1 18  0]\n",
            "18\n",
            "0\n"
          ]
        }
      ],
      "source": [
        "# Using the max(), and min(), we can get the maximum or minimum values in an array.\n",
        "arr_2 = np.random.randint(0, 20, 10)\n",
        "print(arr_2)\n",
        "print(arr_2.max()) #This gives the highest value in the array\n",
        "print(arr_2.min()) #This gives the lowest value in the array"
      ]
    },
    {
      "cell_type": "code",
      "execution_count": 6,
      "metadata": {
        "trusted": true
      },
      "outputs": [
        {
          "data": {
            "text/plain": [
              "array([[-0.11371833,  0.96990531,  0.66088987,  0.19046183],\n",
              "       [-0.75228774, -1.83431007, -0.71404906,  0.65744652]])"
            ]
          },
          "execution_count": 6,
          "metadata": {},
          "output_type": "execute_result"
        }
      ],
      "source": [
        "np.random.standard_normal((2,4)) # samples from standard normal distribution with mean and sd"
      ]
    },
    {
      "cell_type": "markdown",
      "metadata": {},
      "source": [
        "* Using the `argmax()`, `argmin()` and `argsort()` functions, we can locate the index of the maximum or minimum values in an array."
      ]
    },
    {
      "cell_type": "code",
      "execution_count": 7,
      "metadata": {
        "trusted": true
      },
      "outputs": [
        {
          "name": "stdout",
          "output_type": "stream",
          "text": [
            "5\n",
            "9\n"
          ]
        }
      ],
      "source": [
        "print(arr_2.argmax()) #This shows the index of the highest value in the array\n",
        "print(arr_2.argmin()) #This shows the index of the lowest value in the array"
      ]
    },
    {
      "cell_type": "code",
      "execution_count": 9,
      "metadata": {
        "trusted": true
      },
      "outputs": [
        {
          "name": "stdout",
          "output_type": "stream",
          "text": [
            "[ 1  8  3  5  7 18  8  1 18  0]\n",
            "[9 0 7 2 3 4 1 6 5 8]\n"
          ]
        }
      ],
      "source": [
        "print(arr_2)\n",
        "print(arr_2.argsort()) #This shows the indices of a sorted array"
      ]
    },
    {
      "cell_type": "markdown",
      "metadata": {},
      "source": [
        "*  you want to know if it’s a one-dimensional or two-dimensional array, simply use the shape attribute."
      ]
    },
    {
      "cell_type": "markdown",
      "metadata": {},
      "source": [
        "`intersect1d()`"
      ]
    },
    {
      "cell_type": "code",
      "execution_count": 10,
      "metadata": {
        "trusted": true
      },
      "outputs": [
        {
          "data": {
            "text/plain": [
              "array([2, 3])"
            ]
          },
          "execution_count": 10,
          "metadata": {},
          "output_type": "execute_result"
        }
      ],
      "source": [
        "arr1 = np.array([3,1,2,5,5])\n",
        "arr2 = np.array([3,4,4,2,4])\n",
        "np.intersect1d(arr1, arr2) #it will return the intersection of 2 arrays — meaning the items that are common in both arrays"
      ]
    },
    {
      "cell_type": "markdown",
      "metadata": {},
      "source": [
        "`allclose()`\n",
        "* It will return True if items in two arrays are equal within a tolerance. \n",
        "* It will provide you with a great way of checking if two arrays are similar"
      ]
    },
    {
      "cell_type": "code",
      "execution_count": 11,
      "metadata": {
        "trusted": true
      },
      "outputs": [],
      "source": [
        "arr1 = np.array([0.15,0.20,0.25,0.17])\n",
        "arr2 = np.array([0.14,0.21,0.27,0.15])"
      ]
    },
    {
      "cell_type": "code",
      "execution_count": 13,
      "metadata": {
        "trusted": true
      },
      "outputs": [
        {
          "name": "stdout",
          "output_type": "stream",
          "text": [
            "False\n",
            "True\n"
          ]
        }
      ],
      "source": [
        "print(np.allclose(arr1, arr2, 0.1))\n",
        "print(np.allclose(arr1, arr2, 0.2))"
      ]
    },
    {
      "cell_type": "markdown",
      "metadata": {},
      "source": [
        "## Indexing, Slicing, subsetting and broadcasting"
      ]
    },
    {
      "cell_type": "markdown",
      "metadata": {},
      "source": [
        "* 1 dimensional array"
      ]
    },
    {
      "cell_type": "markdown",
      "metadata": {},
      "source": []
    },
    {
      "cell_type": "markdown",
      "metadata": {},
      "source": [
        "** Indexing/Selecting elements or groups of elements from a NumPy array**"
      ]
    },
    {
      "cell_type": "code",
      "execution_count": 22,
      "metadata": {
        "trusted": true
      },
      "outputs": [
        {
          "data": {
            "text/plain": [
              "8"
            ]
          },
          "execution_count": 22,
          "metadata": {},
          "output_type": "execute_result"
        }
      ],
      "source": [
        "# Indexing NumPy arrays is similar to that of Python. You simply pass in the index you want.\n",
        "my_array = np.arange(0,11)\n",
        "my_array[8] #This gives us the value of element at index 8"
      ]
    },
    {
      "cell_type": "markdown",
      "metadata": {},
      "source": [
        "* To get a range of values in an array, we will use the slice notation `:`"
      ]
    },
    {
      "cell_type": "code",
      "execution_count": 6,
      "metadata": {
        "trusted": true
      },
      "outputs": [
        {
          "name": "stdout",
          "output_type": "stream",
          "text": [
            "[ 0  1  2  3  4  5  6  7  8  9 10]\n",
            "[2 3 4 5]\n",
            "[0 1 2 3 4 5]\n",
            "[ 5  6  7  8  9 10]\n"
          ]
        }
      ],
      "source": [
        "print(my_array[:])\n",
        "print(my_array[2:6]) #This returns everything from index 2 to 6(exclusive)sam\n",
        "print(my_array[:6]) #This returns everything from index 0 to 6(exclusive)\n",
        "print(my_array[5:]) #This returns everything from index 5 to the end of the array."
      ]
    },
    {
      "cell_type": "markdown",
      "metadata": {},
      "source": [
        "* negative indexing"
      ]
    },
    {
      "cell_type": "code",
      "execution_count": 7,
      "metadata": {
        "trusted": true
      },
      "outputs": [
        {
          "name": "stdout",
          "output_type": "stream",
          "text": [
            "8\n",
            "[5 6 7 8]\n"
          ]
        }
      ],
      "source": [
        "print(my_array[-3])  # negative indexing\n",
        "print(my_array[-6:-2])  # negative slicing"
      ]
    },
    {
      "cell_type": "markdown",
      "metadata": {},
      "source": [
        "* 2 dimensional array"
      ]
    },
    {
      "cell_type": "code",
      "execution_count": 8,
      "metadata": {
        "trusted": true
      },
      "outputs": [
        {
          "data": {
            "text/plain": [
              "array([[10, 20, 30],\n",
              "       [40, 50, 60],\n",
              "       [70, 80, 90]])"
            ]
          },
          "execution_count": 8,
          "metadata": {},
          "output_type": "execute_result"
        }
      ],
      "source": [
        "# Using the double bracket notation, we will grab the value ‘60’ from the 2-d array below:\n",
        "two_d_arr = np.array([[10,20,30], [40,50,60], [70,80,90]])\n",
        "two_d_arr"
      ]
    },
    {
      "cell_type": "markdown",
      "metadata": {},
      "source": [
        "*Similarly, we can select elements in a 2-d array using either the single or double bracket `[,]` , `[][]` notation or the single bracket with colon combination `[:,:]` notation.*\n",
        "\n"
      ]
    },
    {
      "cell_type": "markdown",
      "metadata": {},
      "source": [
        "* single element"
      ]
    },
    {
      "cell_type": "code",
      "execution_count": 16,
      "metadata": {
        "trusted": true
      },
      "outputs": [
        {
          "name": "stdout",
          "output_type": "stream",
          "text": [
            "60\n",
            "60\n"
          ]
        }
      ],
      "source": [
        "print(two_d_arr[1][2]) #The value 60 appears is in row index 1, and column index 2\n",
        "print(two_d_arr[1,2])"
      ]
    },
    {
      "cell_type": "markdown",
      "metadata": {},
      "source": [
        "* rows extraction"
      ]
    },
    {
      "cell_type": "code",
      "execution_count": 25,
      "metadata": {
        "trusted": true
      },
      "outputs": [
        {
          "data": {
            "text/plain": [
              "array([10, 20, 30])"
            ]
          },
          "execution_count": 25,
          "metadata": {},
          "output_type": "execute_result"
        }
      ],
      "source": [
        "two_d_arr[0] #This grabs row 0 of the array ([10, 20, 30])"
      ]
    },
    {
      "cell_type": "code",
      "execution_count": 26,
      "metadata": {
        "trusted": true
      },
      "outputs": [
        {
          "data": {
            "text/plain": [
              "array([70, 80, 90])"
            ]
          },
          "execution_count": 26,
          "metadata": {},
          "output_type": "execute_result"
        }
      ],
      "source": [
        "two_d_arr[2]"
      ]
    },
    {
      "cell_type": "code",
      "execution_count": 10,
      "metadata": {
        "scrolled": true,
        "trusted": true
      },
      "outputs": [
        {
          "data": {
            "text/plain": [
              "array([[10, 20, 30],\n",
              "       [40, 50, 60],\n",
              "       [70, 80, 90]])"
            ]
          },
          "execution_count": 10,
          "metadata": {},
          "output_type": "execute_result"
        }
      ],
      "source": [
        "two_d_arr[:] # extracting all rows"
      ]
    },
    {
      "cell_type": "code",
      "execution_count": 13,
      "metadata": {
        "scrolled": true,
        "trusted": true
      },
      "outputs": [
        {
          "data": {
            "text/plain": [
              "array([[10, 20, 30],\n",
              "       [40, 50, 60]])"
            ]
          },
          "execution_count": 13,
          "metadata": {},
          "output_type": "execute_result"
        }
      ],
      "source": [
        "two_d_arr[:2]"
      ]
    },
    {
      "cell_type": "code",
      "execution_count": 14,
      "metadata": {
        "trusted": true
      },
      "outputs": [
        {
          "data": {
            "text/plain": [
              "array([[70, 80, 90]])"
            ]
          },
          "execution_count": 14,
          "metadata": {},
          "output_type": "execute_result"
        }
      ],
      "source": [
        "two_d_arr[2:]"
      ]
    },
    {
      "cell_type": "code",
      "execution_count": 11,
      "metadata": {
        "scrolled": true,
        "trusted": true
      },
      "outputs": [
        {
          "data": {
            "text/plain": [
              "array([[40, 50, 60],\n",
              "       [70, 80, 90]])"
            ]
          },
          "execution_count": 11,
          "metadata": {},
          "output_type": "execute_result"
        }
      ],
      "source": [
        "two_d_arr[1:3]"
      ]
    },
    {
      "cell_type": "markdown",
      "metadata": {},
      "source": [
        "**subsetting**"
      ]
    },
    {
      "cell_type": "code",
      "execution_count": 17,
      "metadata": {
        "trusted": true
      },
      "outputs": [
        {
          "data": {
            "text/plain": [
              "array([[10, 20, 30],\n",
              "       [40, 50, 60],\n",
              "       [70, 80, 90]])"
            ]
          },
          "execution_count": 17,
          "metadata": {},
          "output_type": "execute_result"
        }
      ],
      "source": [
        "two_d_arr[:,:]"
      ]
    },
    {
      "cell_type": "code",
      "execution_count": 19,
      "metadata": {
        "trusted": true
      },
      "outputs": [
        {
          "name": "stdout",
          "output_type": "stream",
          "text": [
            "[[10 20]]\n"
          ]
        }
      ],
      "source": [
        "# We can also go further to grab subsections of a 2-d array using the slice notation. Let’s\n",
        "# grab some elements in some corners of the array:\n",
        "print(two_d_arr[:1, :2]) # This returns [[10, 20]]"
      ]
    },
    {
      "cell_type": "code",
      "execution_count": 20,
      "metadata": {
        "trusted": true
      },
      "outputs": [
        {
          "name": "stdout",
          "output_type": "stream",
          "text": [
            "[[20 30]\n",
            " [50 60]]\n"
          ]
        }
      ],
      "source": [
        "print(two_d_arr[:2, 1:]) # This returns ([[20, 30], [50, 60]])"
      ]
    },
    {
      "cell_type": "code",
      "execution_count": 21,
      "metadata": {
        "scrolled": true,
        "trusted": true
      },
      "outputs": [
        {
          "name": "stdout",
          "output_type": "stream",
          "text": [
            "[[10 20]\n",
            " [40 50]]\n"
          ]
        }
      ],
      "source": [
        "print(two_d_arr[:2, :2]) #This returns ([[10, 20], [40, 50]])"
      ]
    },
    {
      "cell_type": "code",
      "execution_count": 22,
      "metadata": {
        "trusted": true
      },
      "outputs": [
        {
          "name": "stdout",
          "output_type": "stream",
          "text": [
            "[[40 50]]\n"
          ]
        }
      ],
      "source": [
        "print(two_d_arr[1:2, :2])"
      ]
    },
    {
      "cell_type": "code",
      "execution_count": 23,
      "metadata": {
        "trusted": true
      },
      "outputs": [
        {
          "name": "stdout",
          "output_type": "stream",
          "text": [
            "[[20]\n",
            " [50]]\n"
          ]
        }
      ],
      "source": [
        "print(two_d_arr[:2, 1:2])"
      ]
    },
    {
      "cell_type": "code",
      "execution_count": 24,
      "metadata": {
        "trusted": true
      },
      "outputs": [
        {
          "name": "stdout",
          "output_type": "stream",
          "text": [
            "[[50]]\n"
          ]
        }
      ],
      "source": [
        "print(two_d_arr[1:2, 1:2])"
      ]
    },
    {
      "cell_type": "markdown",
      "metadata": {},
      "source": [
        "**Broadcasting**\n",
        "* Broadcasting is a concept to do some operations even if the dimension of two arrays is not similar.\n",
        "* Broadcasting is more like an automatic array allocation. \n",
        "* Broadcasting is more like magically performing the array expansion to perform some arithmetic operations such as addition.\n",
        "* we will try to match up the elements using certain rules. Few essential steps involved in broadcasting are:"
      ]
    },
    {
      "cell_type": "markdown",
      "metadata": {},
      "source": [
        "* Compare the last dimension of each array\n",
        "* If lengths of the dimension are equal, or one of the dimension lengths is 1, then we keep working\n",
        "* If lengths of dimension aren’t equal, and none of the dimension lengths is 1, then there is an error\n",
        "* Repeat checking dimensions until the shortest array is out of dimensions."
      ]
    },
    {
      "cell_type": "code",
      "execution_count": 5,
      "metadata": {
        "scrolled": false,
        "trusted": true
      },
      "outputs": [
        {
          "name": "stdout",
          "output_type": "stream",
          "text": [
            "[50 50 50  3  4  5  6  7  8  9 10]\n"
          ]
        }
      ],
      "source": [
        "my_array = np.arange(0,11)\n",
        "# Broadcasting is a quick way to change the values of a NumPy array.\n",
        "my_array[0:3] = 50\n",
        "print(my_array)\n",
        "#Result is: [50, 50, 50, 3, 4, 5, 6, 7, 8, 9, 10]\n",
        "# In this example, we changed the values of the elements in index 0 to 3 from their initial values to 50."
      ]
    },
    {
      "cell_type": "markdown",
      "metadata": {},
      "source": [
        "* We can also perform scalar operations on an array. NumPy makes it possible through broadcasting."
      ]
    },
    {
      "cell_type": "code",
      "execution_count": 7,
      "metadata": {
        "scrolled": true,
        "trusted": true
      },
      "outputs": [
        {
          "name": "stdout",
          "output_type": "stream",
          "text": [
            "[0.74538798 0.4848558  0.57350799 0.59707832 0.31938411 0.73368175\n",
            " 0.63971322 0.48766091 0.67838344 0.61213715 0.791488   0.8277216\n",
            " 0.07948524 0.41983281 0.54195906 0.19846198 0.16069573 0.68326314\n",
            " 0.91688731 0.4375368  0.50343994 0.20136483 0.51289335 0.32150746\n",
            " 0.73900913]\n"
          ]
        },
        {
          "data": {
            "text/plain": [
              "array([50.74538798, 50.4848558 , 50.57350799, 50.59707832, 50.31938411,\n",
              "       50.73368175, 50.63971322, 50.48766091, 50.67838344, 50.61213715,\n",
              "       50.791488  , 50.8277216 , 50.07948524, 50.41983281, 50.54195906,\n",
              "       50.19846198, 50.16069573, 50.68326314, 50.91688731, 50.4375368 ,\n",
              "       50.50343994, 50.20136483, 50.51289335, 50.32150746, 50.73900913])"
            ]
          },
          "execution_count": 7,
          "metadata": {},
          "output_type": "execute_result"
        }
      ],
      "source": [
        "arr = np.random.rand(25)\n",
        "print(arr)\n",
        "arr + 50 #This adds 50 to every element in that array"
      ]
    },
    {
      "cell_type": "code",
      "execution_count": 1,
      "metadata": {
        "trusted": true
      },
      "outputs": [
        {
          "name": "stdout",
          "output_type": "stream",
          "text": [
            "[[ 7  9 11]\n",
            " [10 12 14]]\n"
          ]
        }
      ],
      "source": [
        "import numpy as np\n",
        "x = np.array([[0,1,2],\n",
        "             [3,4,5]])\n",
        "y = np.array([7,8,9])\n",
        "z = x+y\n",
        "print(z)"
      ]
    },
    {
      "cell_type": "code",
      "execution_count": 2,
      "metadata": {
        "trusted": true
      },
      "outputs": [
        {
          "data": {
            "text/plain": [
              "array([[ 8,  6],\n",
              "       [10,  9]])"
            ]
          },
          "execution_count": 2,
          "metadata": {},
          "output_type": "execute_result"
        }
      ],
      "source": [
        "X_array = np.array(\n",
        "    [\n",
        "        [3,4],\n",
        "        [5,7]\n",
        "    ]\n",
        ")\n",
        "Y_array = np.array([5,2])\n",
        "X_array + Y_array"
      ]
    },
    {
      "cell_type": "markdown",
      "metadata": {},
      "source": [
        "**Using logical condition values extraction**"
      ]
    },
    {
      "cell_type": "code",
      "execution_count": 21,
      "metadata": {},
      "outputs": [
        {
          "data": {
            "text/plain": [
              "array([11, 12, 13, 14])"
            ]
          },
          "execution_count": 21,
          "metadata": {},
          "output_type": "execute_result"
        }
      ],
      "source": [
        "# We can also perform conditional and logical selections on arrays using & (AND), | (OR), <, > and == operators to compare the values in the array with the given value. Here’s how:\n",
        "new_arr = np.arange(5,15)\n",
        "new_arr > 10 #This returns TRUE where the elements are greater than 10 [False, False, False, False, False, False, True, True, True, True]\n",
        "# Now we can print out the actual elements that were TRUE in the above conditional using:\n",
        "bool_arr = new_arr > 10\n",
        "new_arr[bool_arr] #This returns elements greater than 10 [11, 12, 13, 14]\n",
        "new_arr[new_arr>10] #A shorter way to do what we have just done"
      ]
    },
    {
      "cell_type": "markdown",
      "metadata": {},
      "source": [
        "* Using a combination of conditional and Logical& (AND) operators, we can get elements that are greater than 6 but less than 10."
      ]
    },
    {
      "cell_type": "code",
      "execution_count": 22,
      "metadata": {},
      "outputs": [
        {
          "data": {
            "text/plain": [
              "array([7, 8, 9])"
            ]
          },
          "execution_count": 22,
          "metadata": {},
          "output_type": "execute_result"
        }
      ],
      "source": [
        "new_arr[(new_arr>6) & (new_arr<10)]\n",
        "# Our expected result is: ([7, 8, 9])"
      ]
    },
    {
      "cell_type": "code",
      "execution_count": 2,
      "metadata": {
        "trusted": true
      },
      "outputs": [
        {
          "name": "stdout",
          "output_type": "stream",
          "text": [
            "[10 15 20 25 30 35 40 45 50 55 60 65 70 75 80 85 90 95]\n"
          ]
        }
      ],
      "source": [
        "import numpy as np\n",
        "c = np.arange(10, 100, 5)\n",
        "print(c)"
      ]
    },
    {
      "cell_type": "code",
      "execution_count": 4,
      "metadata": {
        "trusted": true
      },
      "outputs": [
        {
          "data": {
            "text/plain": [
              "array([False, False, False, False, False, False, False, False,  True,\n",
              "        True,  True,  True,  True,  True,  True,  True,  True,  True])"
            ]
          },
          "execution_count": 4,
          "metadata": {},
          "output_type": "execute_result"
        }
      ],
      "source": [
        "# boolean condition for each value \n",
        "c>49"
      ]
    },
    {
      "cell_type": "code",
      "execution_count": 5,
      "metadata": {
        "run_control": {
          "marked": false
        },
        "trusted": true
      },
      "outputs": [
        {
          "data": {
            "text/plain": [
              "array([50, 55, 60, 65, 70, 75, 80, 85, 90, 95])"
            ]
          },
          "execution_count": 5,
          "metadata": {},
          "output_type": "execute_result"
        }
      ],
      "source": [
        "# display the vales which satisfy the boolean condition\n",
        "c[c>49]"
      ]
    },
    {
      "cell_type": "code",
      "execution_count": 9,
      "metadata": {
        "trusted": true
      },
      "outputs": [],
      "source": [
        "# logical and condition\n",
        "Bgrade = np.logical_and(c>20, c<=60)"
      ]
    },
    {
      "cell_type": "code",
      "execution_count": 10,
      "metadata": {
        "trusted": true
      },
      "outputs": [
        {
          "data": {
            "text/plain": [
              "array([25, 30, 35, 40, 45, 50, 55, 60])"
            ]
          },
          "execution_count": 10,
          "metadata": {},
          "output_type": "execute_result"
        }
      ],
      "source": [
        "c[Bgrade]"
      ]
    },
    {
      "cell_type": "code",
      "execution_count": 12,
      "metadata": {
        "trusted": true
      },
      "outputs": [
        {
          "data": {
            "text/plain": [
              "array(['NA', 'NA', 'NA', '25', '30', '35', '40', '45', '50', '55', '60',\n",
              "       '65', '70', '75', '80', '85', '90', '95'], dtype='<U21')"
            ]
          },
          "execution_count": 12,
          "metadata": {},
          "output_type": "execute_result"
        }
      ],
      "source": [
        "# using where condiction replace the condition satisfied value with 'NA'\n",
        "val = np.where(c>20, c, 'NA')\n",
        "val"
      ]
    },
    {
      "cell_type": "code",
      "execution_count": 4,
      "metadata": {
        "trusted": true
      },
      "outputs": [
        {
          "data": {
            "text/plain": [
              "array(['no', 'no', 'no', 'yes', 'yes', 'yes', 'yes', 'yes', 'yes', 'yes',\n",
              "       'yes', 'yes', 'yes', 'yes', 'yes', 'yes', 'yes', 'yes'],\n",
              "      dtype='<U3')"
            ]
          },
          "execution_count": 4,
          "metadata": {},
          "output_type": "execute_result"
        }
      ],
      "source": [
        "val = np.where(c>20, \"yes\", 'no')\n",
        "val"
      ]
    },
    {
      "cell_type": "markdown",
      "metadata": {},
      "source": [
        "* Performing arithmetic operations on NumPy Arrays"
      ]
    },
    {
      "cell_type": "code",
      "execution_count": 24,
      "metadata": {},
      "outputs": [
        {
          "data": {
            "text/plain": [
              "array([1., 1., 1., 1., 1., 1., 1., 1., 1., 1.])"
            ]
          },
          "execution_count": 24,
          "metadata": {},
          "output_type": "execute_result"
        }
      ],
      "source": [
        "arr = np.arange(1,11)\n",
        "arr * arr #Multiplies each element by itself\n",
        "arr - arr #Subtracts each element from itself\n",
        "arr + arr #Adds each element to itself\n",
        "arr / arr #Divides each element by itself"
      ]
    },
    {
      "cell_type": "markdown",
      "metadata": {},
      "source": [
        "* Numpy also let’s you perform universal functions such as square roots, exponentials, trigonometric, etc on array"
      ]
    },
    {
      "cell_type": "code",
      "execution_count": 27,
      "metadata": {},
      "outputs": [
        {
          "data": {
            "text/plain": [
              "2.8722813232690143"
            ]
          },
          "execution_count": 27,
          "metadata": {},
          "output_type": "execute_result"
        }
      ],
      "source": [
        "np.sqrt(arr) #Returns the square root of each element\n",
        "np.exp(arr) #Returns the exponentials of each element\n",
        "np.sin(arr) #Returns the sin of each element\n",
        "np.cos(arr) #Returns the cosine of each element\n",
        "np.log(arr) #Returns the logarithm of each element\n",
        "np.sum(arr) #Returns the sum total of elements in the array\n",
        "np.std(arr) #Returns the standard deviation of in the array"
      ]
    },
    {
      "cell_type": "markdown",
      "metadata": {},
      "source": [
        "* We can also grab the sum of columns or rows in a 2-d array:"
      ]
    },
    {
      "cell_type": "code",
      "execution_count": 13,
      "metadata": {
        "scrolled": false,
        "trusted": true
      },
      "outputs": [
        {
          "data": {
            "text/plain": [
              "array([ 15,  40,  65,  90, 115])"
            ]
          },
          "execution_count": 13,
          "metadata": {},
          "output_type": "execute_result"
        }
      ],
      "source": [
        "mat = np.arange(1,26).reshape(5,5)\n",
        "mat.sum() #Returns the sum of all the values in mat\n",
        "mat.sum(axis=0) #Returns the sum of all the columns in mat (lookat top to bottom)\n",
        "mat.sum(axis=1) #Returns the sum of all the rows in mat (lookat left to right) "
      ]
    },
    {
      "cell_type": "markdown",
      "metadata": {},
      "source": [
        "## N-dimensional array"
      ]
    },
    {
      "cell_type": "code",
      "execution_count": 3,
      "metadata": {},
      "outputs": [],
      "source": [
        "    #Creating a three dimensional array and access elements\n",
        "tdarray = np.array([[['1','2','3'],['a','b','c']],[['4','5','6'],['d','e','f']],[['7','8','9'],['g','h','i']]])\n",
        "    # or\n",
        "a3 = np.array([[[10, 11, 12], [13, 14, 15], [16, 17, 18]],\n",
        "            [[20, 21, 22], [23, 24, 25], [26, 27, 28]],\n",
        "            [[30, 31, 32], [33, 34, 35], [36, 37, 38]]])"
      ]
    },
    {
      "cell_type": "markdown",
      "metadata": {},
      "source": [
        "![Imgur](https://i.imgur.com/K5dSc49.png)"
      ]
    },
    {
      "cell_type": "markdown",
      "metadata": {},
      "source": [
        "* The rows are indicated as the “axis 0”\n",
        "* The columns are the “axis 1”. \n",
        "* The number of the axis goes up accordingly with the number of the dimensions\n",
        "* in 3-D arrays, you’ll have an additional “axis 2"
      ]
    },
    {
      "cell_type": "code",
      "execution_count": 11,
      "metadata": {},
      "outputs": [
        {
          "data": {
            "text/plain": [
              "array([[['1', '2', '3'],\n",
              "        ['a', 'b', 'c']],\n",
              "\n",
              "       [['4', '5', '6'],\n",
              "        ['d', 'e', 'f']],\n",
              "\n",
              "       [['7', '8', '9'],\n",
              "        ['g', 'h', 'i']]], dtype='<U1')"
            ]
          },
          "execution_count": 11,
          "metadata": {},
          "output_type": "execute_result"
        }
      ],
      "source": [
        "tdarray"
      ]
    },
    {
      "cell_type": "code",
      "execution_count": 21,
      "metadata": {},
      "outputs": [
        {
          "name": "stdout",
          "output_type": "stream",
          "text": [
            "<class 'numpy.ndarray'>\n",
            "<U1\n",
            "3 (3, 2, 3) 18\n"
          ]
        }
      ],
      "source": [
        "print(type(tdarray))\n",
        "print(tdarray.dtype)\n",
        "print(tdarray.ndim, tdarray.shape,tdarray.size)"
      ]
    },
    {
      "cell_type": "markdown",
      "metadata": {},
      "source": [
        "**3 dimensional array Elements accessing**"
      ]
    },
    {
      "cell_type": "code",
      "execution_count": 4,
      "metadata": {},
      "outputs": [
        {
          "data": {
            "text/plain": [
              "array([['1', '2', '3'],\n",
              "       ['a', 'b', 'c']], dtype='<U1')"
            ]
          },
          "execution_count": 4,
          "metadata": {},
          "output_type": "execute_result"
        }
      ],
      "source": [
        "tdarray[0]"
      ]
    },
    {
      "cell_type": "code",
      "execution_count": 5,
      "metadata": {},
      "outputs": [
        {
          "data": {
            "text/plain": [
              "array([['4', '5', '6'],\n",
              "       ['d', 'e', 'f']], dtype='<U1')"
            ]
          },
          "execution_count": 5,
          "metadata": {},
          "output_type": "execute_result"
        }
      ],
      "source": [
        "tdarray[1]"
      ]
    },
    {
      "cell_type": "code",
      "execution_count": 6,
      "metadata": {},
      "outputs": [
        {
          "data": {
            "text/plain": [
              "array([['7', '8', '9'],\n",
              "       ['g', 'h', 'i']], dtype='<U1')"
            ]
          },
          "execution_count": 6,
          "metadata": {},
          "output_type": "execute_result"
        }
      ],
      "source": [
        "tdarray[2]"
      ]
    },
    {
      "cell_type": "code",
      "execution_count": 7,
      "metadata": {},
      "outputs": [
        {
          "data": {
            "text/plain": [
              "array(['1', '2', '3'], dtype='<U1')"
            ]
          },
          "execution_count": 7,
          "metadata": {},
          "output_type": "execute_result"
        }
      ],
      "source": [
        "tdarray[0,0]"
      ]
    },
    {
      "cell_type": "code",
      "execution_count": null,
      "metadata": {},
      "outputs": [],
      "source": [
        "# or\n",
        "tdarray[0][0]"
      ]
    },
    {
      "cell_type": "code",
      "execution_count": 9,
      "metadata": {},
      "outputs": [
        {
          "data": {
            "text/plain": [
              "'1'"
            ]
          },
          "execution_count": 9,
          "metadata": {},
          "output_type": "execute_result"
        }
      ],
      "source": [
        "tdarray[0][0][0]"
      ]
    },
    {
      "cell_type": "code",
      "execution_count": 10,
      "metadata": {},
      "outputs": [
        {
          "data": {
            "text/plain": [
              "'1'"
            ]
          },
          "execution_count": 10,
          "metadata": {},
          "output_type": "execute_result"
        }
      ],
      "source": [
        "tdarray[0,0,0]"
      ]
    },
    {
      "cell_type": "code",
      "execution_count": 12,
      "metadata": {},
      "outputs": [
        {
          "data": {
            "text/plain": [
              "'h'"
            ]
          },
          "execution_count": 12,
          "metadata": {},
          "output_type": "execute_result"
        }
      ],
      "source": [
        "# to access 'h'\n",
        "tdarray[2,1,1]"
      ]
    },
    {
      "cell_type": "markdown",
      "metadata": {},
      "source": [
        "**Slicing**"
      ]
    },
    {
      "cell_type": "code",
      "execution_count": 16,
      "metadata": {},
      "outputs": [
        {
          "data": {
            "text/plain": [
              "array([[['1', '2', '3'],\n",
              "        ['a', 'b', 'c']],\n",
              "\n",
              "       [['4', '5', '6'],\n",
              "        ['d', 'e', 'f']],\n",
              "\n",
              "       [['7', '8', '9'],\n",
              "        ['g', 'h', 'i']]], dtype='<U1')"
            ]
          },
          "execution_count": 16,
          "metadata": {},
          "output_type": "execute_result"
        }
      ],
      "source": [
        "tdarray[:,:,:]"
      ]
    },
    {
      "cell_type": "code",
      "execution_count": 13,
      "metadata": {},
      "outputs": [
        {
          "data": {
            "text/plain": [
              "array(['g', 'h', 'i'], dtype='<U1')"
            ]
          },
          "execution_count": 13,
          "metadata": {},
          "output_type": "execute_result"
        }
      ],
      "source": [
        "tdarray[2,1,:]"
      ]
    },
    {
      "cell_type": "code",
      "execution_count": 14,
      "metadata": {
        "scrolled": true
      },
      "outputs": [
        {
          "data": {
            "text/plain": [
              "array(['8', 'h'], dtype='<U1')"
            ]
          },
          "execution_count": 14,
          "metadata": {},
          "output_type": "execute_result"
        }
      ],
      "source": [
        "tdarray[2,:,1]"
      ]
    },
    {
      "cell_type": "markdown",
      "metadata": {},
      "source": [
        "## Change or adjust dimensions (3 or more)\n",
        "### Using resize()"
      ]
    },
    {
      "cell_type": "markdown",
      "metadata": {},
      "source": [
        "* To shrink or expand the array"
      ]
    },
    {
      "cell_type": "code",
      "execution_count": 4,
      "metadata": {
        "scrolled": true
      },
      "outputs": [
        {
          "name": "stdout",
          "output_type": "stream",
          "text": [
            "[[[0.40353819 0.05528676 0.47539283 0.64737901 0.46483855 0.31439084\n",
            "   0.62957218 0.1161248  0.26297632 0.84083284]\n",
            "  [0.50015491 0.09062982 0.54673576 0.29298789 0.26573942 0.26738979\n",
            "   0.51399319 0.71953138 0.98333652 0.86675256]\n",
            "  [0.45571546 0.8984992  0.52856006 0.72164108 0.96623463 0.94261075\n",
            "   0.15380992 0.004293   0.93586161 0.343828  ]\n",
            "  [0.98829894 0.29260247 0.38570089 0.69609562 0.26024453 0.39123467\n",
            "   0.44774891 0.52133301 0.65665645 0.25176009]]\n",
            "\n",
            " [[0.27957055 0.49168639 0.8946928  0.5833772  0.05765919 0.26394338\n",
            "   0.97567496 0.43250062 0.39834832 0.05439809]\n",
            "  [0.55599498 0.56589417 0.77349676 0.88183677 0.25026648 0.45749426\n",
            "   0.32643375 0.43095187 0.10294474 0.65824471]\n",
            "  [0.68968503 0.04100315 0.10187313 0.78897003 0.74255229 0.1604102\n",
            "   0.42490953 0.85531747 0.33503018 0.5633139 ]\n",
            "  [0.03650715 0.81730912 0.65173041 0.97130459 0.32322044 0.56829712\n",
            "   0.12810948 0.19112938 0.47111464 0.61507789]]\n",
            "\n",
            " [[0.66712383 0.82875786 0.84064653 0.93893749 0.65942758 0.89083158\n",
            "   0.42880108 0.84709701 0.70234023 0.95053371]\n",
            "  [0.23586108 0.96110836 0.76633908 0.70356085 0.22025884 0.39635786\n",
            "   0.51277981 0.29013582 0.04805768 0.28712194]\n",
            "  [0.02552483 0.01992847 0.47553903 0.42544829 0.02013462 0.19720658\n",
            "   0.47419211 0.6275017  0.44606054 0.06424655]\n",
            "  [0.80452261 0.80502033 0.02509885 0.34745378 0.40903299 0.45506615\n",
            "   0.24388941 0.85422138 0.35149018 0.08204864]]]\n"
          ]
        }
      ],
      "source": [
        "arr = np.random.rand(120)\n",
        "# Change shape and size of array in-place.\n",
        "arr.resize(3,4,10) # changing to 3 dimensions\n",
        "print(arr)"
      ]
    },
    {
      "cell_type": "code",
      "execution_count": 6,
      "metadata": {
        "scrolled": true
      },
      "outputs": [
        {
          "name": "stdout",
          "output_type": "stream",
          "text": [
            "0.4035381852456362\n",
            "0.5001549081225771\n",
            "0.055286758842339134\n",
            "0.5559949836477687\n",
            "0.4557154627349538\n"
          ]
        }
      ],
      "source": [
        "print(arr[0,0,0]) \n",
        "print(arr[0,1,0]) \n",
        "print(arr[0,0,1]) \n",
        "print(arr[1,1,0])\n",
        "print(arr[0,2,0]) "
      ]
    },
    {
      "cell_type": "code",
      "execution_count": 21,
      "metadata": {},
      "outputs": [
        {
          "name": "stdout",
          "output_type": "stream",
          "text": [
            "[[[[0.40353819 0.05528676]\n",
            "   [0.47539283 0.64737901]\n",
            "   [0.46483855 0.31439084]\n",
            "   [0.62957218 0.1161248 ]\n",
            "   [0.26297632 0.84083284]]\n",
            "\n",
            "  [[0.50015491 0.09062982]\n",
            "   [0.54673576 0.29298789]\n",
            "   [0.26573942 0.26738979]\n",
            "   [0.51399319 0.71953138]\n",
            "   [0.98333652 0.86675256]]\n",
            "\n",
            "  [[0.45571546 0.8984992 ]\n",
            "   [0.52856006 0.72164108]\n",
            "   [0.96623463 0.94261075]\n",
            "   [0.15380992 0.004293  ]\n",
            "   [0.93586161 0.343828  ]]\n",
            "\n",
            "  [[0.98829894 0.29260247]\n",
            "   [0.38570089 0.69609562]\n",
            "   [0.26024453 0.39123467]\n",
            "   [0.44774891 0.52133301]\n",
            "   [0.65665645 0.25176009]]]\n",
            "\n",
            "\n",
            " [[[0.27957055 0.49168639]\n",
            "   [0.8946928  0.5833772 ]\n",
            "   [0.05765919 0.26394338]\n",
            "   [0.97567496 0.43250062]\n",
            "   [0.39834832 0.05439809]]\n",
            "\n",
            "  [[0.55599498 0.56589417]\n",
            "   [0.77349676 0.88183677]\n",
            "   [0.25026648 0.45749426]\n",
            "   [0.32643375 0.43095187]\n",
            "   [0.10294474 0.65824471]]\n",
            "\n",
            "  [[0.68968503 0.04100315]\n",
            "   [0.10187313 0.78897003]\n",
            "   [0.74255229 0.1604102 ]\n",
            "   [0.42490953 0.85531747]\n",
            "   [0.33503018 0.5633139 ]]\n",
            "\n",
            "  [[0.03650715 0.81730912]\n",
            "   [0.65173041 0.97130459]\n",
            "   [0.32322044 0.56829712]\n",
            "   [0.12810948 0.19112938]\n",
            "   [0.47111464 0.61507789]]]\n",
            "\n",
            "\n",
            " [[[0.66712383 0.82875786]\n",
            "   [0.84064653 0.93893749]\n",
            "   [0.65942758 0.89083158]\n",
            "   [0.42880108 0.84709701]\n",
            "   [0.70234023 0.95053371]]\n",
            "\n",
            "  [[0.23586108 0.96110836]\n",
            "   [0.76633908 0.70356085]\n",
            "   [0.22025884 0.39635786]\n",
            "   [0.51277981 0.29013582]\n",
            "   [0.04805768 0.28712194]]\n",
            "\n",
            "  [[0.02552483 0.01992847]\n",
            "   [0.47553903 0.42544829]\n",
            "   [0.02013462 0.19720658]\n",
            "   [0.47419211 0.6275017 ]\n",
            "   [0.44606054 0.06424655]]\n",
            "\n",
            "  [[0.80452261 0.80502033]\n",
            "   [0.02509885 0.34745378]\n",
            "   [0.40903299 0.45506615]\n",
            "   [0.24388941 0.85422138]\n",
            "   [0.35149018 0.08204864]]]]\n"
          ]
        }
      ],
      "source": [
        "arr.resize(3,4,5,2) # changing to 4 dimensions\n",
        "print(arr)"
      ]
    },
    {
      "cell_type": "code",
      "execution_count": 16,
      "metadata": {},
      "outputs": [
        {
          "name": "stdout",
          "output_type": "stream",
          "text": [
            "0.4035381852456362\n"
          ]
        }
      ],
      "source": [
        "print(arr[0,0,0,0]) \n",
        "\n",
        "print(arr[0,0,1,0]) \n",
        "\n",
        "print(arr[0,0,1,1]) \n",
        "\n",
        "print(arr[1,1,0,1])\n",
        "\n",
        "print(arr[0,0,0,2]) "
      ]
    },
    {
      "cell_type": "markdown",
      "metadata": {},
      "source": [
        "**4D numpy array indexing:**  \n",
        "https://stackoverflow.com/questions/47143361/explain-this-4d-numpy-array-indexing-intuitively  \n",
        "**Indexing and slicing numpy arrays:**  \n",
        "https://www.pythoninformer.com/python-libraries/numpy/index-and-slice/  "
      ]
    },
    {
      "cell_type": "markdown",
      "metadata": {},
      "source": [
        "### Using reshape"
      ]
    },
    {
      "cell_type": "markdown",
      "metadata": {},
      "source": [
        "* Returns an array containing the same data with a new shape.\n",
        "* numpy allow us to give one of new shape parameter as -1 \n",
        "* It simply means that it is an unknown dimension and we want numpy to figure it out. And numpy will figure this by looking at the 'length of the array and remaining dimensions'"
      ]
    },
    {
      "cell_type": "code",
      "execution_count": 1,
      "metadata": {
        "trusted": true
      },
      "outputs": [
        {
          "ename": "NameError",
          "evalue": "name 'np' is not defined",
          "output_type": "error",
          "traceback": [
            "\u001b[0;31m---------------------------------------------------------------------------\u001b[0m",
            "\u001b[0;31mNameError\u001b[0m                                 Traceback (most recent call last)",
            "\u001b[0;32m<ipython-input-1-74848fbf586d>\u001b[0m in \u001b[0;36m<module>\u001b[0;34m()\u001b[0m\n\u001b[0;32m----> 1\u001b[0;31m z = np.array([[1, 2, 3, 4],\n\u001b[0m\u001b[1;32m      2\u001b[0m          \u001b[0;34m[\u001b[0m\u001b[0;36m5\u001b[0m\u001b[0;34m,\u001b[0m \u001b[0;36m6\u001b[0m\u001b[0;34m,\u001b[0m \u001b[0;36m7\u001b[0m\u001b[0;34m,\u001b[0m \u001b[0;36m8\u001b[0m\u001b[0;34m]\u001b[0m\u001b[0;34m,\u001b[0m\u001b[0;34m\u001b[0m\u001b[0m\n\u001b[1;32m      3\u001b[0m          [9, 10, 11, 12]])\n\u001b[1;32m      4\u001b[0m \u001b[0mz\u001b[0m\u001b[0;34m.\u001b[0m\u001b[0mshape\u001b[0m\u001b[0;34m\u001b[0m\u001b[0m\n",
            "\u001b[0;31mNameError\u001b[0m: name 'np' is not defined"
          ]
        }
      ],
      "source": [
        "z = np.array([[1, 2, 3, 4],\n",
        "         [5, 6, 7, 8],\n",
        "         [9, 10, 11, 12]])\n",
        "z.shape"
      ]
    },
    {
      "cell_type": "code",
      "execution_count": 4,
      "metadata": {},
      "outputs": [
        {
          "data": {
            "text/plain": [
              "array([ 1,  2,  3,  4,  5,  6,  7,  8,  9, 10, 11, 12])"
            ]
          },
          "execution_count": 4,
          "metadata": {},
          "output_type": "execute_result"
        }
      ],
      "source": [
        "# Now trying to reshape with (-1) . Result new shape is (12,) and is compatible with original shape (3,4)\n",
        "z.reshape(-1)"
      ]
    },
    {
      "cell_type": "code",
      "execution_count": 5,
      "metadata": {},
      "outputs": [
        {
          "data": {
            "text/plain": [
              "array([[ 1],\n",
              "       [ 2],\n",
              "       [ 3],\n",
              "       [ 4],\n",
              "       [ 5],\n",
              "       [ 6],\n",
              "       [ 7],\n",
              "       [ 8],\n",
              "       [ 9],\n",
              "       [10],\n",
              "       [11],\n",
              "       [12]])"
            ]
          },
          "execution_count": 5,
          "metadata": {},
          "output_type": "execute_result"
        }
      ],
      "source": [
        "# Now trying to reshape with (-1, 1) . We have provided column as 1 but rows as unknown . \n",
        "# So we get result new shape as (12, 1).again compatible with original shape(3,4)\n",
        "z.reshape(-1,1)"
      ]
    },
    {
      "cell_type": "code",
      "execution_count": 6,
      "metadata": {},
      "outputs": [
        {
          "data": {
            "text/plain": [
              "array([[ 1,  2],\n",
              "       [ 3,  4],\n",
              "       [ 5,  6],\n",
              "       [ 7,  8],\n",
              "       [ 9, 10],\n",
              "       [11, 12]])"
            ]
          },
          "execution_count": 6,
          "metadata": {},
          "output_type": "execute_result"
        }
      ],
      "source": [
        "# New shape as (-1, 2). row unknown, column 2. we get result new shape as (6, 2)\n",
        "z.reshape(-1, 2)"
      ]
    },
    {
      "cell_type": "code",
      "execution_count": 7,
      "metadata": {},
      "outputs": [
        {
          "data": {
            "text/plain": [
              "array([[ 1,  2,  3,  4,  5,  6,  7,  8,  9, 10, 11, 12]])"
            ]
          },
          "execution_count": 7,
          "metadata": {},
          "output_type": "execute_result"
        }
      ],
      "source": [
        "# Now trying to keep column as unknown. New shape as (1,-1). i.e, row is 1, column unknown. we get result new shape as (1, 12)\n",
        "z.reshape(1,-1)"
      ]
    },
    {
      "cell_type": "code",
      "execution_count": 8,
      "metadata": {},
      "outputs": [
        {
          "data": {
            "text/plain": [
              "array([[ 1,  2,  3,  4,  5,  6],\n",
              "       [ 7,  8,  9, 10, 11, 12]])"
            ]
          },
          "execution_count": 8,
          "metadata": {},
          "output_type": "execute_result"
        }
      ],
      "source": [
        "# New shape (2, -1). Row 2, column unknown. we get result new shape as (2,6)\n",
        "z.reshape(2, -1)"
      ]
    },
    {
      "cell_type": "code",
      "execution_count": 9,
      "metadata": {},
      "outputs": [
        {
          "data": {
            "text/plain": [
              "array([[ 1,  2,  3,  4],\n",
              "       [ 5,  6,  7,  8],\n",
              "       [ 9, 10, 11, 12]])"
            ]
          },
          "execution_count": 9,
          "metadata": {},
          "output_type": "execute_result"
        }
      ],
      "source": [
        "# New shape as (3, -1). Row 3, column unknown. we get result new shape as (3,4)\n",
        "z.reshape(3, -1)"
      ]
    },
    {
      "cell_type": "code",
      "execution_count": 10,
      "metadata": {
        "scrolled": false
      },
      "outputs": [
        {
          "ename": "ValueError",
          "evalue": "can only specify one unknown dimension",
          "output_type": "error",
          "traceback": [
            "\u001b[0;31m---------------------------------------------------------------------------\u001b[0m",
            "\u001b[0;31mValueError\u001b[0m                                Traceback (most recent call last)",
            "\u001b[0;32m<ipython-input-10-4592d6bb7a0a>\u001b[0m in \u001b[0;36m<module>\u001b[0;34m()\u001b[0m\n\u001b[1;32m      1\u001b[0m \u001b[0;31m# And finally, if we try to provide both dimension as unknown i.e new shape as (-1,-1). It will throw an error\u001b[0m\u001b[0;34m\u001b[0m\u001b[0;34m\u001b[0m\u001b[0m\n\u001b[0;32m----> 2\u001b[0;31m \u001b[0mz\u001b[0m\u001b[0;34m.\u001b[0m\u001b[0mreshape\u001b[0m\u001b[0;34m(\u001b[0m\u001b[0;34m-\u001b[0m\u001b[0;36m1\u001b[0m\u001b[0;34m,\u001b[0m \u001b[0;34m-\u001b[0m\u001b[0;36m1\u001b[0m\u001b[0;34m)\u001b[0m\u001b[0;34m\u001b[0m\u001b[0m\n\u001b[0m",
            "\u001b[0;31mValueError\u001b[0m: can only specify one unknown dimension"
          ]
        }
      ],
      "source": [
        "# And finally, if we try to provide both dimension as unknown i.e new shape as (-1,-1). It will throw an error\n",
        "z.reshape(-1, -1)"
      ]
    },
    {
      "cell_type": "markdown",
      "metadata": {},
      "source": [
        "**Flattening shape using `ravel()` function**"
      ]
    },
    {
      "cell_type": "code",
      "execution_count": 24,
      "metadata": {},
      "outputs": [
        {
          "name": "stdout",
          "output_type": "stream",
          "text": [
            "The original array is:\n",
            " [[1 2 3]\n",
            " [4 5 6]]\n",
            "[1 2 3 4 5 6]\n"
          ]
        }
      ],
      "source": [
        "a = np.array([[1,2,3],[4,5,6]])\n",
        "print('The original array is:\\n', a )\n",
        "b = np.ravel(a)\n",
        "print(b)"
      ]
    },
    {
      "cell_type": "markdown",
      "metadata": {},
      "source": [
        "**Transpose of an Array**"
      ]
    },
    {
      "cell_type": "markdown",
      "metadata": {},
      "source": [
        "`numpy.transpose(arr, axes)`  \n",
        "\n",
        "arr: The array to be transposed  \n",
        "axes: List of ints, corresponding to the dimensions. By default, the dimensions are reversed  "
      ]
    },
    {
      "cell_type": "code",
      "execution_count": 27,
      "metadata": {},
      "outputs": [
        {
          "name": "stdout",
          "output_type": "stream",
          "text": [
            "The original array is:\n",
            "[[0 1 2]\n",
            " [3 4 5]\n",
            " [6 7 8]]\n",
            "[[0 3 6]\n",
            " [1 4 7]\n",
            " [2 5 8]]\n",
            "[[0 3 6]\n",
            " [1 4 7]\n",
            " [2 5 8]]\n"
          ]
        }
      ],
      "source": [
        "a = np.arange(9).reshape(3,3) \n",
        "print('The original array is:' )\n",
        "print(a)\n",
        "print(a.transpose())\n",
        "# OR \n",
        "print(np.transpose(a))"
      ]
    },
    {
      "cell_type": "markdown",
      "metadata": {},
      "source": [
        "**Exercise**  \n",
        "Create a 4-dimensional array, named fdarray, with elements 1,2,3,4...so on and with a shape 4,3,2,2.  \n",
        "Print out the shape of the array to verify your answer. Also access the element '10' using appropriate indices, assign it to a variable target2 and print out target2.   "
      ]
    },
    {
      "cell_type": "markdown",
      "metadata": {},
      "source": [
        "?"
      ]
    },
    {
      "cell_type": "markdown",
      "metadata": {},
      "source": [
        "**`set_printoptions`**"
      ]
    },
    {
      "cell_type": "code",
      "execution_count": 1,
      "metadata": {
        "trusted": true
      },
      "outputs": [
        {
          "name": "stdout",
          "output_type": "stream",
          "text": [
            "[0.1289904  0.36481258 0.0789798  0.66154939 0.31940748 0.30637188\n",
            " 0.92140832 0.44340165 0.76025599 0.24222963]\n"
          ]
        }
      ],
      "source": [
        "import numpy as np\n",
        "x=np.random.random(10)\n",
        "print(x)"
      ]
    },
    {
      "cell_type": "markdown",
      "metadata": {},
      "source": [
        "***precision***"
      ]
    },
    {
      "cell_type": "code",
      "execution_count": 2,
      "metadata": {
        "trusted": true
      },
      "outputs": [
        {
          "name": "stdout",
          "output_type": "stream",
          "text": [
            "[0.129 0.365 0.079 0.662 0.319 0.306 0.921 0.443 0.76  0.242]\n"
          ]
        }
      ],
      "source": [
        "np.set_printoptions(precision=3)\n",
        "print(x)"
      ]
    },
    {
      "cell_type": "markdown",
      "metadata": {},
      "source": [
        "***suppress***"
      ]
    },
    {
      "cell_type": "code",
      "execution_count": 3,
      "metadata": {
        "trusted": true
      },
      "outputs": [
        {
          "name": "stdout",
          "output_type": "stream",
          "text": [
            "[1.5e-10 1.5e+00 1.5e+03]\n",
            "[   0.     1.5 1500. ]\n"
          ]
        }
      ],
      "source": [
        "y=np.array([1.5e-10,1.5,1500])\n",
        "print(y)\n",
        "# [  1.500e-10   1.500e+00   1.500e+03]\n",
        "np.set_printoptions(suppress=True)\n",
        "print(y)"
      ]
    },
    {
      "cell_type": "markdown",
      "metadata": {},
      "source": [
        "***threshold***"
      ]
    },
    {
      "cell_type": "code",
      "execution_count": null,
      "metadata": {
        "trusted": true
      },
      "outputs": [],
      "source": [
        "np.set_printoptions(threshold=12) # threshold should be greater than the values which display (trying with sample 12)\n",
        "print(np.arange(100))"
      ]
    },
    {
      "cell_type": "code",
      "execution_count": 8,
      "metadata": {
        "trusted": true
      },
      "outputs": [
        {
          "name": "stdout",
          "output_type": "stream",
          "text": [
            "[ 0  1  2 ... 97 98 99]\n"
          ]
        }
      ],
      "source": [
        "np.set_printoptions(threshold=99) # threshold should be greater than the values which display (trying with sample 9)\n",
        "print(np.arange(100))"
      ]
    },
    {
      "cell_type": "code",
      "execution_count": 10,
      "metadata": {
        "scrolled": true,
        "trusted": true
      },
      "outputs": [
        {
          "name": "stdout",
          "output_type": "stream",
          "text": [
            "[ 0  1  2  3  4  5  6  7  8  9 10 11 12 13 14 15 16 17 18 19 20 21 22 23\n",
            " 24 25 26 27 28 29 30 31 32 33 34 35 36 37 38 39 40 41 42 43 44 45 46 47\n",
            " 48 49 50 51 52 53 54 55 56 57 58 59 60 61 62 63 64 65 66 67 68 69 70 71\n",
            " 72 73 74 75 76 77 78 79 80 81 82 83 84 85 86 87 88 89 90 91 92 93 94 95\n",
            " 96 97 98 99]\n"
          ]
        }
      ],
      "source": [
        "np.set_printoptions(threshold=100) # threshold should be greater than the values which display\n",
        "print(np.arange(100))"
      ]
    },
    {
      "cell_type": "code",
      "execution_count": 11,
      "metadata": {
        "trusted": true
      },
      "outputs": [
        {
          "name": "stdout",
          "output_type": "stream",
          "text": [
            "[ 0  1  2  3  4  5  6  7  8  9 10 11 12 13 14 15 16 17 18 19 20 21 22 23\n",
            " 24 25 26 27 28 29 30 31 32 33 34 35 36 37 38 39 40 41 42 43 44 45 46 47\n",
            " 48 49 50 51 52 53 54 55 56 57 58 59 60 61 62 63 64 65 66 67 68 69 70 71\n",
            " 72 73 74 75 76 77 78 79 80 81 82 83 84 85 86 87 88 89 90 91 92 93 94 95\n",
            " 96 97 98 99]\n"
          ]
        }
      ],
      "source": [
        "np.set_printoptions(threshold=np.inf)\n",
        "print(np.arange(100))"
      ]
    },
    {
      "cell_type": "markdown",
      "metadata": {},
      "source": [
        "## Using NumPy on Alcohol Consumption Data (real world data)"
      ]
    },
    {
      "cell_type": "markdown",
      "metadata": {},
      "source": [
        "* Load real world data of csv files into NumPy \n",
        "* Measuring quantities and Calculate basic statistics with NumPy\n",
        "* Select items in NumPy arrays and slicing subsets of the dataset"
      ]
    },
    {
      "cell_type": "code",
      "execution_count": null,
      "metadata": {},
      "outputs": [],
      "source": [
        "# dataset location: https://github.com/fivethirtyeight/data/blob/master/alcohol-consumption/drinks.csv\n",
        "# code pulled from: https://www.packtpub.com/mapt/video/big_data_and_business_intelligence"
      ]
    },
    {
      "cell_type": "code",
      "execution_count": 1,
      "metadata": {
        "trusted": true
      },
      "outputs": [],
      "source": [
        "# import numpy\n",
        "import numpy as np"
      ]
    },
    {
      "cell_type": "code",
      "execution_count": 1,
      "metadata": {
        "scrolled": false,
        "trusted": true
      },
      "outputs": [
        {
          "name": "stdout",
          "output_type": "stream",
          "text": [
            "country,beer_servings,spirit_servings,wine_servings,total_litres_of_pure_alcohol\n",
            "Afghanistan,0,0,0,0.0\n",
            "Albania,89,132,54,4.9\n",
            "Algeria,25,0,14,0.7\n",
            "Andorra,245,138,312,12.4\n",
            "Angola,217,57,45,5.9\n",
            "Antigua & Barbuda,102,128,45,4.9\n",
            "Argentina,193,25,221,8.3\n",
            "Armenia,21,179,11,3.8\n",
            "Australia,261,72,212,10.4\n"
          ]
        }
      ],
      "source": [
        "!head data/drinks.csv"
      ]
    },
    {
      "cell_type": "markdown",
      "metadata": {},
      "source": [
        "**Data loading using numpy `genfromtxt` or `loadtxt` methods:**"
      ]
    },
    {
      "cell_type": "code",
      "execution_count": 9,
      "metadata": {
        "trusted": true
      },
      "outputs": [
        {
          "data": {
            "text/plain": [
              "array([(b'Afghanistan',   0.,   0.,   0.,  0. ),\n",
              "       (b'Albania',  89., 132.,  54.,  4.9),\n",
              "       (b'Algeria',  25.,   0.,  14.,  0.7),\n",
              "       (b'Andorra', 245., 138., 312., 12.4),\n",
              "       (b'Angola', 217.,  57.,  45.,  5.9),\n",
              "       (b'Antigua & Barbuda', 102., 128.,  45.,  4.9),\n",
              "       (b'Argentina', 193.,  25., 221.,  8.3),\n",
              "       (b'Armenia',  21., 179.,  11.,  3.8),\n",
              "       (b'Australia', 261.,  72., 212., 10.4),\n",
              "       (b'Austria', 279.,  75., 191.,  9.7),\n",
              "       (b'Azerbaijan',  21.,  46.,   5.,  1.3),\n",
              "       (b'Bahamas', 122., 176.,  51.,  6.3),\n",
              "       (b'Bahrain',  42.,  63.,   7.,  2. ),\n",
              "       (b'Bangladesh',   0.,   0.,   0.,  0. ),\n",
              "       (b'Barbados', 143., 173.,  36.,  6.3),\n",
              "       (b'Belarus', 142., 373.,  42., 14.4),\n",
              "       (b'Belgium', 295.,  84., 212., 10.5),\n",
              "       (b'Belize', 263., 114.,   8.,  6.8),\n",
              "       (b'Benin',  34.,   4.,  13.,  1.1),\n",
              "       (b'Bhutan',  23.,   0.,   0.,  0.4),\n",
              "       (b'Bolivia', 167.,  41.,   8.,  3.8),\n",
              "       (b'Bosnia-Herzegovina',  76., 173.,   8.,  4.6),\n",
              "       (b'Botswana', 173.,  35.,  35.,  5.4),\n",
              "       (b'Brazil', 245., 145.,  16.,  7.2),\n",
              "       (b'Brunei',  31.,   2.,   1.,  0.6),\n",
              "       (b'Bulgaria', 231., 252.,  94., 10.3),\n",
              "       (b'Burkina Faso',  25.,   7.,   7.,  4.3),\n",
              "       (b'Burundi',  88.,   0.,   0.,  6.3),\n",
              "       (b\"Cote d'Ivoire\",  37.,   1.,   7.,  4. ),\n",
              "       (b'Cabo Verde', 144.,  56.,  16.,  4. ),\n",
              "       (b'Cambodia',  57.,  65.,   1.,  2.2),\n",
              "       (b'Cameroon', 147.,   1.,   4.,  5.8),\n",
              "       (b'Canada', 240., 122., 100.,  8.2),\n",
              "       (b'Central African Republic',  17.,   2.,   1.,  1.8),\n",
              "       (b'Chad',  15.,   1.,   1.,  0.4),\n",
              "       (b'Chile', 130., 124., 172.,  7.6),\n",
              "       (b'China',  79., 192.,   8.,  5. ),\n",
              "       (b'Colombia', 159.,  76.,   3.,  4.2),\n",
              "       (b'Comoros',   1.,   3.,   1.,  0.1),\n",
              "       (b'Congo',  76.,   1.,   9.,  1.7),\n",
              "       (b'Cook Islands',   0., 254.,  74.,  5.9),\n",
              "       (b'Costa Rica', 149.,  87.,  11.,  4.4),\n",
              "       (b'Croatia', 230.,  87., 254., 10.2),\n",
              "       (b'Cuba',  93., 137.,   5.,  4.2),\n",
              "       (b'Cyprus', 192., 154., 113.,  8.2),\n",
              "       (b'Czech Republic', 361., 170., 134., 11.8),\n",
              "       (b'North Korea',   0.,   0.,   0.,  0. ),\n",
              "       (b'DR Congo',  32.,   3.,   1.,  2.3),\n",
              "       (b'Denmark', 224.,  81., 278., 10.4),\n",
              "       (b'Djibouti',  15.,  44.,   3.,  1.1),\n",
              "       (b'Dominica',  52., 286.,  26.,  6.6),\n",
              "       (b'Dominican Republic', 193., 147.,   9.,  6.2),\n",
              "       (b'Ecuador', 162.,  74.,   3.,  4.2),\n",
              "       (b'Egypt',   6.,   4.,   1.,  0.2),\n",
              "       (b'El Salvador',  52.,  69.,   2.,  2.2),\n",
              "       (b'Equatorial Guinea',  92.,   0., 233.,  5.8),\n",
              "       (b'Eritrea',  18.,   0.,   0.,  0.5),\n",
              "       (b'Estonia', 224., 194.,  59.,  9.5),\n",
              "       (b'Ethiopia',  20.,   3.,   0.,  0.7),\n",
              "       (b'Fiji',  77.,  35.,   1.,  2. ),\n",
              "       (b'Finland', 263., 133.,  97., 10. ),\n",
              "       (b'France', 127., 151., 370., 11.8),\n",
              "       (b'Gabon', 347.,  98.,  59.,  8.9),\n",
              "       (b'Gambia',   8.,   0.,   1.,  2.4),\n",
              "       (b'Georgia',  52., 100., 149.,  5.4),\n",
              "       (b'Germany', 346., 117., 175., 11.3),\n",
              "       (b'Ghana',  31.,   3.,  10.,  1.8),\n",
              "       (b'Greece', 133., 112., 218.,  8.3),\n",
              "       (b'Grenada', 199., 438.,  28., 11.9),\n",
              "       (b'Guatemala',  53.,  69.,   2.,  2.2),\n",
              "       (b'Guinea',   9.,   0.,   2.,  0.2),\n",
              "       (b'Guinea-Bissau',  28.,  31.,  21.,  2.5),\n",
              "       (b'Guyana',  93., 302.,   1.,  7.1),\n",
              "       (b'Haiti',   1., 326.,   1.,  5.9),\n",
              "       (b'Honduras',  69.,  98.,   2.,  3. ),\n",
              "       (b'Hungary', 234., 215., 185., 11.3),\n",
              "       (b'Iceland', 233.,  61.,  78.,  6.6),\n",
              "       (b'India',   9., 114.,   0.,  2.2),\n",
              "       (b'Indonesia',   5.,   1.,   0.,  0.1),\n",
              "       (b'Iran',   0.,   0.,   0.,  0. ),\n",
              "       (b'Iraq',   9.,   3.,   0.,  0.2),\n",
              "       (b'Ireland', 313., 118., 165., 11.4),\n",
              "       (b'Israel',  63.,  69.,   9.,  2.5),\n",
              "       (b'Italy',  85.,  42., 237.,  6.5),\n",
              "       (b'Jamaica',  82.,  97.,   9.,  3.4),\n",
              "       (b'Japan',  77., 202.,  16.,  7. ),\n",
              "       (b'Jordan',   6.,  21.,   1.,  0.5),\n",
              "       (b'Kazakhstan', 124., 246.,  12.,  6.8),\n",
              "       (b'Kenya',  58.,  22.,   2.,  1.8),\n",
              "       (b'Kiribati',  21.,  34.,   1.,  1. ),\n",
              "       (b'Kuwait',   0.,   0.,   0.,  0. ),\n",
              "       (b'Kyrgyzstan',  31.,  97.,   6.,  2.4),\n",
              "       (b'Laos',  62.,   0., 123.,  6.2),\n",
              "       (b'Latvia', 281., 216.,  62., 10.5),\n",
              "       (b'Lebanon',  20.,  55.,  31.,  1.9),\n",
              "       (b'Lesotho',  82.,  29.,   0.,  2.8),\n",
              "       (b'Liberia',  19., 152.,   2.,  3.1),\n",
              "       (b'Libya',   0.,   0.,   0.,  0. ),\n",
              "       (b'Lithuania', 343., 244.,  56., 12.9),\n",
              "       (b'Luxembourg', 236., 133., 271., 11.4),\n",
              "       (b'Madagascar',  26.,  15.,   4.,  0.8),\n",
              "       (b'Malawi',   8.,  11.,   1.,  1.5),\n",
              "       (b'Malaysia',  13.,   4.,   0.,  0.3),\n",
              "       (b'Maldives',   0.,   0.,   0.,  0. ),\n",
              "       (b'Mali',   5.,   1.,   1.,  0.6),\n",
              "       (b'Malta', 149., 100., 120.,  6.6),\n",
              "       (b'Marshall Islands',   0.,   0.,   0.,  0. ),\n",
              "       (b'Mauritania',   0.,   0.,   0.,  0. ),\n",
              "       (b'Mauritius',  98.,  31.,  18.,  2.6),\n",
              "       (b'Mexico', 238.,  68.,   5.,  5.5),\n",
              "       (b'Micronesia',  62.,  50.,  18.,  2.3),\n",
              "       (b'Monaco',   0.,   0.,   0.,  0. ),\n",
              "       (b'Mongolia',  77., 189.,   8.,  4.9),\n",
              "       (b'Montenegro',  31., 114., 128.,  4.9),\n",
              "       (b'Morocco',  12.,   6.,  10.,  0.5),\n",
              "       (b'Mozambique',  47.,  18.,   5.,  1.3),\n",
              "       (b'Myanmar',   5.,   1.,   0.,  0.1),\n",
              "       (b'Namibia', 376.,   3.,   1.,  6.8),\n",
              "       (b'Nauru',  49.,   0.,   8.,  1. ),\n",
              "       (b'Nepal',   5.,   6.,   0.,  0.2),\n",
              "       (b'Netherlands', 251.,  88., 190.,  9.4),\n",
              "       (b'New Zealand', 203.,  79., 175.,  9.3),\n",
              "       (b'Nicaragua',  78., 118.,   1.,  3.5),\n",
              "       (b'Niger',   3.,   2.,   1.,  0.1),\n",
              "       (b'Nigeria',  42.,   5.,   2.,  9.1),\n",
              "       (b'Niue', 188., 200.,   7.,  7. ),\n",
              "       (b'Norway', 169.,  71., 129.,  6.7),\n",
              "       (b'Oman',  22.,  16.,   1.,  0.7),\n",
              "       (b'Pakistan',   0.,   0.,   0.,  0. ),\n",
              "       (b'Palau', 306.,  63.,  23.,  6.9),\n",
              "       (b'Panama', 285., 104.,  18.,  7.2),\n",
              "       (b'Papua New Guinea',  44.,  39.,   1.,  1.5),\n",
              "       (b'Paraguay', 213., 117.,  74.,  7.3),\n",
              "       (b'Peru', 163., 160.,  21.,  6.1),\n",
              "       (b'Philippines',  71., 186.,   1.,  4.6),\n",
              "       (b'Poland', 343., 215.,  56., 10.9),\n",
              "       (b'Portugal', 194.,  67., 339., 11. ),\n",
              "       (b'Qatar',   1.,  42.,   7.,  0.9),\n",
              "       (b'South Korea', 140.,  16.,   9.,  9.8),\n",
              "       (b'Moldova', 109., 226.,  18.,  6.3),\n",
              "       (b'Romania', 297., 122., 167., 10.4),\n",
              "       (b'Russian Federation', 247., 326.,  73., 11.5),\n",
              "       (b'Rwanda',  43.,   2.,   0.,  6.8),\n",
              "       (b'St. Kitts & Nevis', 194., 205.,  32.,  7.7),\n",
              "       (b'St. Lucia', 171., 315.,  71., 10.1),\n",
              "       (b'St. Vincent & the Grenadines', 120., 221.,  11.,  6.3),\n",
              "       (b'Samoa', 105.,  18.,  24.,  2.6),\n",
              "       (b'San Marino',   0.,   0.,   0.,  0. ),\n",
              "       (b'Sao Tome & Principe',  56.,  38., 140.,  4.2),\n",
              "       (b'Saudi Arabia',   0.,   5.,   0.,  0.1),\n",
              "       (b'Senegal',   9.,   1.,   7.,  0.3),\n",
              "       (b'Serbia', 283., 131., 127.,  9.6),\n",
              "       (b'Seychelles', 157.,  25.,  51.,  4.1),\n",
              "       (b'Sierra Leone',  25.,   3.,   2.,  6.7),\n",
              "       (b'Singapore',  60.,  12.,  11.,  1.5),\n",
              "       (b'Slovakia', 196., 293., 116., 11.4),\n",
              "       (b'Slovenia', 270.,  51., 276., 10.6),\n",
              "       (b'Solomon Islands',  56.,  11.,   1.,  1.2),\n",
              "       (b'Somalia',   0.,   0.,   0.,  0. ),\n",
              "       (b'South Africa', 225.,  76.,  81.,  8.2),\n",
              "       (b'Spain', 284., 157., 112., 10. ),\n",
              "       (b'Sri Lanka',  16., 104.,   0.,  2.2),\n",
              "       (b'Sudan',   8.,  13.,   0.,  1.7),\n",
              "       (b'Suriname', 128., 178.,   7.,  5.6),\n",
              "       (b'Swaziland',  90.,   2.,   2.,  4.7),\n",
              "       (b'Sweden', 152.,  60., 186.,  7.2),\n",
              "       (b'Switzerland', 185., 100., 280., 10.2),\n",
              "       (b'Syria',   5.,  35.,  16.,  1. ),\n",
              "       (b'Tajikistan',   2.,  15.,   0.,  0.3),\n",
              "       (b'Thailand',  99., 258.,   1.,  6.4),\n",
              "       (b'Macedonia', 106.,  27.,  86.,  3.9),\n",
              "       (b'Timor-Leste',   1.,   1.,   4.,  0.1),\n",
              "       (b'Togo',  36.,   2.,  19.,  1.3),\n",
              "       (b'Tonga',  36.,  21.,   5.,  1.1),\n",
              "       (b'Trinidad & Tobago', 197., 156.,   7.,  6.4),\n",
              "       (b'Tunisia',  51.,   3.,  20.,  1.3),\n",
              "       (b'Turkey',  51.,  22.,   7.,  1.4),\n",
              "       (b'Turkmenistan',  19.,  71.,  32.,  2.2),\n",
              "       (b'Tuvalu',   6.,  41.,   9.,  1. ),\n",
              "       (b'Uganda',  45.,   9.,   0.,  8.3),\n",
              "       (b'Ukraine', 206., 237.,  45.,  8.9),\n",
              "       (b'United Arab Emirates',  16., 135.,   5.,  2.8),\n",
              "       (b'United Kingdom', 219., 126., 195., 10.4),\n",
              "       (b'Tanzania',  36.,   6.,   1.,  5.7),\n",
              "       (b'USA', 249., 158.,  84.,  8.7),\n",
              "       (b'Uruguay', 115.,  35., 220.,  6.6),\n",
              "       (b'Uzbekistan',  25., 101.,   8.,  2.4),\n",
              "       (b'Vanuatu',  21.,  18.,  11.,  0.9),\n",
              "       (b'Venezuela', 333., 100.,   3.,  7.7),\n",
              "       (b'Vietnam', 111.,   2.,   1.,  2. ),\n",
              "       (b'Yemen',   6.,   0.,   0.,  0.1),\n",
              "       (b'Zambia',  32.,  19.,   4.,  2.5),\n",
              "       (b'Zimbabwe',  64.,  18.,   4.,  4.7)],\n",
              "      dtype=[('country', 'S64'), ('beer', '<f4'), ('spirit', '<f4'), ('wine', '<f4'), ('total', '<f4')])"
            ]
          },
          "execution_count": 9,
          "metadata": {},
          "output_type": "execute_result"
        }
      ],
      "source": [
        "# load data\n",
        "import numpy as np\n",
        "dtype = dict(names=('country','beer','spirit','wine','total'),\n",
        "            formats=('S64','f','f','f','f'))\n",
        "booze = np.genfromtxt(\"data/drinks.csv\", delimiter=\",\", dtype=dtype, skip_header=1)\n",
        "booze"
      ]
    },
    {
      "cell_type": "code",
      "execution_count": 5,
      "metadata": {},
      "outputs": [],
      "source": [
        "# load data\n",
        "dtype = dict(names=('country','beer','spirit','wine','total'),\n",
        "            formats=('S64','f','f','f','f'))\n",
        "booze = np.loadtxt(\"data/drinks.csv\", delimiter=',', dtype=dtype, skiprows=1)"
      ]
    },
    {
      "cell_type": "code",
      "execution_count": 6,
      "metadata": {},
      "outputs": [
        {
          "data": {
            "text/plain": [
              "array([],\n",
              "      dtype=[('country', 'S64'), ('beer', '<f4'), ('spirit', '<f4'), ('wine', '<f4'), ('total', '<f4')])"
            ]
          },
          "execution_count": 6,
          "metadata": {},
          "output_type": "execute_result"
        }
      ],
      "source": [
        "# Select data by country\n",
        "booze[np.where(booze['country'] == 'Canada')]"
      ]
    },
    {
      "cell_type": "code",
      "execution_count": 7,
      "metadata": {},
      "outputs": [
        {
          "data": {
            "text/plain": [
              "array([(b'Afghanistan', 0., 0., 0., 0.), (b'Bangladesh', 0., 0., 0., 0.),\n",
              "       (b'North Korea', 0., 0., 0., 0.), (b'Iran', 0., 0., 0., 0.),\n",
              "       (b'Kuwait', 0., 0., 0., 0.), (b'Libya', 0., 0., 0., 0.),\n",
              "       (b'Maldives', 0., 0., 0., 0.),\n",
              "       (b'Marshall Islands', 0., 0., 0., 0.),\n",
              "       (b'Mauritania', 0., 0., 0., 0.), (b'Monaco', 0., 0., 0., 0.),\n",
              "       (b'Pakistan', 0., 0., 0., 0.), (b'San Marino', 0., 0., 0., 0.),\n",
              "       (b'Somalia', 0., 0., 0., 0.)],\n",
              "      dtype=[('country', 'S64'), ('beer', '<f4'), ('spirit', '<f4'), ('wine', '<f4'), ('total', '<f4')])"
            ]
          },
          "execution_count": 7,
          "metadata": {},
          "output_type": "execute_result"
        }
      ],
      "source": [
        "# Select data teetotal countries\n",
        "booze[np.where(booze['total'] == 0)]"
      ]
    },
    {
      "cell_type": "code",
      "execution_count": 8,
      "metadata": {},
      "outputs": [
        {
          "data": {
            "text/plain": [
              "array([(b'France', 127., 151., 370., 11.8)],\n",
              "      dtype=[('country', 'S64'), ('beer', '<f4'), ('spirit', '<f4'), ('wine', '<f4'), ('total', '<f4')])"
            ]
          },
          "execution_count": 8,
          "metadata": {},
          "output_type": "execute_result"
        }
      ],
      "source": [
        "# Who drinks the most?\n",
        "booze[np.where(booze['wine'] == np.max(booze['wine']))]"
      ]
    },
    {
      "cell_type": "code",
      "execution_count": 9,
      "metadata": {},
      "outputs": [
        {
          "data": {
            "text/plain": [
              "4.7170987"
            ]
          },
          "execution_count": 9,
          "metadata": {},
          "output_type": "execute_result"
        }
      ],
      "source": [
        "# What is the average amount consumed?\n",
        "np.mean(booze['total'])"
      ]
    },
    {
      "cell_type": "code",
      "execution_count": 10,
      "metadata": {},
      "outputs": [
        {
          "data": {
            "text/plain": [
              "3.76351"
            ]
          },
          "execution_count": 10,
          "metadata": {},
          "output_type": "execute_result"
        }
      ],
      "source": [
        "# How much variation in the amount consumed?\n",
        "np.std(booze['total'])"
      ]
    },
    {
      "cell_type": "markdown",
      "metadata": {},
      "source": [
        "<span style=\"color:red; font-family:brandon\">Further  Resources</span>  \n",
        "<a href=\"https://analyticsindiamag.com/beginners-guide-numpy-must-python-library-data-scientist-toolkit/\" target=\"_blank\">https://analyticsindiamag.com/beginners-guide-numpy-must-python-library-data-scientist-toolkit/</a>  \n",
        "<a href=\"https://www.datacamp.com/community/tutorials/python-numpy-tutorial\" target=\"_blank\">https://www.datacamp.com/community/tutorials/python-numpy-tutorial</a>  \n",
        "https://s3.amazonaws.com/assets.datacamp.com/blog_assets/Numpy_Python_Cheat_Sheet.pdf  "
      ]
    },
    {
      "cell_type": "markdown",
      "metadata": {},
      "source": [
        "<span style=\"color:red; font-family:Comic Sans MS\">References</span>  \n",
        "<a href=\"https://towardsdatascience.com/lets-talk-about-numpy-for-datascience-beginners-b8088722309f\" target=\"_blank\">https://towardsdatascience.com/lets-talk-about-numpy-for-datascience-beginners-b8088722309f</a>  "
      ]
    }
  ],
  "metadata": {
    "interpreter": {
      "hash": "485035c5b2a6f2b50dc2dc5ca51aeeb931032fbc9adc2e30c7c528d6bf8a9176"
    },
    "kernelspec": {
      "display_name": "Python 3.8.8 64-bit ('base': conda)",
      "name": "python3"
    },
    "language_info": {
      "codemirror_mode": {
        "name": "ipython",
        "version": 3
      },
      "file_extension": ".py",
      "mimetype": "text/x-python",
      "name": "python",
      "nbconvert_exporter": "python",
      "pygments_lexer": "ipython3",
      "version": "3.8.8"
    },
    "toc": {
      "base_numbering": 1,
      "nav_menu": {},
      "number_sections": true,
      "sideBar": true,
      "skip_h1_title": false,
      "title_cell": "Table of Contents",
      "title_sidebar": "Contents",
      "toc_cell": true,
      "toc_position": {},
      "toc_section_display": true,
      "toc_window_display": false
    }
  },
  "nbformat": 4,
  "nbformat_minor": 2
}
