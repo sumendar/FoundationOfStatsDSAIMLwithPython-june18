{
 "cells": [
  {
   "cell_type": "markdown",
   "metadata": {
    "toc": true
   },
   "source": [
    "<h1>Table of Contents<span class=\"tocSkip\"></span></h1>\n",
    "<div class=\"toc\"><ul class=\"toc-item\"><li><span><a href=\"#What-is-python\" data-toc-modified-id=\"What-is-python-1\"><span class=\"toc-item-num\">1&nbsp;&nbsp;</span>What is python</a></span></li><li><span><a href=\"#History\" data-toc-modified-id=\"History-2\"><span class=\"toc-item-num\">2&nbsp;&nbsp;</span>History</a></span></li><li><span><a href=\"#Features\" data-toc-modified-id=\"Features-3\"><span class=\"toc-item-num\">3&nbsp;&nbsp;</span>Features</a></span></li><li><span><a href=\"#Setting-up-your-machine-(step-by-step-Installation-on-windows)\" data-toc-modified-id=\"Setting-up-your-machine-(step-by-step-Installation-on-windows)-4\"><span class=\"toc-item-num\">4&nbsp;&nbsp;</span>Setting up your machine (step by step Installation on windows)</a></span><ul class=\"toc-item\"><li><span><a href=\"#From-python-project-site\" data-toc-modified-id=\"From-python-project-site-4.1\"><span class=\"toc-item-num\">4.1&nbsp;&nbsp;</span>From python project site</a></span></li><li><span><a href=\"#From-Anaconda-distribution-(Recommended)\" data-toc-modified-id=\"From-Anaconda-distribution-(Recommended)-4.2\"><span class=\"toc-item-num\">4.2&nbsp;&nbsp;</span>From Anaconda distribution (<em>Recommended</em>)</a></span></li></ul></li><li><span><a href=\"#Spyder-IDE-Overview\" data-toc-modified-id=\"Spyder-IDE-Overview-5\"><span class=\"toc-item-num\">5&nbsp;&nbsp;</span>Spyder IDE Overview</a></span></li><li><span><a href=\"#Jupyter-Notebooks-&amp;-Markdown\" data-toc-modified-id=\"Jupyter-Notebooks-&amp;-Markdown-6\"><span class=\"toc-item-num\">6&nbsp;&nbsp;</span>Jupyter Notebooks &amp; Markdown</a></span></li><li><span><a href=\"#Anaconda-Installation-for-all-operating-systems\" data-toc-modified-id=\"Anaconda-Installation-for-all-operating-systems-7\"><span class=\"toc-item-num\">7&nbsp;&nbsp;</span>Anaconda Installation for all operating systems</a></span></li></ul></div>"
   ]
  },
  {
   "cell_type": "markdown",
   "metadata": {},
   "source": [
    "## What is python\n",
    "> Python is a general purpose, dynamic, high level programming language, It supports object-oriented, procedure-oriented, and functional programming."
   ]
  },
  {
   "cell_type": "markdown",
   "metadata": {},
   "source": [
    "## History"
   ]
  },
  {
   "cell_type": "markdown",
   "metadata": {},
   "source": [
    "* Python laid its foundation in the late 1980s.    \n",
    "* The implementation of Python was started in the December 1989 by **Guido Van Rossum** at CWI in Netherland.  \n",
    "* In February 1991,van Rossum published the code (labeled version 0.9.0) to alt.sources.   \n",
    "* In 1994, Python 1.0 was released with new features like: lambda, map, filter, and reduce.    \n",
    "* In October 16, 2000 Python 2.0 released \n",
    "* On December 3, 2008, Python 3.0        "
   ]
  },
  {
   "cell_type": "markdown",
   "metadata": {},
   "source": [
    "## Features "
   ]
  },
  {
   "cell_type": "markdown",
   "metadata": {},
   "source": [
    "1. Open Source – free to install\n",
    "2. Awesome online community\n",
    "3. Very easy to learn\n",
    "4. dynamically typed\n",
    "4. Become a common language for data science and production of web based analytics products.\n",
    "1. Readability. ...  \n",
    "2. Expressive Language. ...  \n",
    "3. Interpreted Language. ...         \n",
    "4. Cross-platform Language. ...  \n",
    "5. Extensible. ...  \n",
    "6. Large Standard Library.  "
   ]
  },
  {
   "cell_type": "markdown",
   "metadata": {},
   "source": [
    "## Setting up your machine (step by step Installation on windows)\n",
    "There are 2 approaches to install Python:\n",
    "\n",
    "* You can download Python directly from its project site and install individual components and libraries you want\n",
    "* Alternately, you can download and install a package using **Anaconda**, which comes with pre-installed libraries."
   ]
  },
  {
   "cell_type": "markdown",
   "metadata": {},
   "source": [
    "### From python project site"
   ]
  },
  {
   "cell_type": "markdown",
   "metadata": {},
   "source": [
    "* First Open a Web browser and go to https://www.python.org/downloads/.\n",
    "* Check the latest version and then Click the Download Python 3.6.2 button.\n",
    "* Move this file to a more permanent location, so that you can install Python.\n",
    "* If you want to immediately installation then close the web browser.\n",
    "* Then go to the python-3.6.2.exe file where it is located and Double-click the icon labeling the file python-3.6.2.exe.  \n",
    "\n",
    "![Imgur](https://i.imgur.com/ziexz2W.jpg)\n",
    "\n",
    "Click Run.\n",
    "            You will see Python 3.6.2 (32-bit) Setup pop-up window.\n",
    "            \n",
    "![Imgur](https://i.imgur.com/NL66gMV.jpg)\n",
    "            \n",
    "            Then click on both check box option Install launcher for all users (recommended) and the Add Python 3.6 to PATH.\n",
    "\n",
    "Then seems User Account Control pop-up window, in that ask the question Do you want the allow the following program to make changes to this computer?\n",
    "\n",
    "![Imgur](https://i.imgur.com/6n00SjK.jpg)\n",
    "\n",
    "Click the Yes button.\n",
    "           After that you will see new Python 3.6.2 (32-bit) Setup pop-up window.\n",
    "           \n",
    "![Imgur](https://i.imgur.com/TGcp92l.jpg)\n",
    "\n",
    "After the completion of setup process, window will appear with a Setup was successfully message.\n",
    "\n",
    "![Imgur](https://i.imgur.com/YdNhuCr.jpg)\n",
    "\n",
    "Click on Close Button."
   ]
  },
  {
   "cell_type": "markdown",
   "metadata": {},
   "source": [
    "### From Anaconda distribution (*Recommended*)"
   ]
  },
  {
   "cell_type": "markdown",
   "metadata": {},
   "source": [
    "* Visit the Anaconda downloads page  \n",
    "Go to the following link: [Anaconda.com/downloads](https://www.anaconda.com/download/)  \n",
    "The Anaconda Downloads Page will look something like this:    \n",
    "![Imgur](https://i.imgur.com/mWbsPTA.png)  \n",
    "\n",
    "* Select the Windows  \n",
    "Select Windows where the three opperating systems are listed.  \n",
    "![Imgur](https://i.imgur.com/MYrJYwb.png)\n",
    "\n",
    "* Download  \n",
    "Download the Python 3.6 distribution. Python 2.7 is legacy Python. For undergraduate engineers, select the Python 3.6 version.     \n",
    "\n",
    "![Imgur](https://i.imgur.com/N1GngpX.png)\n",
    "\n",
    "You may be prompted to enter your email. You can still download Anaconda if you click **No Thanks** and don't enter your Work Email address.  \n",
    "\n",
    "![Imgur](https://i.imgur.com/VfgJNUa.png)\n",
    "\n",
    "The download is quite large (over 500 MB) so it may take a while for the download to complete.  \n",
    "\n",
    "* Double-click the installation file.  \n",
    "![Imgur](https://i.imgur.com/6ZG0Bwq.png)\n",
    "\n",
    "* Click Next.             \n",
    "![Imgur](https://i.imgur.com/bV8fNtz.jpg)\n",
    "* Click I Agree if you agree to the licensing agreement.         \n",
    "\n",
    "\n",
    "* Choose one of the installation types and then click Next.     \n",
    "![Imgur](https://i.imgur.com/FeTLdQf.jpg)\n",
    "\n",
    "* Choose an installation location (if necessary) and then click Next.    \n",
    "![Imgur](https://i.imgur.com/tkMG1yj.jpg)\n",
    "\n",
    "* Change the advanced installation options (if necessary) and then click Install.  \n",
    "\n",
    "![Imgur](https://i.imgur.com/VM1v9MG.jpg)\n",
    "\n",
    "* Click Next.  \n",
    "The wizard tells you that the installation is complete.\n",
    "\n",
    "* Click Finish.  \n",
    "You’re ready to begin using Anaconda."
   ]
  },
  {
   "cell_type": "markdown",
   "metadata": {},
   "source": [
    "**Installing Anaconda on Windows:**  \n",
    "https://www.datacamp.com/community/tutorials/installing-anaconda-windows  "
   ]
  },
  {
   "cell_type": "markdown",
   "metadata": {},
   "source": [
    "## Spyder IDE Overview\n",
    "(The Scientific Python Development Environment)"
   ]
  },
  {
   "cell_type": "markdown",
   "metadata": {},
   "source": [
    "**Features** Spyder contains features like a text editor with syntax highlighting, code completion and variable exploring, which you can edit its values using a Graphical User Interface (GUI)."
   ]
  },
  {
   "cell_type": "markdown",
   "metadata": {},
   "source": [
    "**Opening the Spyder application should present you with the following window**  \n",
    "Code Editor that lets you create and edit existing Python source files [YELLOW CIRCLE 1]  \n",
    "IPython interpreter pane, which gives you access to the Python interactive mode [YELLOW CIRCLE 2]  \n",
    "\n",
    "![Imgur](https://i.imgur.com/4jjNnUw.png)\n",
    "\n",
    "* Using the IPython prompt    \n",
    "![Imgur](https://i.imgur.com/ruHDK9J.png)\n",
    "\n",
    "* To create, save, and run a file  \n",
    "![Imgur](https://i.imgur.com/e3tobBR.png)\n",
    "\n",
    "* Installing and Testing Matplotlib and Numpy\n",
    "![Imgur](https://i.imgur.com/vi5t2qn.png)"
   ]
  },
  {
   "cell_type": "markdown",
   "metadata": {},
   "source": [
    "https://medium.com/edureka/spyder-ide-2a91caac4e46  "
   ]
  },
  {
   "cell_type": "markdown",
   "metadata": {},
   "source": [
    "## Jupyter Notebooks & Markdown"
   ]
  },
  {
   "cell_type": "markdown",
   "metadata": {},
   "source": [
    "**about jupyter:** http://jupyter.org/"
   ]
  },
  {
   "cell_type": "markdown",
   "metadata": {},
   "source": [
    "**markdown syntax:** https://www.markdownguide.org/basic-syntax/"
   ]
  },
  {
   "cell_type": "markdown",
   "metadata": {},
   "source": [
    "**Other popular IDEs:**  \n",
    "PyCharm  \n",
    "Visual studio code  \n",
    "Sublime Text  \n",
    "Atom...etc  "
   ]
  },
  {
   "cell_type": "markdown",
   "metadata": {},
   "source": [
    "## Anaconda Installation for all operating systems"
   ]
  },
  {
   "cell_type": "markdown",
   "metadata": {},
   "source": [
    "Operating System | Blog Post | Youtube Video\n",
    "--- | --- | ---\n",
    "Mac | [Install Anaconda on Mac](https://medium.com/@GalarnykMichael/install-python-on-mac-anaconda-ccd9f2014072#.lvhw2gt3k \"Install Anaconda on Mac\") | [Youtube Video](https://www.youtube.com/watch?v=B6d5LrA8bNE \"Youtube Video\")\n",
    "Windows | [Install Anaconda on Windows](https://medium.com/@GalarnykMichael/install-python-on-windows-anaconda-c63c7c3d1444#.66f7y3whf) | [Youtube Video](https://www.youtube.com/watch?v=dgjEUcccRwM)\n",
    "Ubuntu | [Install Anaconda on Ubuntu](https://medium.com/@GalarnykMichael/install-python-on-ubuntu-anaconda-65623042cb5a#.4kwsp0wjl) | [Youtube Video](https://www.youtube.com/watch?v=jo4RMiM-ihs)\n",
    "All | [Environment Management with Conda (Python 2 + 3, Configuring Jupyter Notebooks)](https://medium.com/towards-data-science/environment-management-with-conda-python-2-3-b9961a8a5097) | [Youtube Video](https://www.youtube.com/watch?v=rFCBiP9Gkoo)"
   ]
  },
  {
   "cell_type": "code",
   "execution_count": 6,
   "metadata": {},
   "outputs": [
    {
     "name": "stdout",
     "output_type": "stream",
     "text": [
      "\n",
      "INSTALLED VERSIONS\n",
      "------------------\n",
      "commit           : f00ed8f47020034e752baf0250483053340971b0\n",
      "python           : 3.8.8.final.0\n",
      "python-bits      : 64\n",
      "OS               : Windows\n",
      "OS-release       : 10\n",
      "Version          : 10.0.19041\n",
      "machine          : AMD64\n",
      "processor        : Intel64 Family 6 Model 42 Stepping 7, GenuineIntel\n",
      "byteorder        : little\n",
      "LC_ALL           : None\n",
      "LANG             : None\n",
      "LOCALE           : English_United States.1252\n",
      "\n",
      "pandas           : 1.3.0\n",
      "numpy            : 1.20.3\n",
      "pytz             : 2021.1\n",
      "dateutil         : 2.8.2\n",
      "pip              : 21.2.2\n",
      "setuptools       : 58.0.4\n",
      "Cython           : None\n",
      "pytest           : None\n",
      "hypothesis       : None\n",
      "sphinx           : 4.2.0\n",
      "blosc            : None\n",
      "feather          : None\n",
      "xlsxwriter       : None\n",
      "lxml.etree       : 4.6.3\n",
      "html5lib         : None\n",
      "pymysql          : 1.0.2\n",
      "psycopg2         : None\n",
      "jinja2           : 2.11.3\n",
      "IPython          : 7.27.0\n",
      "pandas_datareader: None\n",
      "bs4              : 4.10.0\n",
      "bottleneck       : 1.3.2\n",
      "fsspec           : None\n",
      "fastparquet      : None\n",
      "gcsfs            : None\n",
      "matplotlib       : 3.4.2\n",
      "numexpr          : 2.7.3\n",
      "odfpy            : None\n",
      "openpyxl         : 3.0.7\n",
      "pandas_gbq       : None\n",
      "pyarrow          : None\n",
      "pyxlsb           : None\n",
      "s3fs             : None\n",
      "scipy            : 1.7.1\n",
      "sqlalchemy       : 1.4.25\n",
      "tables           : None\n",
      "tabulate         : None\n",
      "xarray           : None\n",
      "xlrd             : 2.0.1\n",
      "xlwt             : None\n",
      "numba            : None\n",
      "None\n"
     ]
    }
   ],
   "source": [
    "import pandas as pd\n",
    "print(pd.show_versions())"
   ]
  },
  {
   "cell_type": "code",
   "execution_count": null,
   "metadata": {},
   "outputs": [],
   "source": []
  }
 ],
 "metadata": {
  "hide_input": false,
  "kernelspec": {
   "display_name": "Python 3 (ipykernel)",
   "language": "python",
   "name": "python3"
  },
  "language_info": {
   "codemirror_mode": {
    "name": "ipython",
    "version": 3
   },
   "file_extension": ".py",
   "mimetype": "text/x-python",
   "name": "python",
   "nbconvert_exporter": "python",
   "pygments_lexer": "ipython3",
   "version": "3.8.8"
  },
  "toc": {
   "base_numbering": 1,
   "nav_menu": {},
   "number_sections": true,
   "sideBar": true,
   "skip_h1_title": false,
   "title_cell": "Table of Contents",
   "title_sidebar": "Contents",
   "toc_cell": true,
   "toc_position": {},
   "toc_section_display": "block",
   "toc_window_display": false
  }
 },
 "nbformat": 4,
 "nbformat_minor": 2
}
