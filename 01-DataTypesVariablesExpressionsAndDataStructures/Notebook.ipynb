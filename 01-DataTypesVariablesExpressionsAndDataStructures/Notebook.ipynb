{
 "cells": [
  {
   "cell_type": "markdown",
   "metadata": {
    "toc": true
   },
   "source": [
    "<h1>Table of Contents<span class=\"tocSkip\"></span></h1>\n",
    "<div class=\"toc\"><ul class=\"toc-item\"><li><span><a href=\"#Basics\" data-toc-modified-id=\"Basics-1\"><span class=\"toc-item-num\">1&nbsp;&nbsp;</span>Basics</a></span><ul class=\"toc-item\"><li><span><a href=\"#print()-function:\" data-toc-modified-id=\"print()-function:-1.1\"><span class=\"toc-item-num\">1.1&nbsp;&nbsp;</span><code>print()</code> function:</a></span></li><li><span><a href=\"#comment-with-#-symbol:\" data-toc-modified-id=\"comment-with-#-symbol:-1.2\"><span class=\"toc-item-num\">1.2&nbsp;&nbsp;</span>comment with <code>#</code> symbol:</a></span></li></ul></li><li><span><a href=\"#Operators\" data-toc-modified-id=\"Operators-2\"><span class=\"toc-item-num\">2&nbsp;&nbsp;</span>Operators</a></span></li><li><span><a href=\"#Primitive-Data-Types\" data-toc-modified-id=\"Primitive-Data-Types-3\"><span class=\"toc-item-num\">3&nbsp;&nbsp;</span>Primitive Data Types</a></span><ul class=\"toc-item\"><li><span><a href=\"#Booleans\" data-toc-modified-id=\"Booleans-3.1\"><span class=\"toc-item-num\">3.1&nbsp;&nbsp;</span>Booleans</a></span></li><li><span><a href=\"#Numbers\" data-toc-modified-id=\"Numbers-3.2\"><span class=\"toc-item-num\">3.2&nbsp;&nbsp;</span>Numbers</a></span><ul class=\"toc-item\"><li><span><a href=\"#integer\" data-toc-modified-id=\"integer-3.2.1\"><span class=\"toc-item-num\">3.2.1&nbsp;&nbsp;</span>integer</a></span></li><li><span><a href=\"#float\" data-toc-modified-id=\"float-3.2.2\"><span class=\"toc-item-num\">3.2.2&nbsp;&nbsp;</span>float</a></span></li><li><span><a href=\"#complex\" data-toc-modified-id=\"complex-3.2.3\"><span class=\"toc-item-num\">3.2.3&nbsp;&nbsp;</span>complex</a></span></li></ul></li><li><span><a href=\"#Date-and-Time\" data-toc-modified-id=\"Date-and-Time-3.3\"><span class=\"toc-item-num\">3.3&nbsp;&nbsp;</span>Date and Time</a></span></li><li><span><a href=\"#Strings\" data-toc-modified-id=\"Strings-3.4\"><span class=\"toc-item-num\">3.4&nbsp;&nbsp;</span>Strings</a></span></li></ul></li><li><span><a href=\"#Non-primitive-data-structures\" data-toc-modified-id=\"Non-primitive-data-structures-4\"><span class=\"toc-item-num\">4&nbsp;&nbsp;</span>Non-primitive data structures</a></span><ul class=\"toc-item\"><li><span><a href=\"#Composite-Data-Types-(Sequences)\" data-toc-modified-id=\"Composite-Data-Types-(Sequences)-4.1\"><span class=\"toc-item-num\">4.1&nbsp;&nbsp;</span>Composite Data Types (<em>Sequences</em>)</a></span><ul class=\"toc-item\"><li><span><a href=\"#Lists\" data-toc-modified-id=\"Lists-4.1.1\"><span class=\"toc-item-num\">4.1.1&nbsp;&nbsp;</span>Lists</a></span></li><li><span><a href=\"#Tuples\" data-toc-modified-id=\"Tuples-4.1.2\"><span class=\"toc-item-num\">4.1.2&nbsp;&nbsp;</span>Tuples</a></span></li></ul></li><li><span><a href=\"#Composite-Data-Types-(Mappings)\" data-toc-modified-id=\"Composite-Data-Types-(Mappings)-4.2\"><span class=\"toc-item-num\">4.2&nbsp;&nbsp;</span>Composite Data Types (<em>Mappings</em>)</a></span><ul class=\"toc-item\"><li><span><a href=\"#Dictionaries\" data-toc-modified-id=\"Dictionaries-4.2.1\"><span class=\"toc-item-num\">4.2.1&nbsp;&nbsp;</span>Dictionaries</a></span></li><li><span><a href=\"#Sets\" data-toc-modified-id=\"Sets-4.2.2\"><span class=\"toc-item-num\">4.2.2&nbsp;&nbsp;</span>Sets</a></span></li></ul></li></ul></li><li><span><a href=\"#Data-types-Tree\" data-toc-modified-id=\"Data-types-Tree-5\"><span class=\"toc-item-num\">5&nbsp;&nbsp;</span>Data types Tree</a></span></li><li><span><a href=\"#Queues(FIFO)-and-Stacks(LIFO)\" data-toc-modified-id=\"Queues(FIFO)-and-Stacks(LIFO)-6\"><span class=\"toc-item-num\">6&nbsp;&nbsp;</span>Queues(FIFO) and Stacks(LIFO)</a></span></li><li><span><a href=\"#Type-conversion\" data-toc-modified-id=\"Type-conversion-7\"><span class=\"toc-item-num\">7&nbsp;&nbsp;</span>Type conversion</a></span><ul class=\"toc-item\"><li><span><a href=\"#Implicit-type-conversion\" data-toc-modified-id=\"Implicit-type-conversion-7.1\"><span class=\"toc-item-num\">7.1&nbsp;&nbsp;</span>Implicit type conversion</a></span></li><li><span><a href=\"#Explicit-type-conversion\" data-toc-modified-id=\"Explicit-type-conversion-7.2\"><span class=\"toc-item-num\">7.2&nbsp;&nbsp;</span>Explicit type conversion</a></span></li></ul></li><li><span><a href=\"#File-handling-:-Working-with-files---Reading-and-Writing\" data-toc-modified-id=\"File-handling-:-Working-with-files---Reading-and-Writing-8\"><span class=\"toc-item-num\">8&nbsp;&nbsp;</span>File handling : Working with files - Reading and Writing</a></span></li></ul></div>"
   ]
  },
  {
   "cell_type": "markdown",
   "metadata": {},
   "source": [
    "## Basics"
   ]
  },
  {
   "cell_type": "markdown",
   "metadata": {},
   "source": [
    "### `print()` function:"
   ]
  },
  {
   "cell_type": "code",
   "execution_count": 1,
   "metadata": {},
   "outputs": [
    {
     "name": "stdout",
     "output_type": "stream",
     "text": [
      "hello world\n"
     ]
    }
   ],
   "source": [
    "print('hello world')"
   ]
  },
  {
   "cell_type": "code",
   "execution_count": 2,
   "metadata": {},
   "outputs": [
    {
     "name": "stdout",
     "output_type": "stream",
     "text": [
      "hello world\n"
     ]
    }
   ],
   "source": [
    "print(\"hello\", 'world')"
   ]
  },
  {
   "cell_type": "code",
   "execution_count": 4,
   "metadata": {},
   "outputs": [
    {
     "name": "stdout",
     "output_type": "stream",
     "text": [
      "hello world!\n"
     ]
    }
   ],
   "source": [
    "print(\"hello world\" + \"!\")"
   ]
  },
  {
   "cell_type": "code",
   "execution_count": 6,
   "metadata": {},
   "outputs": [
    {
     "name": "stdout",
     "output_type": "stream",
     "text": [
      "welcome_to_python;"
     ]
    }
   ],
   "source": [
    "print(\"welcome\", \"to\", \"python\", sep=\"_\", end=\";\")"
   ]
  },
  {
   "cell_type": "code",
   "execution_count": 8,
   "metadata": {},
   "outputs": [
    {
     "name": "stdout",
     "output_type": "stream",
     "text": [
      "welcome_to_python;data science\n"
     ]
    }
   ],
   "source": [
    "print(\"welcome\", \"to\", \"python\", sep=\"_\", end=\";\")\n",
    "print(\"data science\")"
   ]
  },
  {
   "cell_type": "code",
   "execution_count": 10,
   "metadata": {},
   "outputs": [
    {
     "name": "stdout",
     "output_type": "stream",
     "text": [
      "welcome_to_python\n",
      "data science\n"
     ]
    }
   ],
   "source": [
    "print(\"welcome\", \"to\", \"python\", sep=\"_\", end=\"\\n\") # end with new line(by default)\n",
    "print(\"data science\")"
   ]
  },
  {
   "cell_type": "markdown",
   "metadata": {},
   "source": [
    "### comment with `#` symbol: "
   ]
  },
  {
   "cell_type": "code",
   "execution_count": 7,
   "metadata": {},
   "outputs": [
    {
     "name": "stdout",
     "output_type": "stream",
     "text": [
      "welcome to data science\n"
     ]
    }
   ],
   "source": [
    "# this statement will print the statement inside in it\n",
    "print(\"welcome to data science\")"
   ]
  },
  {
   "cell_type": "markdown",
   "metadata": {},
   "source": [
    "Python has many native datatypes. Here are the important ones:\n",
    "\n",
    "* Booleans are either True or False.\n",
    "* Numbers can be integers (1 and 2), floats (1.1 and 1.2), fractions (1/2 and 2/3), or even complex numbers.\n",
    "* Strings are sequences of Unicode characters, e.g. an html document.\n",
    "* Lists are ordered sequences of values.\n",
    "* Dictionaries are unordered bags of key-value pairs.\n",
    "* Tuples are ordered, sequences of values and immutable (cannot be modified inplace)\n",
    "* Sets are unordered bags of values."
   ]
  },
  {
   "cell_type": "markdown",
   "metadata": {},
   "source": [
    "## Operators"
   ]
  },
  {
   "cell_type": "markdown",
   "metadata": {},
   "source": [
    "| Operators (Decreasing order of precedence) | Operators (Decreasing order of precedence)        |\n",
    "|--------------------------------------------|---------------------------------------------------|\n",
    "| `**`                                       | Exponent                                          |\n",
    "| `+, -, *, /, //, %`                        | Addition, Subtraction, Multiplication, Division, Floor division, Modulus |\n",
    "| `< > <= >= == !=`                          | Comparison operators                              |\n",
    "| `= %= /= //= -= += *= **=`                 | Assignment Operators                              |\n",
    "| `is is not`                                | Identity operators                                |\n",
    "| `in not in`                                | Membership operators                              |\n",
    "| `not or and`                               | Logical operators                                 |\n",
    "\n",
    "<span style=\"color:red; font-family:centurygothic \">Continue...</span><a href=\"https://www.guru99.com/python-operators-complete-tutorial.html\" target=\"_blank\">https://www.guru99.com/python-operators-complete-tutorial.html</a>  "
   ]
  },
  {
   "cell_type": "markdown",
   "metadata": {},
   "source": [
    "## Primitive Data Types  \n",
    "\"Data types which are pre-defined and supported by the programming language.\"  "
   ]
  },
  {
   "cell_type": "markdown",
   "metadata": {},
   "source": [
    "### Booleans"
   ]
  },
  {
   "cell_type": "code",
   "execution_count": 1,
   "metadata": {},
   "outputs": [],
   "source": [
    "t = True"
   ]
  },
  {
   "cell_type": "code",
   "execution_count": 2,
   "metadata": {},
   "outputs": [
    {
     "data": {
      "text/plain": [
       "bool"
      ]
     },
     "execution_count": 2,
     "metadata": {},
     "output_type": "execute_result"
    }
   ],
   "source": [
    "type(t)"
   ]
  },
  {
   "cell_type": "code",
   "execution_count": 32,
   "metadata": {},
   "outputs": [
    {
     "data": {
      "text/plain": [
       "False"
      ]
     },
     "execution_count": 32,
     "metadata": {},
     "output_type": "execute_result"
    }
   ],
   "source": [
    "False"
   ]
  },
  {
   "cell_type": "markdown",
   "metadata": {},
   "source": [
    "### Numbers"
   ]
  },
  {
   "cell_type": "markdown",
   "metadata": {},
   "source": [
    "#### integer"
   ]
  },
  {
   "cell_type": "code",
   "execution_count": 3,
   "metadata": {},
   "outputs": [
    {
     "data": {
      "text/plain": [
       "int"
      ]
     },
     "execution_count": 3,
     "metadata": {},
     "output_type": "execute_result"
    }
   ],
   "source": [
    "i = 4 \n",
    "type(i)"
   ]
  },
  {
   "cell_type": "markdown",
   "metadata": {},
   "source": [
    "#### float"
   ]
  },
  {
   "cell_type": "code",
   "execution_count": 4,
   "metadata": {},
   "outputs": [
    {
     "data": {
      "text/plain": [
       "float"
      ]
     },
     "execution_count": 4,
     "metadata": {},
     "output_type": "execute_result"
    }
   ],
   "source": [
    "f = 3.45 \n",
    "type(f)"
   ]
  },
  {
   "cell_type": "markdown",
   "metadata": {},
   "source": [
    "#### complex"
   ]
  },
  {
   "cell_type": "code",
   "execution_count": 5,
   "metadata": {},
   "outputs": [
    {
     "data": {
      "text/plain": [
       "complex"
      ]
     },
     "execution_count": 5,
     "metadata": {},
     "output_type": "execute_result"
    }
   ],
   "source": [
    "cmp = 3+4j\n",
    "type(cmp)"
   ]
  },
  {
   "cell_type": "code",
   "execution_count": 6,
   "metadata": {},
   "outputs": [
    {
     "data": {
      "text/plain": [
       "3.0"
      ]
     },
     "execution_count": 6,
     "metadata": {},
     "output_type": "execute_result"
    }
   ],
   "source": [
    "cmp.real"
   ]
  },
  {
   "cell_type": "code",
   "execution_count": 7,
   "metadata": {},
   "outputs": [
    {
     "data": {
      "text/plain": [
       "4.0"
      ]
     },
     "execution_count": 7,
     "metadata": {},
     "output_type": "execute_result"
    }
   ],
   "source": [
    "cmp.imag"
   ]
  },
  {
   "cell_type": "code",
   "execution_count": 33,
   "metadata": {},
   "outputs": [
    {
     "data": {
      "text/plain": [
       "2"
      ]
     },
     "execution_count": 33,
     "metadata": {},
     "output_type": "execute_result"
    }
   ],
   "source": [
    "1 + 1"
   ]
  },
  {
   "cell_type": "code",
   "execution_count": 34,
   "metadata": {},
   "outputs": [
    {
     "data": {
      "text/plain": [
       "3"
      ]
     },
     "execution_count": 34,
     "metadata": {},
     "output_type": "execute_result"
    }
   ],
   "source": [
    "1 * 3"
   ]
  },
  {
   "cell_type": "code",
   "execution_count": 35,
   "metadata": {},
   "outputs": [
    {
     "data": {
      "text/plain": [
       "0.5"
      ]
     },
     "execution_count": 35,
     "metadata": {},
     "output_type": "execute_result"
    }
   ],
   "source": [
    "1 / 2"
   ]
  },
  {
   "cell_type": "code",
   "execution_count": 5,
   "metadata": {},
   "outputs": [
    {
     "name": "stdout",
     "output_type": "stream",
     "text": [
      "15\n",
      "24\n"
     ]
    },
    {
     "data": {
      "text/plain": [
       "16"
      ]
     },
     "execution_count": 5,
     "metadata": {},
     "output_type": "execute_result"
    }
   ],
   "source": [
    "print(7+8)\n",
    "print(4*6)\n",
    "2 ** 4"
   ]
  },
  {
   "cell_type": "code",
   "execution_count": 6,
   "metadata": {},
   "outputs": [
    {
     "data": {
      "text/plain": [
       "0"
      ]
     },
     "execution_count": 6,
     "metadata": {},
     "output_type": "execute_result"
    }
   ],
   "source": [
    "4 % 2"
   ]
  },
  {
   "cell_type": "code",
   "execution_count": 38,
   "metadata": {},
   "outputs": [
    {
     "data": {
      "text/plain": [
       "1"
      ]
     },
     "execution_count": 38,
     "metadata": {},
     "output_type": "execute_result"
    }
   ],
   "source": [
    "5 % 2"
   ]
  },
  {
   "cell_type": "code",
   "execution_count": 7,
   "metadata": {
    "scrolled": false
   },
   "outputs": [
    {
     "data": {
      "text/plain": [
       "50"
      ]
     },
     "execution_count": 7,
     "metadata": {},
     "output_type": "execute_result"
    }
   ],
   "source": [
    "(2 + 3) * (5 + 5)"
   ]
  },
  {
   "cell_type": "markdown",
   "metadata": {},
   "source": [
    "**Number Calculations**  \n",
    "(Operator Precedence)\n",
    "\n",
    "* PEMDAS(parenthesis, exponents, multiplication, division, addition, subtraction)"
   ]
  },
  {
   "cell_type": "code",
   "execution_count": 1,
   "metadata": {},
   "outputs": [
    {
     "data": {
      "text/plain": [
       "4.0"
      ]
     },
     "execution_count": 1,
     "metadata": {},
     "output_type": "execute_result"
    }
   ],
   "source": [
    "3+3/3"
   ]
  },
  {
   "cell_type": "code",
   "execution_count": 2,
   "metadata": {
    "scrolled": true
   },
   "outputs": [
    {
     "data": {
      "text/plain": [
       "2.0"
      ]
     },
     "execution_count": 2,
     "metadata": {},
     "output_type": "execute_result"
    }
   ],
   "source": [
    "(3+3)/3"
   ]
  },
  {
   "cell_type": "code",
   "execution_count": 1,
   "metadata": {},
   "outputs": [
    {
     "data": {
      "text/plain": [
       "3.0"
      ]
     },
     "execution_count": 1,
     "metadata": {},
     "output_type": "execute_result"
    }
   ],
   "source": [
    "((((13+5)*2)-4)/2)-13\n",
    "# How did that happen? Let’s work it out.\n",
    "# 13+5 gives us 18\n",
    "# 18*2 gives us 36\n",
    "# 36-4 gives us 32\n",
    "# 32/2 gives us 16.0 #Note that division gives us floats!\n",
    "# 16-13 gives us 3.0\n",
    "# Operator precedence rule: ()>∗∗>//>%>+>−"
   ]
  },
  {
   "cell_type": "markdown",
   "metadata": {},
   "source": [
    "https://data-flair.training/blogs/python-operator-precedence/  \n",
    "https://docs.python.org/3.7/reference/expressions.html#operator-precedence   \n",
    "*Arithmetic operators:* https://www.youtube.com/watch?v=QC_Wpj_cJKM  "
   ]
  },
  {
   "cell_type": "markdown",
   "metadata": {},
   "source": [
    "**Python Syntax:**  \n",
    "https://www.codecademy.com/learn/learn-python-3/modules/learn-python3-syntax/reference  "
   ]
  },
  {
   "cell_type": "markdown",
   "metadata": {},
   "source": [
    "### Date and Time\n",
    "\n",
    "A date in Python is not a data type of its own, but we can import a module named datetime to work with dates as date objects."
   ]
  },
  {
   "cell_type": "code",
   "execution_count": 7,
   "metadata": {},
   "outputs": [
    {
     "name": "stdout",
     "output_type": "stream",
     "text": [
      "2019-03-07 10:33:50.931781\n"
     ]
    }
   ],
   "source": [
    "import datetime\n",
    "\n",
    "x = datetime.datetime.now()\n",
    "print(x)"
   ]
  },
  {
   "cell_type": "code",
   "execution_count": 8,
   "metadata": {},
   "outputs": [
    {
     "name": "stdout",
     "output_type": "stream",
     "text": [
      "2019\n"
     ]
    }
   ],
   "source": [
    "print(x.year)"
   ]
  },
  {
   "cell_type": "code",
   "execution_count": 11,
   "metadata": {
    "scrolled": true
   },
   "outputs": [
    {
     "name": "stdout",
     "output_type": "stream",
     "text": [
      "Thursday\n"
     ]
    }
   ],
   "source": [
    "# strftime is a method for formatting date objects into readable strings.\n",
    "print(x.strftime(\"%A\"))\n",
    "# it takes one parameter called format\n",
    "# http://strftime.org/"
   ]
  },
  {
   "cell_type": "code",
   "execution_count": 4,
   "metadata": {},
   "outputs": [
    {
     "name": "stdout",
     "output_type": "stream",
     "text": [
      "2020-05-17 00:00:00\n"
     ]
    }
   ],
   "source": [
    "# Create a date object\n",
    "x = datetime.datetime(2020, 5, 17)\n",
    "print(x)"
   ]
  },
  {
   "cell_type": "markdown",
   "metadata": {},
   "source": [
    "https://www.guru99.com/date-time-and-datetime-classes-in-python.html  \n",
    "https://dzone.com/articles/python-101-working-with-dates-and-time  "
   ]
  },
  {
   "cell_type": "markdown",
   "metadata": {},
   "source": [
    "### Strings"
   ]
  },
  {
   "cell_type": "markdown",
   "metadata": {},
   "source": [
    "* string is Composite Data Type (*Sequences*) and consider it as a data structure    \n",
    "* string is a ordered sequence of characters. \n",
    "* A string is contained within two quotes or single quotes. \n",
    "* A string can be spaces or digits. \n",
    "* A string can also be special characters. \n",
    "* Positive / Negative indexing applicable\n",
    "* Strings are immutable(we cannot change inplace but we can create another string from it)"
   ]
  },
  {
   "cell_type": "code",
   "execution_count": 2,
   "metadata": {},
   "outputs": [],
   "source": [
    "st = 'data science and machine learning with python'"
   ]
  },
  {
   "cell_type": "code",
   "execution_count": 2,
   "metadata": {},
   "outputs": [
    {
     "data": {
      "text/plain": [
       "str"
      ]
     },
     "execution_count": 2,
     "metadata": {},
     "output_type": "execute_result"
    }
   ],
   "source": [
    "type(st)"
   ]
  },
  {
   "cell_type": "markdown",
   "metadata": {},
   "source": [
    "**Indexing:**"
   ]
  },
  {
   "cell_type": "code",
   "execution_count": 3,
   "metadata": {},
   "outputs": [
    {
     "name": "stdout",
     "output_type": "stream",
     "text": [
      "d\n",
      "a\n",
      "t\n"
     ]
    }
   ],
   "source": [
    "# positive indexing\n",
    "print(st[0])\n",
    "print(st[1])\n",
    "print(st[2])"
   ]
  },
  {
   "cell_type": "code",
   "execution_count": 4,
   "metadata": {},
   "outputs": [
    {
     "name": "stdout",
     "output_type": "stream",
     "text": [
      "n\n",
      "o\n",
      "h\n"
     ]
    }
   ],
   "source": [
    "# negative indexing\n",
    "print(st[-1])\n",
    "print(st[-2])\n",
    "print(st[-3])"
   ]
  },
  {
   "cell_type": "markdown",
   "metadata": {},
   "source": [
    "**Slicing:**"
   ]
  },
  {
   "cell_type": "code",
   "execution_count": 3,
   "metadata": {},
   "outputs": [
    {
     "name": "stdout",
     "output_type": "stream",
     "text": [
      "data\n",
      "data\n",
      " science and machine learning with python\n",
      "scie\n",
      "dt cec n ahn erigwt yhn\n",
      "dacn dai ai tph\n",
      "tcc\n",
      "nohtyp htiw gninrael enihcam dna ecneics atad\n",
      "nhy twgire nha n cec td\n"
     ]
    }
   ],
   "source": [
    "print(st[0:4])\n",
    "print(st[:4])\n",
    "print(st[4:])\n",
    "print(st[5:9])\n",
    "print(st[::2]) # step 2\n",
    "print(st[::3]) # step 2\n",
    "print(st[2:12:4]) # \n",
    "print(st[::-1])  # reverse the string\n",
    "print(st[::-2])  # reverse the string with step 1"
   ]
  },
  {
   "cell_type": "markdown",
   "metadata": {},
   "source": [
    "**String Methods:**"
   ]
  },
  {
   "cell_type": "code",
   "execution_count": 5,
   "metadata": {},
   "outputs": [],
   "source": [
    "s= \"hello world\" # using double quotes"
   ]
  },
  {
   "cell_type": "code",
   "execution_count": 6,
   "metadata": {},
   "outputs": [],
   "source": [
    "s= 'hello world' # using single quotes"
   ]
  },
  {
   "cell_type": "code",
   "execution_count": 7,
   "metadata": {},
   "outputs": [
    {
     "name": "stdout",
     "output_type": "stream",
     "text": [
      "Stranger, if you passing meet me and desire to speak to me, why\n",
      "  should you not speak to me?\n",
      "And why should I not speak to you?\n"
     ]
    }
   ],
   "source": [
    "# Multi-line Strings\n",
    "to_you = \"\"\"Stranger, if you passing meet me and desire to speak to me, why\n",
    "  should you not speak to me?\n",
    "And why should I not speak to you?\"\"\"\n",
    "\n",
    "print(to_you)"
   ]
  },
  {
   "cell_type": "code",
   "execution_count": 8,
   "metadata": {
    "scrolled": false
   },
   "outputs": [
    {
     "data": {
      "text/plain": [
       "10"
      ]
     },
     "execution_count": 8,
     "metadata": {},
     "output_type": "execute_result"
    }
   ],
   "source": [
    "s.index('d')"
   ]
  },
  {
   "cell_type": "code",
   "execution_count": 9,
   "metadata": {},
   "outputs": [
    {
     "data": {
      "text/plain": [
       "'Hello world'"
      ]
     },
     "execution_count": 9,
     "metadata": {},
     "output_type": "execute_result"
    }
   ],
   "source": [
    "s.capitalize()"
   ]
  },
  {
   "cell_type": "code",
   "execution_count": 16,
   "metadata": {},
   "outputs": [
    {
     "data": {
      "text/plain": [
       "2"
      ]
     },
     "execution_count": 16,
     "metadata": {},
     "output_type": "execute_result"
    }
   ],
   "source": [
    "s.count('o')"
   ]
  },
  {
   "cell_type": "code",
   "execution_count": 18,
   "metadata": {
    "run_control": {
     "marked": false
    },
    "scrolled": true
   },
   "outputs": [
    {
     "name": "stdout",
     "output_type": "stream",
     "text": [
      "4\n",
      "5\n",
      "20\n"
     ]
    }
   ],
   "source": [
    "value = \"cat ppicture is cat picture\"\n",
    "\n",
    "# Find first index of this string.\n",
    "i = value.find(\"p\")\n",
    "print(i)\n",
    "\n",
    "# Find first index (of this string) after previous index.\n",
    "b = value.find(\"p\", i + 1)\n",
    "print(b)\n",
    "\n",
    "\n",
    "b = value.find(\"p\", i + 2)\n",
    "print(b)"
   ]
  },
  {
   "cell_type": "markdown",
   "metadata": {},
   "source": [
    "The `index()` method is similar to `find()` method for strings. The only difference is that `find()` method returns -1 if the substring is not found, whereas `index()` throws an exception."
   ]
  },
  {
   "cell_type": "code",
   "execution_count": 12,
   "metadata": {
    "scrolled": true
   },
   "outputs": [
    {
     "data": {
      "text/plain": [
       "'Hello World'"
      ]
     },
     "execution_count": 12,
     "metadata": {},
     "output_type": "execute_result"
    }
   ],
   "source": [
    "s.title()"
   ]
  },
  {
   "cell_type": "code",
   "execution_count": 128,
   "metadata": {},
   "outputs": [
    {
     "data": {
      "text/plain": [
       "'HELLO WORLD'"
      ]
     },
     "execution_count": 128,
     "metadata": {},
     "output_type": "execute_result"
    }
   ],
   "source": [
    "s.upper()"
   ]
  },
  {
   "cell_type": "code",
   "execution_count": 129,
   "metadata": {},
   "outputs": [
    {
     "data": {
      "text/plain": [
       "True"
      ]
     },
     "execution_count": 129,
     "metadata": {},
     "output_type": "execute_result"
    }
   ],
   "source": [
    "s.islower()"
   ]
  },
  {
   "cell_type": "code",
   "execution_count": 130,
   "metadata": {},
   "outputs": [],
   "source": [
    "s= \"HELLO WORLD\""
   ]
  },
  {
   "cell_type": "code",
   "execution_count": 131,
   "metadata": {},
   "outputs": [
    {
     "data": {
      "text/plain": [
       "False"
      ]
     },
     "execution_count": 131,
     "metadata": {},
     "output_type": "execute_result"
    }
   ],
   "source": [
    "s.islower()"
   ]
  },
  {
   "cell_type": "code",
   "execution_count": 132,
   "metadata": {},
   "outputs": [
    {
     "data": {
      "text/plain": [
       "'Hello world'"
      ]
     },
     "execution_count": 132,
     "metadata": {},
     "output_type": "execute_result"
    }
   ],
   "source": [
    "s.capitalize()"
   ]
  },
  {
   "cell_type": "code",
   "execution_count": 133,
   "metadata": {},
   "outputs": [
    {
     "data": {
      "text/plain": [
       "'hello world'"
      ]
     },
     "execution_count": 133,
     "metadata": {},
     "output_type": "execute_result"
    }
   ],
   "source": [
    "s.lower()"
   ]
  },
  {
   "cell_type": "code",
   "execution_count": 134,
   "metadata": {},
   "outputs": [],
   "source": [
    "s = \"HeLlO WoRlD\""
   ]
  },
  {
   "cell_type": "code",
   "execution_count": 135,
   "metadata": {},
   "outputs": [
    {
     "data": {
      "text/plain": [
       "'hElLo wOrLd'"
      ]
     },
     "execution_count": 135,
     "metadata": {},
     "output_type": "execute_result"
    }
   ],
   "source": [
    "s.swapcase()"
   ]
  },
  {
   "cell_type": "code",
   "execution_count": 136,
   "metadata": {},
   "outputs": [],
   "source": [
    "s = \" Hello world how are you \""
   ]
  },
  {
   "cell_type": "code",
   "execution_count": 137,
   "metadata": {},
   "outputs": [],
   "source": [
    "s = \"hello world how are you\""
   ]
  },
  {
   "cell_type": "code",
   "execution_count": 138,
   "metadata": {},
   "outputs": [
    {
     "data": {
      "text/plain": [
       "'Hello world how are you'"
      ]
     },
     "execution_count": 138,
     "metadata": {},
     "output_type": "execute_result"
    }
   ],
   "source": [
    "s.capitalize()"
   ]
  },
  {
   "cell_type": "code",
   "execution_count": 139,
   "metadata": {},
   "outputs": [
    {
     "data": {
      "text/plain": [
       "'Hello World How Are You'"
      ]
     },
     "execution_count": 139,
     "metadata": {},
     "output_type": "execute_result"
    }
   ],
   "source": [
    "s.title()"
   ]
  },
  {
   "cell_type": "code",
   "execution_count": 140,
   "metadata": {},
   "outputs": [
    {
     "data": {
      "text/plain": [
       "'HELLO WORLD HOW ARE YOU'"
      ]
     },
     "execution_count": 140,
     "metadata": {},
     "output_type": "execute_result"
    }
   ],
   "source": [
    "s.upper()"
   ]
  },
  {
   "cell_type": "code",
   "execution_count": 141,
   "metadata": {},
   "outputs": [
    {
     "data": {
      "text/plain": [
       "False"
      ]
     },
     "execution_count": 141,
     "metadata": {},
     "output_type": "execute_result"
    }
   ],
   "source": [
    "\"H\" in s"
   ]
  },
  {
   "cell_type": "code",
   "execution_count": 142,
   "metadata": {},
   "outputs": [
    {
     "data": {
      "text/plain": [
       "True"
      ]
     },
     "execution_count": 142,
     "metadata": {},
     "output_type": "execute_result"
    }
   ],
   "source": [
    "\"h\" in s"
   ]
  },
  {
   "cell_type": "code",
   "execution_count": 14,
   "metadata": {},
   "outputs": [
    {
     "data": {
      "text/plain": [
       "11"
      ]
     },
     "execution_count": 14,
     "metadata": {},
     "output_type": "execute_result"
    }
   ],
   "source": [
    "len(s)"
   ]
  },
  {
   "cell_type": "code",
   "execution_count": 144,
   "metadata": {},
   "outputs": [],
   "source": [
    "s = ' hello world how are you'"
   ]
  },
  {
   "cell_type": "code",
   "execution_count": 145,
   "metadata": {},
   "outputs": [
    {
     "data": {
      "text/plain": [
       "'hello world how are you'"
      ]
     },
     "execution_count": 145,
     "metadata": {},
     "output_type": "execute_result"
    }
   ],
   "source": [
    "s.strip()"
   ]
  },
  {
   "cell_type": "code",
   "execution_count": 146,
   "metadata": {},
   "outputs": [
    {
     "data": {
      "text/plain": [
       "' '"
      ]
     },
     "execution_count": 146,
     "metadata": {},
     "output_type": "execute_result"
    }
   ],
   "source": [
    "min(s.strip())"
   ]
  },
  {
   "cell_type": "code",
   "execution_count": 147,
   "metadata": {},
   "outputs": [
    {
     "data": {
      "text/plain": [
       "'y'"
      ]
     },
     "execution_count": 147,
     "metadata": {},
     "output_type": "execute_result"
    }
   ],
   "source": [
    "max(s)"
   ]
  },
  {
   "cell_type": "code",
   "execution_count": 148,
   "metadata": {},
   "outputs": [
    {
     "data": {
      "text/plain": [
       "' hello world how are you'"
      ]
     },
     "execution_count": 148,
     "metadata": {},
     "output_type": "execute_result"
    }
   ],
   "source": [
    "s"
   ]
  },
  {
   "cell_type": "code",
   "execution_count": 149,
   "metadata": {},
   "outputs": [
    {
     "data": {
      "text/plain": [
       "False"
      ]
     },
     "execution_count": 149,
     "metadata": {},
     "output_type": "execute_result"
    }
   ],
   "source": [
    "s.isspace()"
   ]
  },
  {
   "cell_type": "code",
   "execution_count": 150,
   "metadata": {},
   "outputs": [
    {
     "data": {
      "text/plain": [
       "'hello world how are you'"
      ]
     },
     "execution_count": 150,
     "metadata": {},
     "output_type": "execute_result"
    }
   ],
   "source": [
    "s.strip()"
   ]
  },
  {
   "cell_type": "markdown",
   "metadata": {},
   "source": [
    "**strings immutable nature **"
   ]
  },
  {
   "cell_type": "markdown",
   "metadata": {},
   "source": [
    "\n",
    "`my_string = \"abc\"`  \n",
    "`my_string[0] = \"d\"`  \n",
    "```{py}\n",
    "---------------------------------------------------------------------------\n",
    "TypeError                                 Traceback (most recent call last)\n",
    "<ipython-input-1-f26f28798517> in <module>()\n",
    "      1 my_string = \"abc\"\n",
    "----> 2 my_string[0] = \"d\"\n",
    "\n",
    "TypeError: 'str' object does not support item assignment\n",
    "```"
   ]
  },
  {
   "cell_type": "markdown",
   "metadata": {},
   "source": [
    "*strings are immutable, which means you can't change an existing string (inplace). The best you can do is create a new string that is a variation on the original:*"
   ]
  },
  {
   "cell_type": "code",
   "execution_count": 2,
   "metadata": {},
   "outputs": [
    {
     "name": "stdout",
     "output_type": "stream",
     "text": [
      "Jello, world!\n",
      "Hello, world!\n"
     ]
    }
   ],
   "source": [
    "greeting = 'Hello, world!'\n",
    "new_greeting = 'J' + greeting[1:]\n",
    "print(new_greeting)\n",
    "print(greeting)"
   ]
  },
  {
   "cell_type": "markdown",
   "metadata": {},
   "source": [
    "**String.format()**  "
   ]
  },
  {
   "cell_type": "code",
   "execution_count": 16,
   "metadata": {},
   "outputs": [
    {
     "data": {
      "text/plain": [
       "'My name is sumendar'"
      ]
     },
     "execution_count": 16,
     "metadata": {},
     "output_type": "execute_result"
    }
   ],
   "source": [
    "name = \"sumendar\"\n",
    "greeting = \"My name is {}\".format(name)\n",
    "greeting"
   ]
  },
  {
   "cell_type": "markdown",
   "metadata": {},
   "source": [
    "**String concatenation**"
   ]
  },
  {
   "cell_type": "code",
   "execution_count": 7,
   "metadata": {},
   "outputs": [
    {
     "name": "stdout",
     "output_type": "stream",
     "text": [
      "happy birthday\n",
      "my name is john\n"
     ]
    }
   ],
   "source": [
    "print(\"happy\" + \" \" + \"birthday\")\n",
    "print(\"my name is \" + \"john\")"
   ]
  },
  {
   "cell_type": "markdown",
   "metadata": {},
   "source": [
    "**Escape Sequences in Strings**"
   ]
  },
  {
   "cell_type": "markdown",
   "metadata": {},
   "source": [
    "* backslash (\\) character is used in some strings to be treated one or more characters specially. \n",
    "* This is referred to as an escape sequence, because `the backslash causes the subsequent character sequence to “escape”` its usual meaning."
   ]
  },
  {
   "cell_type": "code",
   "execution_count": 8,
   "metadata": {},
   "outputs": [
    {
     "ename": "SyntaxError",
     "evalue": "invalid syntax (<ipython-input-8-4fb72c6c5730>, line 1)",
     "output_type": "error",
     "traceback": [
      "\u001b[1;36m  File \u001b[1;32m\"<ipython-input-8-4fb72c6c5730>\"\u001b[1;36m, line \u001b[1;32m1\u001b[0m\n\u001b[1;33m    print('This string contains a single quote (') character.')\u001b[0m\n\u001b[1;37m                                                           ^\u001b[0m\n\u001b[1;31mSyntaxError\u001b[0m\u001b[1;31m:\u001b[0m invalid syntax\n"
     ]
    }
   ],
   "source": [
    "print('This string contains a single quote (') character.')\n",
    "# gives a syntaxError"
   ]
  },
  {
   "cell_type": "code",
   "execution_count": 10,
   "metadata": {},
   "outputs": [
    {
     "name": "stdout",
     "output_type": "stream",
     "text": [
      "This string contains a single quote (') character.\n",
      "This string contains a double quote (\") character.\n"
     ]
    }
   ],
   "source": [
    "print('This string contains a single quote (\\') character.')\n",
    "print(\"This string contains a double quote (\\\") character.\")"
   ]
  },
  {
   "cell_type": "code",
   "execution_count": 11,
   "metadata": {},
   "outputs": [
    {
     "ename": "SyntaxError",
     "evalue": "EOL while scanning string literal (<ipython-input-11-06aeb0cb83d6>, line 1)",
     "output_type": "error",
     "traceback": [
      "\u001b[1;36m  File \u001b[1;32m\"<ipython-input-11-06aeb0cb83d6>\"\u001b[1;36m, line \u001b[1;32m1\u001b[0m\n\u001b[1;33m    print('a,\u001b[0m\n\u001b[1;37m             ^\u001b[0m\n\u001b[1;31mSyntaxError\u001b[0m\u001b[1;31m:\u001b[0m EOL while scanning string literal\n"
     ]
    }
   ],
   "source": [
    "print('a,\n",
    "      b,\n",
    "      c)    # if we press Enter will gives SyntaxError after each letter"
   ]
  },
  {
   "cell_type": "code",
   "execution_count": 5,
   "metadata": {},
   "outputs": [
    {
     "name": "stdout",
     "output_type": "stream",
     "text": [
      "abc\n",
      "abc\n"
     ]
    }
   ],
   "source": [
    "print('a\\\n",
    "b\\\n",
    "c')\n",
    "\n",
    "print('a\\\n",
    "b\\\n",
    "c')"
   ]
  },
  {
   "cell_type": "code",
   "execution_count": 9,
   "metadata": {
    "scrolled": true
   },
   "outputs": [
    {
     "name": "stdout",
     "output_type": "stream",
     "text": [
      "foo\\bar\n"
     ]
    }
   ],
   "source": [
    "print('foo\\\\bar') # o include a literal backslash in a string, escape it with a backslash"
   ]
  },
  {
   "cell_type": "code",
   "execution_count": 10,
   "metadata": {},
   "outputs": [
    {
     "name": "stdout",
     "output_type": "stream",
     "text": [
      "foo\\bar\n"
     ]
    }
   ],
   "source": [
    "print(r'foo\\bar') # o include a literal backslash in a string, escape it with a letter r "
   ]
  },
  {
   "cell_type": "markdown",
   "metadata": {},
   "source": [
    "**Applying Special Meaning to Characters**"
   ]
  },
  {
   "cell_type": "code",
   "execution_count": 13,
   "metadata": {},
   "outputs": [
    {
     "name": "stdout",
     "output_type": "stream",
     "text": [
      "foo\tbar\n",
      "a\tb\n",
      "aaa\n",
      "a\n",
      "b\n",
      "→ →\n"
     ]
    }
   ],
   "source": [
    "print('foo\\tbar')\n",
    "print(\"a\\tb\")\n",
    "print(\"a\\141\\x61\")\n",
    "print(\"a\\nb\")\n",
    "print('\\u2192 \\N{rightwards arrow}')"
   ]
  },
  {
   "cell_type": "markdown",
   "metadata": {},
   "source": [
    "**Raw Strings**"
   ]
  },
  {
   "cell_type": "markdown",
   "metadata": {},
   "source": [
    "* A raw string literal is preceded by r or R.  \n",
    "* Escape sequences in the associated string are not translated. The backslash character is left in the string:"
   ]
  },
  {
   "cell_type": "code",
   "execution_count": 14,
   "metadata": {},
   "outputs": [
    {
     "name": "stdout",
     "output_type": "stream",
     "text": [
      "foo\n",
      "bar\n"
     ]
    }
   ],
   "source": [
    "print('foo\\nbar')"
   ]
  },
  {
   "cell_type": "code",
   "execution_count": 15,
   "metadata": {},
   "outputs": [
    {
     "name": "stdout",
     "output_type": "stream",
     "text": [
      "foo\\nbar\n"
     ]
    }
   ],
   "source": [
    "print(r'foo\\nbar')"
   ]
  },
  {
   "cell_type": "code",
   "execution_count": 16,
   "metadata": {},
   "outputs": [
    {
     "name": "stdout",
     "output_type": "stream",
     "text": [
      "foo\\bar\n"
     ]
    }
   ],
   "source": [
    "print('foo\\\\bar')"
   ]
  },
  {
   "cell_type": "code",
   "execution_count": 17,
   "metadata": {},
   "outputs": [
    {
     "name": "stdout",
     "output_type": "stream",
     "text": [
      "foo\\\\bar\n"
     ]
    }
   ],
   "source": [
    "print(r'foo\\\\bar')"
   ]
  },
  {
   "cell_type": "markdown",
   "metadata": {},
   "source": [
    "**Triple-Quoted Strings**"
   ]
  },
  {
   "cell_type": "markdown",
   "metadata": {},
   "source": [
    "* Escape sequences still work in triple-quoted strings, but single quotes, double quotes, and newlines can be included without escaping them. \n",
    "* This provides a convenient way to create a string with both single and double quotes in it:"
   ]
  },
  {
   "cell_type": "code",
   "execution_count": 18,
   "metadata": {},
   "outputs": [
    {
     "name": "stdout",
     "output_type": "stream",
     "text": [
      "This string has a single (') and a double (\") quote.\n"
     ]
    }
   ],
   "source": [
    "print('''This string has a single (') and a double (\") quote.''')"
   ]
  },
  {
   "cell_type": "code",
   "execution_count": 9,
   "metadata": {},
   "outputs": [
    {
     "name": "stdout",
     "output_type": "stream",
     "text": [
      "This is a\n",
      "string that spans\n",
      "across several lines\n"
     ]
    }
   ],
   "source": [
    "print(\"\"\"This is a\n",
    "string that spans\n",
    "across several lines\"\"\")\n",
    "# this also allows for multiline strings:"
   ]
  },
  {
   "cell_type": "markdown",
   "metadata": {},
   "source": [
    "https://towardsdatascience.com/useful-string-methods-in-python-5047ea4d3f90  "
   ]
  },
  {
   "cell_type": "markdown",
   "metadata": {},
   "source": [
    "## Non-primitive data structures   \n",
    "(Data Structures)  \n",
    "Data types which are derived from the primitive data types and offer increased functionality.  "
   ]
  },
  {
   "cell_type": "markdown",
   "metadata": {},
   "source": [
    "### Composite Data Types (*Sequences*)"
   ]
  },
  {
   "cell_type": "markdown",
   "metadata": {},
   "source": [
    "* Non-primitive types are the sophisticated members of the data structure family. They don't just store a value, but rather a collection of values in various formats."
   ]
  },
  {
   "cell_type": "markdown",
   "metadata": {},
   "source": [
    "#### Lists"
   ]
  },
  {
   "cell_type": "markdown",
   "metadata": {},
   "source": [
    "* General purpose\n",
    "* Most widely used data structures\n",
    "* contain any type of objects\n",
    "* similar to arrays\n",
    "* can be extended or reduce the size as we needed\n",
    "* Sequence type\n",
    "* sortable\n",
    "* declare them using square brackets separated with commas of each value/item\n",
    "* Better to use this object for list of values which we need some flexibility to add/remove/sort/reverse/delete...etc operations."
   ]
  },
  {
   "cell_type": "markdown",
   "metadata": {},
   "source": [
    "> **Example:** \n",
    "* List of employees in your department\n",
    "* List of stocks you want to analyze"
   ]
  },
  {
   "cell_type": "raw",
   "metadata": {},
   "source": [
    "A = [ ] # This is a blank list variable\n",
    "B = [1, 23, 45, 67] # this list creates an initial list of 4 numbers.\n",
    "C = [2, 4, 'john'] # lists can contain different variable types."
   ]
  },
  {
   "cell_type": "code",
   "execution_count": 152,
   "metadata": {},
   "outputs": [
    {
     "data": {
      "text/plain": [
       "[1, 2, 3]"
      ]
     },
     "execution_count": 152,
     "metadata": {},
     "output_type": "execute_result"
    }
   ],
   "source": [
    "[1,2,3]"
   ]
  },
  {
   "cell_type": "code",
   "execution_count": 153,
   "metadata": {},
   "outputs": [
    {
     "data": {
      "text/plain": [
       "['hi', 1, [1, 2]]"
      ]
     },
     "execution_count": 153,
     "metadata": {},
     "output_type": "execute_result"
    }
   ],
   "source": [
    "['hi',1,[1,2]]"
   ]
  },
  {
   "cell_type": "code",
   "execution_count": 154,
   "metadata": {},
   "outputs": [],
   "source": [
    "my_list = ['a','b','c']"
   ]
  },
  {
   "cell_type": "code",
   "execution_count": 155,
   "metadata": {},
   "outputs": [],
   "source": [
    "my_list.append('d')"
   ]
  },
  {
   "cell_type": "code",
   "execution_count": 156,
   "metadata": {},
   "outputs": [
    {
     "data": {
      "text/plain": [
       "['a', 'b', 'c', 'd']"
      ]
     },
     "execution_count": 156,
     "metadata": {},
     "output_type": "execute_result"
    }
   ],
   "source": [
    "my_list"
   ]
  },
  {
   "cell_type": "code",
   "execution_count": 157,
   "metadata": {},
   "outputs": [
    {
     "data": {
      "text/plain": [
       "'a'"
      ]
     },
     "execution_count": 157,
     "metadata": {},
     "output_type": "execute_result"
    }
   ],
   "source": [
    "my_list[0]"
   ]
  },
  {
   "cell_type": "code",
   "execution_count": 158,
   "metadata": {},
   "outputs": [
    {
     "data": {
      "text/plain": [
       "'b'"
      ]
     },
     "execution_count": 158,
     "metadata": {},
     "output_type": "execute_result"
    }
   ],
   "source": [
    "my_list[1]"
   ]
  },
  {
   "cell_type": "code",
   "execution_count": 159,
   "metadata": {},
   "outputs": [
    {
     "data": {
      "text/plain": [
       "['b', 'c', 'd']"
      ]
     },
     "execution_count": 159,
     "metadata": {},
     "output_type": "execute_result"
    }
   ],
   "source": [
    "my_list[1:]"
   ]
  },
  {
   "cell_type": "code",
   "execution_count": 160,
   "metadata": {},
   "outputs": [
    {
     "data": {
      "text/plain": [
       "['a']"
      ]
     },
     "execution_count": 160,
     "metadata": {},
     "output_type": "execute_result"
    }
   ],
   "source": [
    "my_list[:1]"
   ]
  },
  {
   "cell_type": "code",
   "execution_count": 161,
   "metadata": {},
   "outputs": [],
   "source": [
    "my_list[0] = 'NEW'"
   ]
  },
  {
   "cell_type": "code",
   "execution_count": 162,
   "metadata": {},
   "outputs": [
    {
     "data": {
      "text/plain": [
       "['NEW', 'b', 'c', 'd']"
      ]
     },
     "execution_count": 162,
     "metadata": {},
     "output_type": "execute_result"
    }
   ],
   "source": [
    "my_list"
   ]
  },
  {
   "cell_type": "code",
   "execution_count": 163,
   "metadata": {},
   "outputs": [
    {
     "name": "stdout",
     "output_type": "stream",
     "text": [
      "Grasshopper\n",
      "['Rhino', 'Grasshopper']\n"
     ]
    }
   ],
   "source": [
    "mylist = ['Rhino', 'Grasshopper', 'Flamingo', 'Bongo']\n",
    "B = len(mylist) # This will return the length of the list which is 3. The index is 0, 1, 2, 3.\n",
    "print (mylist[1]) # This will return the value at index 1, which is 'Grasshopper'\n",
    "print (mylist[0:2]) # This will return the first 2 elements in the list."
   ]
  },
  {
   "cell_type": "code",
   "execution_count": 164,
   "metadata": {},
   "outputs": [],
   "source": [
    "nest = [1,2,3,[4,5,['target']]]"
   ]
  },
  {
   "cell_type": "code",
   "execution_count": 165,
   "metadata": {},
   "outputs": [
    {
     "data": {
      "text/plain": [
       "[4, 5, ['target']]"
      ]
     },
     "execution_count": 165,
     "metadata": {},
     "output_type": "execute_result"
    }
   ],
   "source": [
    "nest[3]"
   ]
  },
  {
   "cell_type": "code",
   "execution_count": 166,
   "metadata": {},
   "outputs": [
    {
     "data": {
      "text/plain": [
       "['target']"
      ]
     },
     "execution_count": 166,
     "metadata": {},
     "output_type": "execute_result"
    }
   ],
   "source": [
    "nest[3][2]"
   ]
  },
  {
   "cell_type": "code",
   "execution_count": 167,
   "metadata": {},
   "outputs": [
    {
     "data": {
      "text/plain": [
       "'target'"
      ]
     },
     "execution_count": 167,
     "metadata": {},
     "output_type": "execute_result"
    }
   ],
   "source": [
    "nest[3][2][0]"
   ]
  },
  {
   "cell_type": "markdown",
   "metadata": {},
   "source": [
    "nest[3][2][0].upper()"
   ]
  },
  {
   "cell_type": "code",
   "execution_count": 169,
   "metadata": {},
   "outputs": [
    {
     "name": "stdout",
     "output_type": "stream",
     "text": [
      "Grasshopper\n"
     ]
    }
   ],
   "source": [
    "# assign data to a specific element of the list using an index into the list.\n",
    "mylist = [0, 1, 2, 3]\n",
    "mylist[0] = 'Rhino'\n",
    "mylist[1] = 'Grasshopper'\n",
    "mylist[2] = 'Flamingo'\n",
    "mylist[3] = 'Bongo'\n",
    "print (mylist[1])"
   ]
  },
  {
   "cell_type": "markdown",
   "metadata": {
    "run_control": {
     "marked": false
    }
   },
   "source": [
    "The + operator concatenates lists:"
   ]
  },
  {
   "cell_type": "code",
   "execution_count": 3,
   "metadata": {},
   "outputs": [
    {
     "name": "stdout",
     "output_type": "stream",
     "text": [
      "[1, 2, 3, 4, 5, 6]\n"
     ]
    }
   ],
   "source": [
    "a = [1, 2, 3]\n",
    "b = [4, 5, 6]\n",
    "c = a + b  # \n",
    "print(c)"
   ]
  },
  {
   "cell_type": "markdown",
   "metadata": {},
   "source": [
    "Similarly, the * operator repeats a list a given number of times:"
   ]
  },
  {
   "cell_type": "code",
   "execution_count": 4,
   "metadata": {
    "run_control": {
     "marked": false
    }
   },
   "outputs": [
    {
     "data": {
      "text/plain": [
       "[0, 0, 0, 0]"
      ]
     },
     "execution_count": 4,
     "metadata": {},
     "output_type": "execute_result"
    }
   ],
   "source": [
    " \n",
    "[0] * 4"
   ]
  },
  {
   "cell_type": "code",
   "execution_count": 5,
   "metadata": {},
   "outputs": [
    {
     "data": {
      "text/plain": [
       "[1, 2, 3, 1, 2, 3, 1, 2, 3]"
      ]
     },
     "execution_count": 5,
     "metadata": {},
     "output_type": "execute_result"
    }
   ],
   "source": [
    "[1, 2, 3] * 3  # The first example repeats [0] four times. The second example repeats the list [1, 2, 3] three times."
   ]
  },
  {
   "cell_type": "markdown",
   "metadata": {},
   "source": [
    "**The Difference Between “is” and “==” in Python**"
   ]
  },
  {
   "cell_type": "code",
   "execution_count": 6,
   "metadata": {},
   "outputs": [
    {
     "data": {
      "text/plain": [
       "True"
      ]
     },
     "execution_count": 6,
     "metadata": {},
     "output_type": "execute_result"
    }
   ],
   "source": [
    "a = 'banana'\n",
    "b = 'banana'\n",
    "a is b"
   ]
  },
  {
   "cell_type": "code",
   "execution_count": 7,
   "metadata": {},
   "outputs": [
    {
     "data": {
      "text/plain": [
       "False"
      ]
     },
     "execution_count": 7,
     "metadata": {},
     "output_type": "execute_result"
    }
   ],
   "source": [
    "a = [1, 2, 3]\n",
    "b = [1, 2, 3]\n",
    "a is b"
   ]
  },
  {
   "cell_type": "markdown",
   "metadata": {},
   "source": [
    "**What does [::-1} do?**"
   ]
  },
  {
   "cell_type": "code",
   "execution_count": 2,
   "metadata": {},
   "outputs": [
    {
     "data": {
      "text/plain": [
       "[5, 4, 3, 2, 1]"
      ]
     },
     "execution_count": 2,
     "metadata": {},
     "output_type": "execute_result"
    }
   ],
   "source": [
    "l = [1,2,3,4,5]\n",
    "l[::-1] # reverse the order of list"
   ]
  },
  {
   "cell_type": "markdown",
   "metadata": {},
   "source": [
    "follow along:  https://dbader.org/blog/difference-between-is-and-equals-in-python  \n",
    "https://medium.com/@tyastropheus/tricky-python-i-memory-management-for-mutable-immutable-objects-21507d1e5b95  "
   ]
  },
  {
   "cell_type": "markdown",
   "metadata": {},
   "source": [
    "**Built-in Functions with List**\n"
   ]
  },
  {
   "cell_type": "markdown",
   "metadata": {},
   "source": [
    "| Function    | Description                                                                                       |\n",
    "|-------------|---------------------------------------------------------------------------------------------------|\n",
    "| any()       | Return True if any element of the list is true. If the list is empty, return False.               |\n",
    "| all()       | Returns `True` if all elements of an iterable are true                  \t                      |\n",
    "| len()       |   Return the length (the number of items) in the list.                                            |\n",
    "| list()      | Convert an iterable (tuple, string, set, dictionary) to a list.                                   |\n",
    "| max()       | Return the largest item in the list.                                                              |\n",
    "| min()       | Return the smallest item in the list                                                              |\n",
    "| sorted()    |   Return a new sorted list (does not sort the list itself).                                       |\n",
    "| reversed()  | Returns a reverse iterator                                              \t|                     \n",
    "| sum()       | Return the sum of all elements in the list.                                                       |"
   ]
  },
  {
   "cell_type": "code",
   "execution_count": 1,
   "metadata": {},
   "outputs": [
    {
     "name": "stdout",
     "output_type": "stream",
     "text": [
      "At least one True\n",
      "At least one True and one False\n"
     ]
    }
   ],
   "source": [
    "x = [True, True, False]\n",
    "if any(x):\n",
    "    print(\"At least one True\")\n",
    "if all(x):\n",
    "    print(\"Not one False\")\n",
    "if any(x) and not all(x):    \n",
    "    print(\"At least one True and one False\")"
   ]
  },
  {
   "cell_type": "markdown",
   "metadata": {},
   "source": [
    "**Python list Methods**"
   ]
  },
  {
   "cell_type": "markdown",
   "metadata": {},
   "source": [
    "| Methods       | Functions                                                |\n",
    "|---------------|----------------------------------------------------------|\n",
    "| append()      | to add element to the end of the list                    |\n",
    "| extend()      | to extend all elements of a list to the another list     |\n",
    "| insert()      | to insert an element at the another index                |\n",
    "| remove()      | to remove an element from the list                       |\n",
    "| pop()         | to remove elements return element at the given index     |\n",
    "| clear()       | to remove all elements from the list                     |\n",
    "| index()       | to return the index of the first matched element         |\n",
    "| count()       | to count of number of elements passed as an argument     |\n",
    "| sort()        | to sort the elements in ascending order by default       |\n",
    "| reverse()     | to reverse order element in a list                       |\n",
    "| copy()        | to return a copy of elements in a list                   |"
   ]
  },
  {
   "cell_type": "markdown",
   "metadata": {},
   "source": [
    "**`copy()` method vs direct assignment**"
   ]
  },
  {
   "cell_type": "code",
   "execution_count": 1,
   "metadata": {},
   "outputs": [
    {
     "name": "stdout",
     "output_type": "stream",
     "text": [
      "140488771147336\n",
      "140488771147336\n"
     ]
    }
   ],
   "source": [
    "l1 = [1,2,3,4]\n",
    "l2 = l1\n",
    "print(id(l1))\n",
    "print(id(l2))"
   ]
  },
  {
   "cell_type": "code",
   "execution_count": 2,
   "metadata": {},
   "outputs": [
    {
     "name": "stdout",
     "output_type": "stream",
     "text": [
      "[1, 2, 3, 4, 999]\n"
     ]
    }
   ],
   "source": [
    "l1.append(999)\n",
    "print(l2)"
   ]
  },
  {
   "cell_type": "code",
   "execution_count": 3,
   "metadata": {},
   "outputs": [
    {
     "name": "stdout",
     "output_type": "stream",
     "text": [
      "140488767397832\n",
      "140488771825864\n"
     ]
    }
   ],
   "source": [
    "l1 = [1,2,3,4]\n",
    "l2 = l1.copy()\n",
    "print(id(l1))\n",
    "print(id(l2))"
   ]
  },
  {
   "cell_type": "code",
   "execution_count": 4,
   "metadata": {},
   "outputs": [
    {
     "name": "stdout",
     "output_type": "stream",
     "text": [
      "[1, 2, 3, 4]\n"
     ]
    }
   ],
   "source": [
    "l1.append(999)\n",
    "print(l2)"
   ]
  },
  {
   "cell_type": "markdown",
   "metadata": {},
   "source": [
    "https://developers.google.com/edu/python/lists  \n",
    "http://thepythonguru.com/python-lists/  \n",
    "https://www.tutorialspoint.com/python/python_lists.htm"
   ]
  },
  {
   "cell_type": "markdown",
   "metadata": {},
   "source": [
    "#### Tuples"
   ]
  },
  {
   "cell_type": "markdown",
   "metadata": {},
   "source": [
    "* Immutable (we cannot change its content after creation)\n",
    "* Better for fixed data\n",
    "* useful to share the data with someone but not allow them to manipulate\n",
    "* use the data values for arithmatic operations, however the changes is not reflected in the original data\n",
    "* contain any type of objects (heterogeneous container for items) \n",
    "* similar to arrays\n",
    "* faster compare with the lists\n",
    "* sequencey type\n",
    "* To declare tuples we use parentheses.\n",
    "* Unlike Python lists, tuples does not have methods such as `append()`, `remove()`, `extend()`, `insert()` and `pop()` due to its immutable nature. However, there are many other built-in methods to work with tuple \n",
    "* Better to use this object for a list of values which order really matters when there is no need to add/delete those items"
   ]
  },
  {
   "cell_type": "markdown",
   "metadata": {},
   "source": [
    "> **Example:** \n",
    "* List of months, or weekdays..etc\n",
    "* List of top 10 sales regions in a quarter"
   ]
  },
  {
   "cell_type": "code",
   "execution_count": 174,
   "metadata": {},
   "outputs": [],
   "source": [
    "t = (1,2,3)"
   ]
  },
  {
   "cell_type": "markdown",
   "metadata": {},
   "source": [
    "t[0]\n",
    "\n",
    "`t[0] = 'NEW' # not mutable for tuples`\n",
    "```{python}\n",
    "---------------------------------------------------------------------------\n",
    "TypeError                                 Traceback (most recent call last)\n",
    "<ipython-input-212-9650bd97cc9a> in <module>()\n",
    "----> 1 t[0] = 'NEW' # not mutable for tuples\n",
    "\n",
    "TypeError: 'tuple' object does not support item assignment\n",
    "```"
   ]
  },
  {
   "cell_type": "code",
   "execution_count": null,
   "metadata": {},
   "outputs": [],
   "source": [
    "# real world example\n",
    "# works better in spyder tool\n",
    "\"\"\" Where's My Mouse? \"\"\"\n",
    "import tkinter\n",
    "\n",
    "def mouse_click(event):\n",
    "\n",
    "    # retrieve XY coords as a tuple\n",
    "    coords = root.winfo_pointerxy()\n",
    "    print('coords: {}'.format(coords))\n",
    "    print('X: {}'.format(coords[0]))\n",
    "    print('Y: {}'.format(coords[1]))\n",
    "    print(type(coords))\n",
    "\n",
    "root = tkinter.Tk()\n",
    "root.bind('<Button>', mouse_click)\n",
    "root.mainloop()"
   ]
  },
  {
   "cell_type": "markdown",
   "metadata": {},
   "source": [
    "https://data-flair.training/blogs/python-tuples-syntax-examples/   \n",
    "http://thepythonguru.com/python-tuples/  "
   ]
  },
  {
   "cell_type": "markdown",
   "metadata": {},
   "source": [
    "### Composite Data Types (*Mappings*)"
   ]
  },
  {
   "cell_type": "markdown",
   "metadata": {},
   "source": [
    "#### Dictionaries"
   ]
  },
  {
   "cell_type": "markdown",
   "metadata": {},
   "source": [
    "* Each item is a pair of a key and value\n",
    "* It holds word-meaning pairs just like real dictionaries \n",
    "* Un ordered\n",
    "* Dictionaries are not sorted\n",
    "* Access to the list of keys or values independently.\n",
    "* To declare a dictionary, we use curly braces.\n",
    "* Better to use this object for unordered storage of values which are associated with some keys "
   ]
  },
  {
   "cell_type": "markdown",
   "metadata": {},
   "source": [
    "> **Examples:** \n",
    "* Employee name associated with Employee ID   \n",
    "* Order status of online food"
   ]
  },
  {
   "cell_type": "code",
   "execution_count": 19,
   "metadata": {},
   "outputs": [],
   "source": [
    "room_num = {'john': 425, 'tom': 212}\n",
    "room_num['john'] = 645  # set the value associated with the 'john' key to 645"
   ]
  },
  {
   "cell_type": "code",
   "execution_count": 20,
   "metadata": {
    "scrolled": true
   },
   "outputs": [
    {
     "name": "stdout",
     "output_type": "stream",
     "text": [
      "{'tom': 212, 'john': 645}\n"
     ]
    }
   ],
   "source": [
    "print(room_num)"
   ]
  },
  {
   "cell_type": "code",
   "execution_count": 21,
   "metadata": {},
   "outputs": [],
   "source": [
    "room_num['james'] = 925"
   ]
  },
  {
   "cell_type": "code",
   "execution_count": 22,
   "metadata": {},
   "outputs": [
    {
     "name": "stdout",
     "output_type": "stream",
     "text": [
      "{'james': 925, 'tom': 212, 'john': 645}\n"
     ]
    }
   ],
   "source": [
    "print(room_num)"
   ]
  },
  {
   "cell_type": "code",
   "execution_count": 23,
   "metadata": {},
   "outputs": [
    {
     "data": {
      "text/plain": [
       "dict_keys(['james', 'tom', 'john'])"
      ]
     },
     "execution_count": 23,
     "metadata": {},
     "output_type": "execute_result"
    }
   ],
   "source": [
    "room_num.keys()"
   ]
  },
  {
   "cell_type": "code",
   "execution_count": 24,
   "metadata": {},
   "outputs": [
    {
     "data": {
      "text/plain": [
       "dict_values([925, 212, 645])"
      ]
     },
     "execution_count": 24,
     "metadata": {},
     "output_type": "execute_result"
    }
   ],
   "source": [
    "room_num.values()\n"
   ]
  },
  {
   "cell_type": "code",
   "execution_count": 25,
   "metadata": {},
   "outputs": [
    {
     "data": {
      "text/plain": [
       "dict_items([('james', 925), ('tom', 212), ('john', 645)])"
      ]
     },
     "execution_count": 25,
     "metadata": {},
     "output_type": "execute_result"
    }
   ],
   "source": [
    "room_num.items()"
   ]
  },
  {
   "cell_type": "code",
   "execution_count": 26,
   "metadata": {},
   "outputs": [
    {
     "data": {
      "text/plain": [
       "925"
      ]
     },
     "execution_count": 26,
     "metadata": {},
     "output_type": "execute_result"
    }
   ],
   "source": [
    "room_num.pop('james') # takes key as parameter and return corresponding value "
   ]
  },
  {
   "cell_type": "code",
   "execution_count": 27,
   "metadata": {},
   "outputs": [
    {
     "data": {
      "text/plain": [
       "{'john': 645, 'tom': 212}"
      ]
     },
     "execution_count": 27,
     "metadata": {},
     "output_type": "execute_result"
    }
   ],
   "source": [
    "room_num"
   ]
  },
  {
   "cell_type": "code",
   "execution_count": 28,
   "metadata": {},
   "outputs": [
    {
     "data": {
      "text/plain": [
       "('tom', 212)"
      ]
     },
     "execution_count": 28,
     "metadata": {},
     "output_type": "execute_result"
    }
   ],
   "source": [
    "room_num.popitem() # doesn't take any parameter and gives some arbitrary element as (key, value) tuple "
   ]
  },
  {
   "cell_type": "code",
   "execution_count": 29,
   "metadata": {},
   "outputs": [
    {
     "data": {
      "text/plain": [
       "{'john': 645}"
      ]
     },
     "execution_count": 29,
     "metadata": {},
     "output_type": "execute_result"
    }
   ],
   "source": [
    "room_num"
   ]
  },
  {
   "cell_type": "code",
   "execution_count": 30,
   "metadata": {},
   "outputs": [
    {
     "name": "stdout",
     "output_type": "stream",
     "text": [
      "dict_keys(['isaac', 'john'])\n",
      "True\n"
     ]
    }
   ],
   "source": [
    "room_num['isaac'] = 345 # Add a new key 'isaac' with the associated value\n",
    "print (room_num.keys()) # print out a list of keys in the dictionary\n",
    "print ('isaac' in room_num) # test to asee if 'issac' is in the dictionary.  This returns true."
   ]
  },
  {
   "cell_type": "code",
   "execution_count": 171,
   "metadata": {},
   "outputs": [],
   "source": [
    "d = {'key1':'value1','key2':'value2'}"
   ]
  },
  {
   "cell_type": "code",
   "execution_count": 172,
   "metadata": {},
   "outputs": [
    {
     "data": {
      "text/plain": [
       "{'key1': 'item1', 'key2': 'item2'}"
      ]
     },
     "execution_count": 172,
     "metadata": {},
     "output_type": "execute_result"
    }
   ],
   "source": [
    "d"
   ]
  },
  {
   "cell_type": "code",
   "execution_count": 173,
   "metadata": {},
   "outputs": [
    {
     "data": {
      "text/plain": [
       "'item1'"
      ]
     },
     "execution_count": 173,
     "metadata": {},
     "output_type": "execute_result"
    }
   ],
   "source": [
    "d['key1']"
   ]
  },
  {
   "cell_type": "markdown",
   "metadata": {},
   "source": [
    "https://www.tutorialspoint.com/python/python_dictionary.htm  \n",
    "http://thepythonguru.com/python-dictionaries/    \n",
    "https://realpython.com/python-dicts/    "
   ]
  },
  {
   "cell_type": "markdown",
   "metadata": {},
   "source": [
    "#### Sets"
   ]
  },
  {
   "cell_type": "markdown",
   "metadata": {},
   "source": [
    "* Python set is much like a mathematical set theory in that it has well-defined collection of distinct objects\n",
    "* The objects of a set are called its “elements”.\n",
    "* Sets are unordered collections of unique elements. Duplicates are not allowed.\n",
    "* very fast access vs lists\n",
    "* A set itself may be modified, but the elements contained in the set must be of an immutable type (eg. it might be a tuple but not a list type).\n",
    "* Python provides us with a list of functions and methods like `discard()`, `pop()`, `clear()`, `remove()`, `add()`, and more. Functions like `len()` and `max()` also apply on sets.\n",
    "* It is sequenced (automatically while printing), but does not support indexing.\n",
    "* To declare a set, write a sequence of items separated with commas, inside curly braces.\n",
    "* Better to use this object a collection of sets which needs to membership or mapping really matters"
   ]
  },
  {
   "cell_type": "code",
   "execution_count": 175,
   "metadata": {},
   "outputs": [
    {
     "data": {
      "text/plain": [
       "{1, 2, 3}"
      ]
     },
     "execution_count": 175,
     "metadata": {},
     "output_type": "execute_result"
    }
   ],
   "source": [
    "{1,2,3}"
   ]
  },
  {
   "cell_type": "markdown",
   "metadata": {},
   "source": [
    "**Adding Elements to a Set**  \n",
    "* sets are mutable – but since they are unordered, indexes would not make any sense to it. We will not be able to access or update an element based on the index of an element in a set, as set does not support both indexing and slicing.   \n",
    "* we can use the `add()` method to add a single element if we need to add more than one element to a set, we can use the `update()` method"
   ]
  },
  {
   "cell_type": "code",
   "execution_count": 4,
   "metadata": {},
   "outputs": [],
   "source": [
    "# creating a set\n",
    "a = {1, 3, 5, 7, 11, 13}\n",
    "b = set([1, 3, 5, 7, 11, 13])"
   ]
  },
  {
   "cell_type": "markdown",
   "metadata": {},
   "source": [
    "**Set Operations on Sets**"
   ]
  },
  {
   "cell_type": "markdown",
   "metadata": {},
   "source": [
    "* Union\n",
    "* Intersection\n",
    "* Difference\n",
    "* Symmetric Difference"
   ]
  },
  {
   "cell_type": "code",
   "execution_count": 1,
   "metadata": {},
   "outputs": [
    {
     "name": "stdout",
     "output_type": "stream",
     "text": [
      "{1, 2, 3, 4, 5, 6}\n"
     ]
    }
   ],
   "source": [
    "# Union\n",
    "A = {1, 2, 3, 4}\n",
    "B = {3, 4, 5, 6}\n",
    "print ( A | B)"
   ]
  },
  {
   "cell_type": "code",
   "execution_count": 2,
   "metadata": {},
   "outputs": [
    {
     "name": "stdout",
     "output_type": "stream",
     "text": [
      "{3, 4}\n"
     ]
    }
   ],
   "source": [
    "# Intersection\n",
    "A = {1, 2, 3, 4}\n",
    "B = {3, 4, 5, 6}\n",
    "print ( A & B )"
   ]
  },
  {
   "cell_type": "code",
   "execution_count": 3,
   "metadata": {},
   "outputs": [
    {
     "name": "stdout",
     "output_type": "stream",
     "text": [
      "{1, 2, 3}\n"
     ]
    }
   ],
   "source": [
    "# Difference\n",
    "A = {1, 2, 3, 4, 5}\n",
    "B = {4, 5, 6, 7, 8}\n",
    "print(A - B)"
   ]
  },
  {
   "cell_type": "code",
   "execution_count": 4,
   "metadata": {},
   "outputs": [
    {
     "name": "stdout",
     "output_type": "stream",
     "text": [
      "{1, 2, 3, 6, 7, 8}\n"
     ]
    }
   ],
   "source": [
    "# Symmetric Difference\n",
    "A = {1, 2, 3, 4, 5}\n",
    "B = {4, 5, 6, 7, 8}\n",
    "print(A ^ B)"
   ]
  },
  {
   "cell_type": "markdown",
   "metadata": {},
   "source": [
    "**Adding element/s to a set**"
   ]
  },
  {
   "cell_type": "code",
   "execution_count": 5,
   "metadata": {},
   "outputs": [
    {
     "name": "stdout",
     "output_type": "stream",
     "text": [
      "{1, 3, 5, 7, 8, 11, 13}\n",
      "{1, 2, 3, 5, 7, 11, 13, 14}\n"
     ]
    }
   ],
   "source": [
    "a.add(8)\n",
    "print(a)\n",
    "b.update([5,2,14,7])\n",
    "print(b)"
   ]
  },
  {
   "cell_type": "code",
   "execution_count": 25,
   "metadata": {},
   "outputs": [
    {
     "name": "stdout",
     "output_type": "stream",
     "text": [
      "{1, 3}\n",
      "{1, 3, 4, 5, 6, 8}\n"
     ]
    }
   ],
   "source": [
    "# initialize my_set\n",
    "my_set = {1,3}\n",
    "print(my_set)\n",
    "\n",
    "# add list and set\n",
    "# Output: {1, 2, 3, 4, 5, 6, 8}\n",
    "my_set.update([4,5], {1,6,8})\n",
    "print(my_set)\n",
    "\n",
    "# if you uncomment below line\n",
    "# you will get an error\n",
    "# TypeError: 'set' object does not support indexing\n",
    "\n",
    "#my_set[0]"
   ]
  },
  {
   "cell_type": "markdown",
   "metadata": {},
   "source": [
    "**Remove Elements From a Set**"
   ]
  },
  {
   "cell_type": "markdown",
   "metadata": {},
   "source": [
    "`discard()`    \n",
    "This method takes the item to delete as an argument.\n",
    "* deleting an item that doesn’t exist in the set, discard() ignores it"
   ]
  },
  {
   "cell_type": "code",
   "execution_count": 1,
   "metadata": {},
   "outputs": [],
   "source": [
    "num = {13,12,21,43,16,25}"
   ]
  },
  {
   "cell_type": "code",
   "execution_count": 2,
   "metadata": {},
   "outputs": [],
   "source": [
    "num.discard(3)"
   ]
  },
  {
   "cell_type": "code",
   "execution_count": 3,
   "metadata": {
    "scrolled": true
   },
   "outputs": [
    {
     "data": {
      "text/plain": [
       "{12, 13, 16, 21, 25, 43}"
      ]
     },
     "execution_count": 3,
     "metadata": {},
     "output_type": "execute_result"
    }
   ],
   "source": [
    "num"
   ]
  },
  {
   "cell_type": "markdown",
   "metadata": {},
   "source": [
    "`remove()`\n",
    "\n",
    "Like the discard() method, remove() deletes an item from the set.\n",
    "* deleting an item that doesn’t exist in the set, remove() gives an error"
   ]
  },
  {
   "cell_type": "code",
   "execution_count": 14,
   "metadata": {},
   "outputs": [],
   "source": [
    "num.remove(5)"
   ]
  },
  {
   "cell_type": "code",
   "execution_count": 15,
   "metadata": {},
   "outputs": [
    {
     "data": {
      "text/plain": [
       "{1, 2, 4, 6}"
      ]
     },
     "execution_count": 15,
     "metadata": {},
     "output_type": "execute_result"
    }
   ],
   "source": [
    "num"
   ]
  },
  {
   "cell_type": "markdown",
   "metadata": {},
   "source": [
    "`pop()`\n",
    "* here, it does not take an argument. Because a set doesn’t support indexing\n",
    "* it pops out an arbitrary item. \n",
    "* we will not be able to determine which element of the set will be removed using the `pop()` method. In case of list, the last element of the list gets popped when the pop() method is used. "
   ]
  },
  {
   "cell_type": "code",
   "execution_count": 22,
   "metadata": {},
   "outputs": [],
   "source": [
    "num = {13,12,21,43,16,25}"
   ]
  },
  {
   "cell_type": "code",
   "execution_count": 21,
   "metadata": {
    "scrolled": true
   },
   "outputs": [
    {
     "ename": "KeyError",
     "evalue": "'pop from an empty set'",
     "output_type": "error",
     "traceback": [
      "\u001b[1;31m---------------------------------------------------------------------------\u001b[0m",
      "\u001b[1;31mKeyError\u001b[0m                                  Traceback (most recent call last)",
      "\u001b[1;32m<ipython-input-21-03a12495f7f5>\u001b[0m in \u001b[0;36m<module>\u001b[1;34m()\u001b[0m\n\u001b[1;32m----> 1\u001b[1;33m \u001b[0mnum\u001b[0m\u001b[1;33m.\u001b[0m\u001b[0mpop\u001b[0m\u001b[1;33m(\u001b[0m\u001b[1;33m)\u001b[0m\u001b[1;33m\u001b[0m\u001b[0m\n\u001b[0m",
      "\u001b[1;31mKeyError\u001b[0m: 'pop from an empty set'"
     ]
    }
   ],
   "source": [
    "num.pop()"
   ]
  },
  {
   "cell_type": "markdown",
   "metadata": {},
   "source": [
    "We can also remove all items from a set using `clear()`."
   ]
  },
  {
   "cell_type": "markdown",
   "metadata": {},
   "source": [
    "`clear()`\n",
    "* It empties the set in Python."
   ]
  },
  {
   "cell_type": "code",
   "execution_count": 4,
   "metadata": {},
   "outputs": [],
   "source": [
    "num = {13,12,21,43,16,25}"
   ]
  },
  {
   "cell_type": "code",
   "execution_count": 5,
   "metadata": {
    "scrolled": false
   },
   "outputs": [],
   "source": [
    "num.clear()"
   ]
  },
  {
   "cell_type": "code",
   "execution_count": 6,
   "metadata": {
    "scrolled": true
   },
   "outputs": [
    {
     "data": {
      "text/plain": [
       "set()"
      ]
     },
     "execution_count": 6,
     "metadata": {},
     "output_type": "execute_result"
    }
   ],
   "source": [
    "num"
   ]
  },
  {
   "cell_type": "markdown",
   "metadata": {},
   "source": [
    "**frozensets**  \n",
    "(creating immutable sets)  "
   ]
  },
  {
   "cell_type": "code",
   "execution_count": 1,
   "metadata": {},
   "outputs": [
    {
     "name": "stdout",
     "output_type": "stream",
     "text": [
      "frozenset({1, 2, 3})\n"
     ]
    }
   ],
   "source": [
    "S = frozenset([1,2,3])\n",
    "print(S)"
   ]
  },
  {
   "cell_type": "markdown",
   "metadata": {},
   "source": [
    "https://realpython.com/python-sets/  \n",
    "https://www.programiz.com/python-programming/set  \n",
    "https://stackabuse.com/sets-in-python/  "
   ]
  },
  {
   "cell_type": "markdown",
   "metadata": {},
   "source": [
    "**`bytearray()`**: `bytearray()` method returns a bytearray object which is an array of the given bytes, The `bytearray()` method returns a bytearray object which is a mutable (can be modified) sequence of integers in the range 0 <=x < 256.    \n",
    " https://www.programiz.com/python-programming/methods/built-in/bytearray   \n",
    "**`bytes()`**: immutable bytes object initialized with the given size  \n",
    "https://www.programiz.com/python-programming/methods/built-in/bytes "
   ]
  },
  {
   "cell_type": "markdown",
   "metadata": {},
   "source": [
    "## Data types Tree"
   ]
  },
  {
   "cell_type": "markdown",
   "metadata": {},
   "source": [
    "![Imgur](https://i.imgur.com/VXwzhyT.jpg)"
   ]
  },
  {
   "cell_type": "markdown",
   "metadata": {},
   "source": [
    "## Queues(FIFO) and Stacks(LIFO)"
   ]
  },
  {
   "cell_type": "code",
   "execution_count": null,
   "metadata": {
    "run_control": {
     "marked": false
    }
   },
   "outputs": [],
   "source": [
    "\"\"\" A Queue of Groceries to Put Away \"\"\"\n",
    "# queue is a not built-in datatype\n",
    "# create a new queue object\n",
    "import queue \n",
    "q = queue.Queue() # create a new object by calling new Queue() custroctor\n",
    "print(q.empty())\n",
    "\n",
    "# put bags into the queue\n",
    "q.put('bag1')\n",
    "print(q.empty())\n",
    "q.put('bag2')\n",
    "q.put('bag3')\n",
    "\n",
    "# get bags from the queue in FIFO order\n",
    "print(q.get())\n",
    "print(q.get())\n",
    "print(q.get())\n",
    "# q.get() # causes an error: blocking method, the program will wait until method completes before continuiing execution\n",
    "# (restart the shell) \n",
    "\n",
    "# create a new queue to hold two items\n",
    "q = queue.Queue(2)\n",
    "print(q.empty())\n",
    "\n",
    "# put two bags into the two-item queue\n",
    "q.put('bag1')\n",
    "print(q.full())\n",
    "q.put('bag2')\n",
    "print(q.full())\n",
    "\n",
    "# try to put an extra bag into the queue\n",
    "q.put_nowait('bag3') # causes an error\n"
   ]
  },
  {
   "cell_type": "code",
   "execution_count": null,
   "metadata": {},
   "outputs": [],
   "source": [
    "\"\"\" A Stack of Bills to Pay \"\"\"\n",
    "# python doesn't has built-n stack module, we can use list instead\n",
    "# create a list to use as the stack\n",
    "stack = list()\n",
    "\n",
    "# add some bills to the stack\n",
    "stack.append('bill1')\n",
    "stack.append('bill2')\n",
    "\n",
    "# remove the top bill to pay it\n",
    "print(stack.pop())\n",
    "\n",
    "# add two more bills to the stack\n",
    "stack.append('bill3')\n",
    "stack.append('bill4')\n",
    "\n",
    "# remove bills from top to bottom\n",
    "print(stack.pop())\n",
    "print(stack.pop())\n",
    "print(stack.pop())\n",
    "stack.pop() # causes Indexerror exception\n"
   ]
  },
  {
   "cell_type": "markdown",
   "metadata": {},
   "source": [
    "## Type conversion"
   ]
  },
  {
   "cell_type": "markdown",
   "metadata": {},
   "source": [
    "### Implicit type conversion"
   ]
  },
  {
   "cell_type": "code",
   "execution_count": null,
   "metadata": {},
   "outputs": [],
   "source": [
    "int1 = 4\n",
    "float1 = int1 + 2.1 # 4 converted to float\n",
    "# str1 = \"My int:\" + int1 # Error: no implicit type conversion from int to string\n",
    "int2 = 4 + True # 5: bool is implicitly converted to int"
   ]
  },
  {
   "cell_type": "markdown",
   "metadata": {},
   "source": [
    "### Explicit type conversion"
   ]
  },
  {
   "cell_type": "code",
   "execution_count": null,
   "metadata": {},
   "outputs": [],
   "source": [
    "str1 = \"My int:\" + str(int1)\n",
    "v1 = int(2.7) # 2\n",
    "v2 = int(-3.9) # -3\n",
    "v3 = int(\"2\") # 2\n",
    "v4 = int(\"11\", 16) # 17, base 16\n",
    "v5 = long(2) # this supports only in python 2 vesion\n",
    "v6 = float(2) # 2.0\n",
    "v7 = float(\"2.7\") # 2.7\n",
    "v8 = float(\"2.7E-2\") # 0.027\n",
    "v9 = float(False) # 0.0\n",
    "vA = float(True) # 1.0\n",
    "vB = str(4.5) # \"4.5\"\n",
    "vC = str([1, 3, 5]) # \"[1, 3, 5]\"\n",
    "vD = bool(0) # False; bool fn since Python 2.2.1\n",
    "vE = bool(3) # True\n",
    "vF = bool([]) # False - empty list\n",
    "vG = bool([False]) # True - non-empty list\n",
    "vH = bool({}) # False - empty dict; same for empty tuple\n",
    "vI = bool(\"\") # False - empty string\n",
    "vJ = bool(\" \") # True - non-empty string\n",
    "vK = bool(None) # False\n",
    "vL = bool(len) # True\n",
    "vM = set([1, 2])\n",
    "vN = list(vM)\n",
    "vO = list({1: \"a\", 2: \"b\"}) # dict -> list of keys\n",
    "vP = tuple(vN)\n",
    "vQ = list(\"abc\") # ['a', 'b', 'c']\n",
    "print v1, v2, v3, type(v1), type(v2), type(v3)"
   ]
  },
  {
   "cell_type": "markdown",
   "metadata": {},
   "source": [
    "## File handling : Working with files - Reading and Writing"
   ]
  },
  {
   "cell_type": "code",
   "execution_count": 1,
   "metadata": {
    "run_control": {
     "marked": false
    }
   },
   "outputs": [],
   "source": [
    "#\n",
    "# Read and write files using the built-in Python file methods\n",
    "#\n",
    "#def main():  \n",
    "  # Open a file for writing and create it if it doesn't exist\n",
    "f = open(\"data/textfile.txt\",\"w+\")\n",
    "  \n",
    "  # Open the file for appending text to the end\n",
    "  # f = open(\"textfile.txt\",\"a+\")\n",
    "\n",
    "  # write some lines of data to the file\n",
    "for i in range(10):\n",
    "    f.write(\"This is line %d\\r\\n\" % (i+1))\n",
    "  \n",
    "      # close the file when done\n",
    "f.close()"
   ]
  },
  {
   "cell_type": "code",
   "execution_count": 2,
   "metadata": {
    "scrolled": true
   },
   "outputs": [
    {
     "name": "stdout",
     "output_type": "stream",
     "text": [
      "This is line 1\n",
      "This is line 2\n",
      "This is line 3\n",
      "This is line 4\n",
      "This is line 5\n",
      "This is line 6\n",
      "This is line 7\n",
      "This is line 8\n",
      "This is line 9\n",
      "This is line 10\n",
      "\n"
     ]
    }
   ],
   "source": [
    "  # Open the file back up and read the contents\n",
    "f = open(\"data/textfile.txt\",\"r\")\n",
    "if f.mode == 'r': # check to make sure that the file was opened\n",
    "    # use the read() function to read the entire file\n",
    "    contents = f.read()\n",
    "    print (contents)\n",
    "    \n",
    "fl = f.readlines() # readlines reads the individual lines into a list\n",
    "for x in fl:\n",
    "      print (x)\n",
    "    \n",
    "# w --> write\n",
    "# r --> read\n",
    "# r+ --> read and write\n",
    "# a --> append\n",
    "\n",
    "#https://www.pythonforbeginners.com/systems-programming/python-file-handling b"
   ]
  },
  {
   "cell_type": "code",
   "execution_count": 4,
   "metadata": {},
   "outputs": [
    {
     "data": {
      "text/plain": [
       "'1.3.0'"
      ]
     },
     "execution_count": 4,
     "metadata": {},
     "output_type": "execute_result"
    }
   ],
   "source": [
    "import pandas as pd\n",
    "pd.__version__"
   ]
  },
  {
   "cell_type": "code",
   "execution_count": 5,
   "metadata": {},
   "outputs": [],
   "source": [
    "import pandas as pd"
   ]
  },
  {
   "cell_type": "markdown",
   "metadata": {},
   "source": [
    "https://medium.com/edureka/file-handling-in-python-e0a6ff96ede9  \n",
    "https://python-reference.readthedocs.io/en/latest/docs/file/index.html  "
   ]
  },
  {
   "cell_type": "markdown",
   "metadata": {},
   "source": [
    "<span style=\"color:red; font-family:Comic Sans MS\">References</span>  \n",
    "<a href=\"https://www.programiz.com\" target=\"_blank\">https://www.programiz.com</a>  \n",
    "https://realpython.com/python-data-types/#strings  "
   ]
  },
  {
   "cell_type": "markdown",
   "metadata": {},
   "source": [
    "<span style=\"color:red; font-family:brandon\">Further  Resources</span>  \n",
    "<a href=\"https://realpython.com/python-variables/\" target=\"_blank\">https://realpython.com/python-variables/</a>  \n",
    "<a href=\"https://realpython.com/python-data-types/\" target=\"_blank\">https://realpython.com/python-data-types/</a>  \n",
    "<a href=\"https://realpython.com/python-operators-expressions/\" target=\"_blank\">https://realpython.com/python-operators-expressions/</a>  \n",
    "<a href=\"https://realpython.com/python-strings/\" target=\"_blank\">https://realpython.com/python-strings/</a>  \n",
    "  \n",
    "<a href=\"https://www.datacamp.com/community/tutorials/data-structures-python\" target=\"_blank\">https://www.datacamp.com/community/tutorials/data-structures-python</a>  "
   ]
  }
 ],
 "metadata": {
  "hide_input": false,
  "interpreter": {
   "hash": "485035c5b2a6f2b50dc2dc5ca51aeeb931032fbc9adc2e30c7c528d6bf8a9176"
  },
  "kernelspec": {
   "display_name": "Python 3 (ipykernel)",
   "language": "python",
   "name": "python3"
  },
  "language_info": {
   "codemirror_mode": {
    "name": "ipython",
    "version": 3
   },
   "file_extension": ".py",
   "mimetype": "text/x-python",
   "name": "python",
   "nbconvert_exporter": "python",
   "pygments_lexer": "ipython3",
   "version": "3.8.8"
  },
  "toc": {
   "base_numbering": 1,
   "nav_menu": {
    "height": "266px",
    "width": "178px"
   },
   "number_sections": true,
   "sideBar": true,
   "skip_h1_title": false,
   "title_cell": "Table of Contents",
   "title_sidebar": "Contents",
   "toc_cell": true,
   "toc_position": {
    "height": "calc(100% - 180px)",
    "left": "10px",
    "top": "150px",
    "width": "303.542px"
   },
   "toc_section_display": "block",
   "toc_window_display": false
  }
 },
 "nbformat": 4,
 "nbformat_minor": 2
}
