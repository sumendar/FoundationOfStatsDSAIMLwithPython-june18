{
 "cells": [
  {
   "cell_type": "code",
   "execution_count": 1,
   "metadata": {},
   "outputs": [],
   "source": [
    "import jovian"
   ]
  },
  {
   "cell_type": "markdown",
   "metadata": {
    "toc": true
   },
   "source": [
    "<h1>Table of Contents<span class=\"tocSkip\"></span></h1>\n",
    "<div class=\"toc\"><ul class=\"toc-item\"><li><span><a href=\"#Functions\" data-toc-modified-id=\"Functions-1\"><span class=\"toc-item-num\">1&nbsp;&nbsp;</span>Functions</a></span></li><li><span><a href=\"#lambda-expressions\" data-toc-modified-id=\"lambda-expressions-2\"><span class=\"toc-item-num\">2&nbsp;&nbsp;</span>lambda expressions</a></span></li><li><span><a href=\"#map,--filter-and-reduce\" data-toc-modified-id=\"map,--filter-and-reduce-3\"><span class=\"toc-item-num\">3&nbsp;&nbsp;</span>map,  filter and reduce</a></span></li><li><span><a href=\"#Zip()\" data-toc-modified-id=\"Zip()-4\"><span class=\"toc-item-num\">4&nbsp;&nbsp;</span>Zip()</a></span></li><li><span><a href=\"#Unpacking\" data-toc-modified-id=\"Unpacking-5\"><span class=\"toc-item-num\">5&nbsp;&nbsp;</span>Unpacking</a></span></li><li><span><a href=\"#magic-functions\" data-toc-modified-id=\"magic-functions-6\"><span class=\"toc-item-num\">6&nbsp;&nbsp;</span>magic functions</a></span><ul class=\"toc-item\"><li><span><a href=\"#%timeit-magic-function\" data-toc-modified-id=\"%timeit-magic-function-6.1\"><span class=\"toc-item-num\">6.1&nbsp;&nbsp;</span><code>%timeit</code> magic function</a></span></li><li><span><a href=\"#loops-vs-list-comprehensions-vs-numpy-array\" data-toc-modified-id=\"loops-vs-list-comprehensions-vs-numpy-array-6.2\"><span class=\"toc-item-num\">6.2&nbsp;&nbsp;</span>loops vs list comprehensions vs numpy array</a></span></li><li><span><a href=\"#simple-calculations-without-functions-vs-with-functions\" data-toc-modified-id=\"simple-calculations-without-functions-vs-with-functions-6.3\"><span class=\"toc-item-num\">6.3&nbsp;&nbsp;</span>simple calculations without functions vs with functions</a></span></li></ul></li><li><span><a href=\"#dir-function\" data-toc-modified-id=\"dir-function-7\"><span class=\"toc-item-num\">7&nbsp;&nbsp;</span><code>dir</code> function</a></span></li><li><span><a href=\"#How-to-retrieve-source-code-of-Python-functions\" data-toc-modified-id=\"How-to-retrieve-source-code-of-Python-functions-8\"><span class=\"toc-item-num\">8&nbsp;&nbsp;</span>How to retrieve source code of Python functions</a></span></li><li><span><a href=\"#if-__name__-==-&quot;__main__&quot;-(Double-Underscore-Methods-and-Variables)\" data-toc-modified-id=\"if-__name__-==-&quot;__main__&quot;-(Double-Underscore-Methods-and-Variables)-9\"><span class=\"toc-item-num\">9&nbsp;&nbsp;</span><strong>if <code>__name__</code> <code>==</code> \"<code>__main__</code>\"</strong> (Double Underscore Methods and Variables)</a></span></li></ul></div>"
   ]
  },
  {
   "cell_type": "markdown",
   "metadata": {},
   "source": [
    "## Functions"
   ]
  },
  {
   "cell_type": "markdown",
   "metadata": {},
   "source": [
    "* function is a group of related statements that perform a specific task.\n",
    "* break our program into smaller and modular chunks\n",
    "* in-built functions and user defined functions"
   ]
  },
  {
   "cell_type": "markdown",
   "metadata": {},
   "source": [
    "**Syntax of Function**  \n",
    "`def function_name(parameters):\n",
    "\t\"\"\"docstring\"\"\"\n",
    "\tstatement(s)\n",
    "    return r`"
   ]
  },
  {
   "cell_type": "markdown",
   "metadata": {},
   "source": [
    "https://www.programiz.com/python-programming/function"
   ]
  },
  {
   "cell_type": "markdown",
   "metadata": {},
   "source": [
    "<font size=\"3\"><strong>*args and **kwargs</font>"
   ]
  },
  {
   "cell_type": "markdown",
   "metadata": {},
   "source": [
    "* To get infinite arguments, use *args and for infinite keyword arguments, use *kwargs.\n",
    "* The “args” and “kwargs” words are not important. That’s just convention. "
   ]
  },
  {
   "cell_type": "code",
   "execution_count": 1,
   "metadata": {},
   "outputs": [],
   "source": [
    "# Let’s take a look at a quick example:\n",
    "def many(*args, **kwargs):\n",
    "    print(args)\n",
    "    print(kwargs)"
   ]
  },
  {
   "cell_type": "code",
   "execution_count": 2,
   "metadata": {},
   "outputs": [
    {
     "name": "stdout",
     "output_type": "stream",
     "text": [
      "(1, 2, 3)\n",
      "{'name': 'Mike', 'job': 'programmer'}\n"
     ]
    }
   ],
   "source": [
    "many(1, 2, 3, name=\"Mike\", job=\"programmer\")"
   ]
  },
  {
   "cell_type": "markdown",
   "metadata": {},
   "source": [
    "As you can see, the args parameter turns into a tuple and kwargs turns into a dictionary. You will see this type of coding used in the Python source and in many 3rd party Python packages"
   ]
  },
  {
   "cell_type": "code",
   "execution_count": 2,
   "metadata": {
    "scrolled": true
   },
   "outputs": [
    {
     "name": "stdout",
     "output_type": "stream",
     "text": [
      "3\n",
      "None\n",
      "3\n",
      "None\n"
     ]
    }
   ],
   "source": [
    "dictionary = {\"a\": 1, \"b\": 2}\n",
    "\n",
    "def someFunction(a, b):\n",
    "    print(a + b)\n",
    "    return\n",
    "    \n",
    "# these do the same thing:\n",
    "print(someFunction(**dictionary))\n",
    "print(someFunction(a=1, b=2))"
   ]
  },
  {
   "cell_type": "markdown",
   "metadata": {},
   "source": [
    "https://www.listendata.com/2019/07/args-and-kwargs-in-python.html?  "
   ]
  },
  {
   "cell_type": "markdown",
   "metadata": {},
   "source": [
    "**Python's functions are first-class objects:**  \n",
    "https://dbader.org/blog/python-first-class-functions  "
   ]
  },
  {
   "cell_type": "markdown",
   "metadata": {},
   "source": [
    "## lambda expressions"
   ]
  },
  {
   "cell_type": "markdown",
   "metadata": {},
   "source": [
    "* these are single line expressions (which returns or evaluates a value)\n",
    "* function that is defined without a name.\n",
    "* While normal functions are defined using the def keyword, in Python anonymous functions are defined using the lambda keyword.\n",
    "* use lambda functions when we require a nameless function for a limited period of time even without assigning to a variable.\n",
    "1. lambda is a keyword that returns a function object and does not create a 'name'. Whereas def creates name in the local namespace\n",
    "2. lambda functions are good for situations where you want to minimize lines of code as you can create function in one line of python code. It is not possible using def \n",
    "3. lambda functions are somewhat less readable for most Python users.\n",
    "4. lambda functions can be better for one time usage, unless assigned to a variable name.\n",
    "5. This function can have any number of arguements but, can have just one expression. \n"
   ]
  },
  {
   "cell_type": "markdown",
   "metadata": {},
   "source": [
    "**Syntax of Lambda Function in python**  \n",
    "`lambda arguments: expression`  "
   ]
  },
  {
   "cell_type": "code",
   "execution_count": 1,
   "metadata": {},
   "outputs": [
    {
     "data": {
      "text/plain": [
       "4"
      ]
     },
     "execution_count": 1,
     "metadata": {},
     "output_type": "execute_result"
    }
   ],
   "source": [
    "def times2(var):\n",
    "    return var*2\n",
    "\n",
    "times2(2)"
   ]
  },
  {
   "cell_type": "code",
   "execution_count": 2,
   "metadata": {},
   "outputs": [
    {
     "data": {
      "text/plain": [
       "4"
      ]
     },
     "execution_count": 2,
     "metadata": {},
     "output_type": "execute_result"
    }
   ],
   "source": [
    "timesLambda = lambda var: var*2\n",
    "timesLambda(2)"
   ]
  },
  {
   "cell_type": "code",
   "execution_count": 3,
   "metadata": {},
   "outputs": [
    {
     "data": {
      "text/plain": [
       "True"
      ]
     },
     "execution_count": 3,
     "metadata": {},
     "output_type": "execute_result"
    }
   ],
   "source": [
    "# Lambdas with no arguments\n",
    "f = lambda: True\n",
    "f()"
   ]
  },
  {
   "cell_type": "code",
   "execution_count": 7,
   "metadata": {},
   "outputs": [
    {
     "name": "stdout",
     "output_type": "stream",
     "text": [
      "10\n",
      "6\n"
     ]
    }
   ],
   "source": [
    "# Lambdas with multiple arguments\n",
    "f = lambda x, y: x * y\n",
    "print(f(5, 2))\n",
    "sum = lambda a, b, c: a + b + c\n",
    "print(sum(1, 2, 3))"
   ]
  },
  {
   "cell_type": "code",
   "execution_count": 12,
   "metadata": {},
   "outputs": [
    {
     "data": {
      "text/plain": [
       "3"
      ]
     },
     "execution_count": 12,
     "metadata": {},
     "output_type": "execute_result"
    }
   ],
   "source": [
    "lambda x: x + 1 \n",
    "# You can apply the function above to an argument by surrounding the function and its argument with parentheses\n",
    "(lambda x: x + 1)(2)"
   ]
  },
  {
   "cell_type": "code",
   "execution_count": 13,
   "metadata": {
    "scrolled": true
   },
   "outputs": [
    {
     "data": {
      "text/plain": [
       "5"
      ]
     },
     "execution_count": 13,
     "metadata": {},
     "output_type": "execute_result"
    }
   ],
   "source": [
    "(lambda x, y: x + y)(2, 3)"
   ]
  },
  {
   "cell_type": "code",
   "execution_count": 15,
   "metadata": {},
   "outputs": [
    {
     "data": {
      "text/plain": [
       "6"
      ]
     },
     "execution_count": 15,
     "metadata": {},
     "output_type": "execute_result"
    }
   ],
   "source": [
    "(lambda x, y, z: x + y + z)(1, 2, 3)\n",
    "# 6"
   ]
  },
  {
   "cell_type": "code",
   "execution_count": 16,
   "metadata": {},
   "outputs": [
    {
     "data": {
      "text/plain": [
       "6"
      ]
     },
     "execution_count": 16,
     "metadata": {},
     "output_type": "execute_result"
    }
   ],
   "source": [
    "(lambda x, y, z=3: x + y + z)(1, 2)\n",
    "# 6"
   ]
  },
  {
   "cell_type": "code",
   "execution_count": 17,
   "metadata": {},
   "outputs": [
    {
     "data": {
      "text/plain": [
       "6"
      ]
     },
     "execution_count": 17,
     "metadata": {},
     "output_type": "execute_result"
    }
   ],
   "source": [
    "(lambda x, y, z=3: x + y + z)(1, y=2)\n",
    "# 6"
   ]
  },
  {
   "cell_type": "code",
   "execution_count": 21,
   "metadata": {},
   "outputs": [
    {
     "data": {
      "text/plain": [
       "6"
      ]
     },
     "execution_count": 21,
     "metadata": {},
     "output_type": "execute_result"
    }
   ],
   "source": [
    "(lambda x, *, y=0, z=0: x + y + z)(1, y=2, z=3)\n",
    "# 6"
   ]
  },
  {
   "cell_type": "code",
   "execution_count": 25,
   "metadata": {
    "scrolled": false
   },
   "outputs": [
    {
     "data": {
      "text/plain": [
       "'small'"
      ]
     },
     "execution_count": 25,
     "metadata": {},
     "output_type": "execute_result"
    }
   ],
   "source": [
    "f = lambda x: 'big' if x > 100 else 'small' # They return a value, and can be used in a lambda.\n",
    "f(25)"
   ]
  },
  {
   "cell_type": "code",
   "execution_count": 28,
   "metadata": {},
   "outputs": [
    {
     "name": "stdout",
     "output_type": "stream",
     "text": [
      "125\n",
      "125\n",
      "432\n",
      "432\n"
     ]
    }
   ],
   "source": [
    "def func(x): return x ** 3\n",
    "print(func(5))\n",
    "lamb = lambda x: x ** 3\n",
    "print(lamb(5))\n",
    "\n",
    "def f(x, y, z): return x + y + z\n",
    "print(f(2, 30, 400))\n",
    "f = lambda x, y, z: x + y + z\n",
    "print(f(2, 30, 400))"
   ]
  },
  {
   "cell_type": "markdown",
   "metadata": {},
   "source": [
    "* Its a good practice to further improvise by using python built-in functions like `map` `filter` and list comprehensions "
   ]
  },
  {
   "cell_type": "markdown",
   "metadata": {},
   "source": [
    "## map,  filter and reduce"
   ]
  },
  {
   "cell_type": "markdown",
   "metadata": {},
   "source": [
    "| Function      \t| Description                                                             \t|  \n",
    "|---------------\t|-------------------------------------------------------------------------\t|  \n",
    "| `filter()`    \t| Filters elements from an iterable                                       \t|\n",
    "| `map()`       \t| Applies a function to every item of an iterable                         \t|\n",
    "| `reduce()`       \t| To reduce the iterable to a single value                         \t|\n"
   ]
  },
  {
   "cell_type": "markdown",
   "metadata": {},
   "source": [
    "**`filter()`**"
   ]
  },
  {
   "cell_type": "code",
   "execution_count": 3,
   "metadata": {},
   "outputs": [
    {
     "name": "stdout",
     "output_type": "stream",
     "text": [
      "['Python', 'is']\n"
     ]
    }
   ],
   "source": [
    "x = ['Python', 'programming', 'is', 'awesome!']\n",
    "print(list(filter(lambda arg: len(arg) < 8, x)))"
   ]
  },
  {
   "cell_type": "code",
   "execution_count": 2,
   "metadata": {},
   "outputs": [
    {
     "data": {
      "text/plain": [
       "[2, 4]"
      ]
     },
     "execution_count": 2,
     "metadata": {},
     "output_type": "execute_result"
    }
   ],
   "source": [
    "filter(lambda item: item%2 == 0,seq)\n",
    "\n",
    "list(filter(lambda item: item%2 == 0,seq))"
   ]
  },
  {
   "cell_type": "code",
   "execution_count": 2,
   "metadata": {},
   "outputs": [
    {
     "name": "stdout",
     "output_type": "stream",
     "text": [
      "Non-Pythonic Approach:  [2, 4, 6, 8, 10]\n",
      "Pythonic Approach:  [2, 4, 6, 8, 10]\n"
     ]
    }
   ],
   "source": [
    "numbers = [1, 2, 3, 4, 5, 6, 7, 8, 9, 10]\n",
    "# Will return true if input number is even\n",
    "def even(x):\n",
    "    return x % 2 == 0\n",
    "# non-pythonic approach\n",
    "even_nums = []\n",
    "for num in numbers:\n",
    "    if even(num):\n",
    "        even_nums.append(num)\n",
    " \n",
    "print('Non-Pythonic Approach: ', even_nums)\n",
    "# pythonic approach\n",
    "even_n = filter(even, numbers)\n",
    "print('Pythonic Approach: ', list(even_n))"
   ]
  },
  {
   "cell_type": "markdown",
   "metadata": {},
   "source": [
    "**`map()`**"
   ]
  },
  {
   "cell_type": "code",
   "execution_count": 2,
   "metadata": {},
   "outputs": [
    {
     "name": "stdout",
     "output_type": "stream",
     "text": [
      "['PYTHON', 'PROGRAMMING', 'IS', 'AWESOME!']\n"
     ]
    }
   ],
   "source": [
    "x = ['Python', 'programming', 'is', 'awesome!']\n",
    "print(list(map(lambda arg: arg.upper(), x)))"
   ]
  },
  {
   "cell_type": "code",
   "execution_count": null,
   "metadata": {},
   "outputs": [],
   "source": [
    "seq = [1,2,3,4,5]\n",
    "\n",
    "map(times2,seq)\n",
    "\n",
    "list(map(times2,seq))\n",
    "\n",
    "list(map(lambda var: var*2,seq))"
   ]
  },
  {
   "cell_type": "code",
   "execution_count": 1,
   "metadata": {},
   "outputs": [
    {
     "name": "stdout",
     "output_type": "stream",
     "text": [
      "Non-Pythonic Approach:  [1, 4, 9, 16, 25]\n",
      "Pythonic Approach:  [1, 4, 9, 16, 25]\n"
     ]
    }
   ],
   "source": [
    "nums = [1, 2, 3, 4, 5]\n",
    "# this function will calculate square\n",
    "def square_num(x): \n",
    "    return x**2\n",
    "# non-pythonic approach\n",
    "squares = []\n",
    "for num in nums:\n",
    "    squares.append(square_num(num))\n",
    " \n",
    "print('Non-Pythonic Approach: ', squares)\n",
    "# pythonic approach\n",
    "x = map(square_num, nums)\n",
    "print('Pythonic Approach: ', list(x))"
   ]
  },
  {
   "cell_type": "markdown",
   "metadata": {},
   "source": [
    "**`reduce()`**"
   ]
  },
  {
   "cell_type": "markdown",
   "metadata": {},
   "source": [
    "* The function `reduce(func, seq)` continually applies the function `func()` to the sequence `seq`. \n",
    "* `reduce` is present in the `functools` library in Python 3.0. \n",
    "* It accepts an iterator to process, but it's not an iterator itself. It returns a single result:\n",
    "* `reduce()` doesn’t return a new iterable. Instead, `reduce()` uses the function called to reduce the iterable to a single value"
   ]
  },
  {
   "cell_type": "code",
   "execution_count": 1,
   "metadata": {},
   "outputs": [
    {
     "name": "stdout",
     "output_type": "stream",
     "text": [
      "Pythonprogrammingisawesome!\n"
     ]
    }
   ],
   "source": [
    "from functools import reduce\n",
    "x = ['Python', 'programming', 'is', 'awesome!']\n",
    "print(reduce(lambda val1, val2: val1 + val2, x)) #There is no call to list() here because reduce() already returns a single item"
   ]
  },
  {
   "cell_type": "code",
   "execution_count": 1,
   "metadata": {},
   "outputs": [
    {
     "name": "stdout",
     "output_type": "stream",
     "text": [
      "113\n"
     ]
    }
   ],
   "source": [
    "from functools import reduce\n",
    "res= reduce(lambda x,y: x+y, [47,11,42,13])\n",
    "print(res)"
   ]
  },
  {
   "cell_type": "markdown",
   "metadata": {},
   "source": [
    "![Imgur](https://i.imgur.com/4gao4Vo.png)"
   ]
  },
  {
   "cell_type": "markdown",
   "metadata": {},
   "source": [
    "If seq = [ s1, s2, s3, ... , sn ], calling `reduce(func, seq)` works like this:\n",
    "![Imgur](https://i.imgur.com/JwHH5OX.png)"
   ]
  },
  {
   "cell_type": "code",
   "execution_count": 2,
   "metadata": {
    "scrolled": true
   },
   "outputs": [
    {
     "data": {
      "text/plain": [
       "102"
      ]
     },
     "execution_count": 2,
     "metadata": {},
     "output_type": "execute_result"
    }
   ],
   "source": [
    "f = lambda a,b: a if (a > b) else b\n",
    "reduce(f, [47,11,42,102,13])"
   ]
  },
  {
   "cell_type": "markdown",
   "metadata": {},
   "source": [
    "https://medium.com/@happymishra66/lambda-map-and-filter-in-python-4935f248593"
   ]
  },
  {
   "cell_type": "markdown",
   "metadata": {},
   "source": [
    "**List Comprehension vs. For Loop vs. Lambda + map()**"
   ]
  },
  {
   "cell_type": "markdown",
   "metadata": {},
   "source": [
    "![Imgur](https://i.imgur.com/VQ7AEK5.jpg)"
   ]
  },
  {
   "cell_type": "markdown",
   "metadata": {},
   "source": [
    "## Zip()"
   ]
  },
  {
   "cell_type": "markdown",
   "metadata": {},
   "source": [
    "| Function      \t| Description                                                             \t|  \n",
    "|---------------\t|-------------------------------------------------------------------------\t|  \n",
    "| `zip()`       \t| Creates an iterator that aggregates elements from iterables             \t|  \n",
    "\n",
    "* zip takes n number of iterables and returns list of tuples.  \n"
   ]
  },
  {
   "cell_type": "code",
   "execution_count": 2,
   "metadata": {
    "run_control": {
     "marked": false
    },
    "scrolled": true
   },
   "outputs": [
    {
     "name": "stdout",
     "output_type": "stream",
     "text": [
      "[(1, 'a'), (2, 'b'), (3, 'c'), (4, 'd'), (5, 'e')]\n"
     ]
    }
   ],
   "source": [
    "list_a = [1, 2, 3, 4, 5]\n",
    "list_b = ['a', 'b', 'c', 'd', 'e']\n",
    "\n",
    "zipped_list = zip(list_a, list_b)\n",
    "\n",
    "print (list(zipped_list)) # [(1, 'a'), (2, 'b'), (3, 'c'), (4, 'd'), (5, 'e')]"
   ]
  },
  {
   "cell_type": "code",
   "execution_count": 3,
   "metadata": {
    "run_control": {
     "marked": false
    },
    "scrolled": true
   },
   "outputs": [
    {
     "name": "stdout",
     "output_type": "stream",
     "text": [
      "3\n",
      "5\n",
      "15\n",
      "9\n",
      "17\n"
     ]
    }
   ],
   "source": [
    "first = [1, 3, 8, 4, 9]\n",
    "second = [2, 2, 7, 5, 8]\n",
    "# Iterate over two or more list at the same time\n",
    "for x, y in zip(first, second):\n",
    "    print(x + y)"
   ]
  },
  {
   "cell_type": "markdown",
   "metadata": {},
   "source": [
    "## Unpacking"
   ]
  },
  {
   "cell_type": "markdown",
   "metadata": {},
   "source": [
    "* Unpacking lists, tuples and dictionaries"
   ]
  },
  {
   "cell_type": "markdown",
   "metadata": {},
   "source": [
    "**On lists**"
   ]
  },
  {
   "cell_type": "code",
   "execution_count": 4,
   "metadata": {},
   "outputs": [
    {
     "name": "stdout",
     "output_type": "stream",
     "text": [
      "['John', 'James', 'Frank']\n",
      "[111, 222, 333]\n"
     ]
    }
   ],
   "source": [
    "names = [\"John\", \"James\", \"Frank\"]\n",
    "nums = [111,222,333]\n",
    "print(names)\n",
    "print(nums)"
   ]
  },
  {
   "cell_type": "code",
   "execution_count": 5,
   "metadata": {},
   "outputs": [
    {
     "name": "stdout",
     "output_type": "stream",
     "text": [
      "John\n",
      "Frank\n"
     ]
    }
   ],
   "source": [
    "name1, name2, name3 = names\n",
    "print(name1)\n",
    "print(name3)"
   ]
  },
  {
   "cell_type": "code",
   "execution_count": 6,
   "metadata": {},
   "outputs": [
    {
     "name": "stdout",
     "output_type": "stream",
     "text": [
      "222\n",
      "333\n"
     ]
    }
   ],
   "source": [
    "num1, num2, num3 = nums\n",
    "print(num2)\n",
    "print(num3)"
   ]
  },
  {
   "cell_type": "markdown",
   "metadata": {},
   "source": [
    "**On tuple**"
   ]
  },
  {
   "cell_type": "code",
   "execution_count": 7,
   "metadata": {},
   "outputs": [
    {
     "name": "stdout",
     "output_type": "stream",
     "text": [
      "(5, 8, -9)\n",
      "5\n",
      "8\n",
      "-9\n"
     ]
    }
   ],
   "source": [
    "tple = (5,8,-9)\n",
    "print(tple)\n",
    "tpl1, tpl2, tpl3 =(5,8,-9)\n",
    "print(tpl1, tpl2, tpl3, sep=\"\\n\")"
   ]
  },
  {
   "cell_type": "markdown",
   "metadata": {},
   "source": [
    "**On Dictionaries **"
   ]
  },
  {
   "cell_type": "code",
   "execution_count": 17,
   "metadata": {},
   "outputs": [
    {
     "name": "stdout",
     "output_type": "stream",
     "text": [
      "{34: 'thirty four', 'letter': 'A', (5+6j): -98}\n"
     ]
    }
   ],
   "source": [
    "d = {34:\"thirty four\", \"letter\": 'A', 5+6j: -98}\n",
    "print(d)"
   ]
  },
  {
   "cell_type": "code",
   "execution_count": 34,
   "metadata": {},
   "outputs": [
    {
     "name": "stdout",
     "output_type": "stream",
     "text": [
      "(5+6j)\n",
      "34\n"
     ]
    }
   ],
   "source": [
    "d1, d2, d3 = d\n",
    "print(d3, d1, sep=\"\\n\")\n",
    "# only keys will come"
   ]
  },
  {
   "cell_type": "code",
   "execution_count": 32,
   "metadata": {},
   "outputs": [
    {
     "name": "stdout",
     "output_type": "stream",
     "text": [
      "(34, 'thirty four')\n",
      "((5+6j), -98)\n"
     ]
    }
   ],
   "source": [
    "d1, d2, d3 = d.items()\n",
    "print(d1)\n",
    "print(d3)"
   ]
  },
  {
   "cell_type": "code",
   "execution_count": 33,
   "metadata": {},
   "outputs": [
    {
     "name": "stdout",
     "output_type": "stream",
     "text": [
      "A\n",
      "thirty four\n"
     ]
    }
   ],
   "source": [
    "d1, d2, d3 = d.values()\n",
    "print(d2)\n",
    "print(d1)"
   ]
  },
  {
   "cell_type": "code",
   "execution_count": 1,
   "metadata": {},
   "outputs": [
    {
     "name": "stdout",
     "output_type": "stream",
     "text": [
      "0\n",
      "1\n",
      "[2, 3, 4, 5, 6, 7]\n"
     ]
    }
   ],
   "source": [
    "a, b, *c = range(8)\n",
    "print(a)\n",
    "print(b)\n",
    "print(c)"
   ]
  },
  {
   "cell_type": "markdown",
   "metadata": {},
   "source": [
    "## magic functions"
   ]
  },
  {
   "cell_type": "markdown",
   "metadata": {},
   "source": [
    " * IPython has a set of predefined ‘magic functions’  \n",
    " * **Line magics:** line-oriented, indicate with `%`   \n",
    " ex: %timeit  \n",
    " * **Cell magics:** cell-oriented, indicate with `%%`   \n",
    " ex: %%timeit  "
   ]
  },
  {
   "cell_type": "code",
   "execution_count": 2,
   "metadata": {
    "scrolled": true
   },
   "outputs": [
    {
     "data": {
      "application/json": {
       "cell": {
        "!": "OSMagics",
        "HTML": "Other",
        "SVG": "Other",
        "bash": "Other",
        "capture": "ExecutionMagics",
        "debug": "ExecutionMagics",
        "file": "Other",
        "html": "DisplayMagics",
        "javascript": "DisplayMagics",
        "js": "DisplayMagics",
        "latex": "DisplayMagics",
        "markdown": "DisplayMagics",
        "perl": "Other",
        "prun": "ExecutionMagics",
        "pypy": "Other",
        "python": "Other",
        "python2": "Other",
        "python3": "Other",
        "ruby": "Other",
        "script": "ScriptMagics",
        "sh": "Other",
        "svg": "DisplayMagics",
        "sx": "OSMagics",
        "system": "OSMagics",
        "time": "ExecutionMagics",
        "timeit": "ExecutionMagics",
        "writefile": "OSMagics"
       },
       "line": {
        "alias": "OSMagics",
        "alias_magic": "BasicMagics",
        "autocall": "AutoMagics",
        "automagic": "AutoMagics",
        "autosave": "KernelMagics",
        "bookmark": "OSMagics",
        "cat": "Other",
        "cd": "OSMagics",
        "clear": "KernelMagics",
        "colors": "BasicMagics",
        "config": "ConfigMagics",
        "connect_info": "KernelMagics",
        "cp": "Other",
        "debug": "ExecutionMagics",
        "dhist": "OSMagics",
        "dirs": "OSMagics",
        "doctest_mode": "BasicMagics",
        "ed": "Other",
        "edit": "KernelMagics",
        "env": "OSMagics",
        "gui": "BasicMagics",
        "hist": "Other",
        "history": "HistoryMagics",
        "killbgscripts": "ScriptMagics",
        "ldir": "Other",
        "less": "KernelMagics",
        "lf": "Other",
        "lk": "Other",
        "ll": "Other",
        "load": "CodeMagics",
        "load_ext": "ExtensionMagics",
        "loadpy": "CodeMagics",
        "logoff": "LoggingMagics",
        "logon": "LoggingMagics",
        "logstart": "LoggingMagics",
        "logstate": "LoggingMagics",
        "logstop": "LoggingMagics",
        "ls": "Other",
        "lsmagic": "BasicMagics",
        "lx": "Other",
        "macro": "ExecutionMagics",
        "magic": "BasicMagics",
        "man": "KernelMagics",
        "matplotlib": "PylabMagics",
        "mkdir": "Other",
        "more": "KernelMagics",
        "mv": "Other",
        "notebook": "BasicMagics",
        "page": "BasicMagics",
        "pastebin": "CodeMagics",
        "pdb": "ExecutionMagics",
        "pdef": "NamespaceMagics",
        "pdoc": "NamespaceMagics",
        "pfile": "NamespaceMagics",
        "pinfo": "NamespaceMagics",
        "pinfo2": "NamespaceMagics",
        "pip": "BasicMagics",
        "popd": "OSMagics",
        "pprint": "BasicMagics",
        "precision": "BasicMagics",
        "profile": "BasicMagics",
        "prun": "ExecutionMagics",
        "psearch": "NamespaceMagics",
        "psource": "NamespaceMagics",
        "pushd": "OSMagics",
        "pwd": "OSMagics",
        "pycat": "OSMagics",
        "pylab": "PylabMagics",
        "qtconsole": "KernelMagics",
        "quickref": "BasicMagics",
        "recall": "HistoryMagics",
        "rehashx": "OSMagics",
        "reload_ext": "ExtensionMagics",
        "rep": "Other",
        "rerun": "HistoryMagics",
        "reset": "NamespaceMagics",
        "reset_selective": "NamespaceMagics",
        "rm": "Other",
        "rmdir": "Other",
        "run": "ExecutionMagics",
        "save": "CodeMagics",
        "sc": "OSMagics",
        "set_env": "OSMagics",
        "store": "StoreMagics",
        "sx": "OSMagics",
        "system": "OSMagics",
        "tb": "ExecutionMagics",
        "time": "ExecutionMagics",
        "timeit": "ExecutionMagics",
        "unalias": "OSMagics",
        "unload_ext": "ExtensionMagics",
        "who": "NamespaceMagics",
        "who_ls": "NamespaceMagics",
        "whos": "NamespaceMagics",
        "xdel": "NamespaceMagics",
        "xmode": "BasicMagics"
       }
      },
      "text/plain": [
       "Available line magics:\n",
       "%alias  %alias_magic  %autocall  %automagic  %autosave  %bookmark  %cat  %cd  %clear  %colors  %config  %connect_info  %cp  %debug  %dhist  %dirs  %doctest_mode  %ed  %edit  %env  %gui  %hist  %history  %killbgscripts  %ldir  %less  %lf  %lk  %ll  %load  %load_ext  %loadpy  %logoff  %logon  %logstart  %logstate  %logstop  %ls  %lsmagic  %lx  %macro  %magic  %man  %matplotlib  %mkdir  %more  %mv  %notebook  %page  %pastebin  %pdb  %pdef  %pdoc  %pfile  %pinfo  %pinfo2  %popd  %pprint  %precision  %profile  %prun  %psearch  %psource  %pushd  %pwd  %pycat  %pylab  %qtconsole  %quickref  %recall  %rehashx  %reload_ext  %rep  %rerun  %reset  %reset_selective  %rm  %rmdir  %run  %save  %sc  %set_env  %store  %sx  %system  %tb  %time  %timeit  %unalias  %unload_ext  %who  %who_ls  %whos  %xdel  %xmode\n",
       "\n",
       "Available cell magics:\n",
       "%%!  %%HTML  %%SVG  %%bash  %%capture  %%debug  %%file  %%html  %%javascript  %%js  %%latex  %%markdown  %%perl  %%prun  %%pypy  %%python  %%python2  %%python3  %%ruby  %%script  %%sh  %%svg  %%sx  %%system  %%time  %%timeit  %%writefile\n",
       "\n",
       "Automagic is ON, % prefix IS NOT needed for line magics."
      ]
     },
     "execution_count": 2,
     "metadata": {},
     "output_type": "execute_result"
    }
   ],
   "source": [
    "# available magic functions\n",
    "%lsmagic"
   ]
  },
  {
   "cell_type": "code",
   "execution_count": 3,
   "metadata": {},
   "outputs": [
    {
     "data": {
      "text/plain": [
       "'/home/nbuser/library/03-FunctionsMapFilterAndLambdaExpressions'"
      ]
     },
     "execution_count": 3,
     "metadata": {},
     "output_type": "execute_result"
    }
   ],
   "source": [
    "%pwd # to know current/present working directory"
   ]
  },
  {
   "cell_type": "markdown",
   "metadata": {},
   "source": [
    "### `%timeit` magic function"
   ]
  },
  {
   "cell_type": "code",
   "execution_count": 2,
   "metadata": {
    "scrolled": true
   },
   "outputs": [
    {
     "name": "stdout",
     "output_type": "stream",
     "text": [
      "339 ns ± 18.7 ns per loop (mean ± std. dev. of 7 runs, 1000000 loops each)\n"
     ]
    }
   ],
   "source": [
    "%timeit range(10000)"
   ]
  },
  {
   "cell_type": "code",
   "execution_count": 11,
   "metadata": {
    "scrolled": true
   },
   "outputs": [
    {
     "name": "stdout",
     "output_type": "stream",
     "text": [
      "418 µs ± 86.6 µs per loop (mean ± std. dev. of 7 runs, 1000 loops each)\n"
     ]
    }
   ],
   "source": [
    "%%timeit \n",
    "x = range(10000)\n",
    "max(x)"
   ]
  },
  {
   "cell_type": "code",
   "execution_count": 5,
   "metadata": {
    "scrolled": true
   },
   "outputs": [
    {
     "name": "stderr",
     "output_type": "stream",
     "text": [
      "UsageError: unrecognized arguments: #your matplotlib graphs will be included in your notebook\n"
     ]
    }
   ],
   "source": [
    "%matplotlib inline #your matplotlib graphs will be included in your notebook  i.e plot outputs appear and will be stored within the notebook."
   ]
  },
  {
   "cell_type": "markdown",
   "metadata": {},
   "source": [
    "### loops vs list comprehensions vs numpy array"
   ]
  },
  {
   "cell_type": "code",
   "execution_count": 4,
   "metadata": {},
   "outputs": [
    {
     "name": "stdout",
     "output_type": "stream",
     "text": [
      "744 µs ± 11.9 µs per loop (mean ± std. dev. of 7 runs, 1000 loops each)\n"
     ]
    }
   ],
   "source": [
    "%%timeit\n",
    "a = []\n",
    "for i in range(1000):\n",
    "    a.append(4+i)"
   ]
  },
  {
   "cell_type": "code",
   "execution_count": 5,
   "metadata": {},
   "outputs": [
    {
     "name": "stdout",
     "output_type": "stream",
     "text": [
      "500 µs ± 71.6 µs per loop (mean ± std. dev. of 7 runs, 1000 loops each)\n"
     ]
    }
   ],
   "source": [
    "%timeit a = [4+i for i in range(1000)]"
   ]
  },
  {
   "cell_type": "code",
   "execution_count": 6,
   "metadata": {},
   "outputs": [],
   "source": [
    "import numpy as np"
   ]
  },
  {
   "cell_type": "code",
   "execution_count": 8,
   "metadata": {},
   "outputs": [
    {
     "name": "stdout",
     "output_type": "stream",
     "text": [
      "23 µs ± 733 ns per loop (mean ± std. dev. of 7 runs, 10000 loops each)\n"
     ]
    }
   ],
   "source": [
    "%timeit 4 + np.arange(1000)"
   ]
  },
  {
   "cell_type": "markdown",
   "metadata": {},
   "source": [
    "****Note:**** *Here numpy takes least amount of time* "
   ]
  },
  {
   "cell_type": "markdown",
   "metadata": {},
   "source": [
    "### simple calculations without functions vs with functions"
   ]
  },
  {
   "cell_type": "code",
   "execution_count": 9,
   "metadata": {},
   "outputs": [
    {
     "name": "stdout",
     "output_type": "stream",
     "text": [
      "89.1 ns ± 3.58 ns per loop (mean ± std. dev. of 7 runs, 10000000 loops each)\n"
     ]
    }
   ],
   "source": [
    "%timeit 5 + 2"
   ]
  },
  {
   "cell_type": "code",
   "execution_count": 10,
   "metadata": {},
   "outputs": [],
   "source": [
    "def add2nums(a,b):\n",
    "    return a + b"
   ]
  },
  {
   "cell_type": "code",
   "execution_count": 11,
   "metadata": {},
   "outputs": [
    {
     "name": "stdout",
     "output_type": "stream",
     "text": [
      "674 ns ± 26.3 ns per loop (mean ± std. dev. of 7 runs, 1000000 loops each)\n"
     ]
    }
   ],
   "source": [
    "%timeit add2nums(5,2)"
   ]
  },
  {
   "cell_type": "markdown",
   "metadata": {},
   "source": [
    "****Note:**** *Dont make over complicated by putting them into functions if there is not necessity for simple operations* "
   ]
  },
  {
   "cell_type": "markdown",
   "metadata": {},
   "source": [
    "https://ipython.readthedocs.io/en/stable/interactive/tutorial.html?highlight=Magic%20functions#magic-functions"
   ]
  },
  {
   "cell_type": "markdown",
   "metadata": {},
   "source": [
    "## `dir` function"
   ]
  },
  {
   "cell_type": "markdown",
   "metadata": {},
   "source": [
    "**View module content in python using `dir` function**  "
   ]
  },
  {
   "cell_type": "markdown",
   "metadata": {},
   "source": [
    "https://www.dummies.com/programming/python/how-to-view-module-content-in-python/  "
   ]
  },
  {
   "cell_type": "markdown",
   "metadata": {},
   "source": [
    "## How to retrieve source code of Python functions\n",
    "* using inspect package\n",
    "* `pip install inspect-it`\n",
    "* `import inspect`  \n",
    "https://opensource.com/article/18/5/how-retrieve-source-code-python-functions  "
   ]
  },
  {
   "cell_type": "markdown",
   "metadata": {},
   "source": [
    "## **if `__name__` `==` \"`__main__`\"** (Double Underscore Methods and Variables)"
   ]
  },
  {
   "cell_type": "markdown",
   "metadata": {},
   "source": [
    "![Imgur](https://i.imgur.com/8qlV1GG.png)"
   ]
  },
  {
   "cell_type": "markdown",
   "metadata": {},
   "source": [
    "\n",
    "```{py}\n",
    "# create one module area.py with following code\n",
    "\n",
    "def calculate_area(base, height):\n",
    "    print(\"__name__:\", __name__)\n",
    "    return 1/2 * (base * height) \n",
    "if __name__ == \"__main__\":\n",
    "    print(\"I am in area.py\")\n",
    "    a = calculate_area(10,20)\n",
    "    print(\"area:\", a)\n",
    "\n",
    "```"
   ]
  },
  {
   "cell_type": "markdown",
   "metadata": {},
   "source": [
    "```{py}\n",
    "# create one module caller.py with following code\n",
    "import area\n",
    "print(\"i am in caller.py\")\n",
    "area.calculate_area(5,10)\n",
    "```"
   ]
  },
  {
   "cell_type": "markdown",
   "metadata": {},
   "source": [
    "```{py}\n",
    "# Run in console\n",
    "import area\n",
    "area.calculate_area(10,20)\n",
    "__name__: area\n",
    "Out[24]: 100.0\n",
    "import caller\n",
    "i am in caller.py\n",
    "__name__: area\n",
    "```"
   ]
  },
  {
   "cell_type": "markdown",
   "metadata": {},
   "source": [
    "https://thepythonguru.com/what-is-if-__name__-__main__/  "
   ]
  }
 ],
 "metadata": {
  "hide_input": false,
  "kernelspec": {
   "display_name": "Python 3 (ipykernel)",
   "language": "python",
   "name": "python3"
  },
  "language_info": {
   "codemirror_mode": {
    "name": "ipython",
    "version": 3
   },
   "file_extension": ".py",
   "mimetype": "text/x-python",
   "name": "python",
   "nbconvert_exporter": "python",
   "pygments_lexer": "ipython3",
   "version": "3.8.8"
  },
  "toc": {
   "base_numbering": 1,
   "nav_menu": {},
   "number_sections": true,
   "sideBar": true,
   "skip_h1_title": false,
   "title_cell": "Table of Contents",
   "title_sidebar": "Contents",
   "toc_cell": true,
   "toc_position": {},
   "toc_section_display": true,
   "toc_window_display": false
  }
 },
 "nbformat": 4,
 "nbformat_minor": 2
}
