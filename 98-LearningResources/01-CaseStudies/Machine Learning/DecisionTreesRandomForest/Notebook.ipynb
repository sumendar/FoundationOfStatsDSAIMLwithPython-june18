{
  "cells": [
    {
      "metadata": {},
      "cell_type": "markdown",
      "source": "Get the Data with Pandas"
    },
    {
      "metadata": {
        "trusted": true
      },
      "cell_type": "code",
      "source": "import warnings\nwarnings.filterwarnings('ignore')\n# Import the Pandas library\nimport pandas as pd\n\n\n# Load the train and test datasets to create two DataFrames\ntrain_url = \"data/train.csv\"\ntrain = pd.read_csv(train_url)\n\ntest_url = \"data/test.csv\"\ntest = pd.read_csv(test_url)",
      "execution_count": 25,
      "outputs": []
    },
    {
      "metadata": {
        "trusted": true
      },
      "cell_type": "code",
      "source": "#Print the `head` of the train dataframes\ntrain.head()",
      "execution_count": 26,
      "outputs": [
        {
          "output_type": "execute_result",
          "execution_count": 26,
          "data": {
            "text/html": "<div>\n<style scoped>\n    .dataframe tbody tr th:only-of-type {\n        vertical-align: middle;\n    }\n\n    .dataframe tbody tr th {\n        vertical-align: top;\n    }\n\n    .dataframe thead th {\n        text-align: right;\n    }\n</style>\n<table border=\"1\" class=\"dataframe\">\n  <thead>\n    <tr style=\"text-align: right;\">\n      <th></th>\n      <th>PassengerId</th>\n      <th>Survived</th>\n      <th>Pclass</th>\n      <th>Name</th>\n      <th>Sex</th>\n      <th>Age</th>\n      <th>SibSp</th>\n      <th>Parch</th>\n      <th>Ticket</th>\n      <th>Fare</th>\n      <th>Cabin</th>\n      <th>Embarked</th>\n    </tr>\n  </thead>\n  <tbody>\n    <tr>\n      <th>0</th>\n      <td>1</td>\n      <td>0</td>\n      <td>3</td>\n      <td>Braund, Mr. Owen Harris</td>\n      <td>male</td>\n      <td>22.0</td>\n      <td>1</td>\n      <td>0</td>\n      <td>A/5 21171</td>\n      <td>7.2500</td>\n      <td>NaN</td>\n      <td>S</td>\n    </tr>\n    <tr>\n      <th>1</th>\n      <td>2</td>\n      <td>1</td>\n      <td>1</td>\n      <td>Cumings, Mrs. John Bradley (Florence Briggs Th...</td>\n      <td>female</td>\n      <td>38.0</td>\n      <td>1</td>\n      <td>0</td>\n      <td>PC 17599</td>\n      <td>71.2833</td>\n      <td>C85</td>\n      <td>C</td>\n    </tr>\n    <tr>\n      <th>2</th>\n      <td>3</td>\n      <td>1</td>\n      <td>3</td>\n      <td>Heikkinen, Miss. Laina</td>\n      <td>female</td>\n      <td>26.0</td>\n      <td>0</td>\n      <td>0</td>\n      <td>STON/O2. 3101282</td>\n      <td>7.9250</td>\n      <td>NaN</td>\n      <td>S</td>\n    </tr>\n    <tr>\n      <th>3</th>\n      <td>4</td>\n      <td>1</td>\n      <td>1</td>\n      <td>Futrelle, Mrs. Jacques Heath (Lily May Peel)</td>\n      <td>female</td>\n      <td>35.0</td>\n      <td>1</td>\n      <td>0</td>\n      <td>113803</td>\n      <td>53.1000</td>\n      <td>C123</td>\n      <td>S</td>\n    </tr>\n    <tr>\n      <th>4</th>\n      <td>5</td>\n      <td>0</td>\n      <td>3</td>\n      <td>Allen, Mr. William Henry</td>\n      <td>male</td>\n      <td>35.0</td>\n      <td>0</td>\n      <td>0</td>\n      <td>373450</td>\n      <td>8.0500</td>\n      <td>NaN</td>\n      <td>S</td>\n    </tr>\n  </tbody>\n</table>\n</div>",
            "text/plain": "   PassengerId  Survived  Pclass  \\\n0            1         0       3   \n1            2         1       1   \n2            3         1       3   \n3            4         1       1   \n4            5         0       3   \n\n                                                Name     Sex   Age  SibSp  \\\n0                            Braund, Mr. Owen Harris    male  22.0      1   \n1  Cumings, Mrs. John Bradley (Florence Briggs Th...  female  38.0      1   \n2                             Heikkinen, Miss. Laina  female  26.0      0   \n3       Futrelle, Mrs. Jacques Heath (Lily May Peel)  female  35.0      1   \n4                           Allen, Mr. William Henry    male  35.0      0   \n\n   Parch            Ticket     Fare Cabin Embarked  \n0      0         A/5 21171   7.2500   NaN        S  \n1      0          PC 17599  71.2833   C85        C  \n2      0  STON/O2. 3101282   7.9250   NaN        S  \n3      0            113803  53.1000  C123        S  \n4      0            373450   8.0500   NaN        S  "
          },
          "metadata": {}
        }
      ]
    },
    {
      "metadata": {
        "trusted": true
      },
      "cell_type": "code",
      "source": "#Print the `head` of the test dataframes\ntest.head()",
      "execution_count": 27,
      "outputs": [
        {
          "output_type": "execute_result",
          "execution_count": 27,
          "data": {
            "text/html": "<div>\n<style scoped>\n    .dataframe tbody tr th:only-of-type {\n        vertical-align: middle;\n    }\n\n    .dataframe tbody tr th {\n        vertical-align: top;\n    }\n\n    .dataframe thead th {\n        text-align: right;\n    }\n</style>\n<table border=\"1\" class=\"dataframe\">\n  <thead>\n    <tr style=\"text-align: right;\">\n      <th></th>\n      <th>PassengerId</th>\n      <th>Pclass</th>\n      <th>Name</th>\n      <th>Sex</th>\n      <th>Age</th>\n      <th>SibSp</th>\n      <th>Parch</th>\n      <th>Ticket</th>\n      <th>Fare</th>\n      <th>Cabin</th>\n      <th>Embarked</th>\n    </tr>\n  </thead>\n  <tbody>\n    <tr>\n      <th>0</th>\n      <td>892</td>\n      <td>3</td>\n      <td>Kelly, Mr. James</td>\n      <td>male</td>\n      <td>34.5</td>\n      <td>0</td>\n      <td>0</td>\n      <td>330911</td>\n      <td>7.8292</td>\n      <td>NaN</td>\n      <td>Q</td>\n    </tr>\n    <tr>\n      <th>1</th>\n      <td>893</td>\n      <td>3</td>\n      <td>Wilkes, Mrs. James (Ellen Needs)</td>\n      <td>female</td>\n      <td>47.0</td>\n      <td>1</td>\n      <td>0</td>\n      <td>363272</td>\n      <td>7.0000</td>\n      <td>NaN</td>\n      <td>S</td>\n    </tr>\n    <tr>\n      <th>2</th>\n      <td>894</td>\n      <td>2</td>\n      <td>Myles, Mr. Thomas Francis</td>\n      <td>male</td>\n      <td>62.0</td>\n      <td>0</td>\n      <td>0</td>\n      <td>240276</td>\n      <td>9.6875</td>\n      <td>NaN</td>\n      <td>Q</td>\n    </tr>\n    <tr>\n      <th>3</th>\n      <td>895</td>\n      <td>3</td>\n      <td>Wirz, Mr. Albert</td>\n      <td>male</td>\n      <td>27.0</td>\n      <td>0</td>\n      <td>0</td>\n      <td>315154</td>\n      <td>8.6625</td>\n      <td>NaN</td>\n      <td>S</td>\n    </tr>\n    <tr>\n      <th>4</th>\n      <td>896</td>\n      <td>3</td>\n      <td>Hirvonen, Mrs. Alexander (Helga E Lindqvist)</td>\n      <td>female</td>\n      <td>22.0</td>\n      <td>1</td>\n      <td>1</td>\n      <td>3101298</td>\n      <td>12.2875</td>\n      <td>NaN</td>\n      <td>S</td>\n    </tr>\n  </tbody>\n</table>\n</div>",
            "text/plain": "   PassengerId  Pclass                                          Name     Sex  \\\n0          892       3                              Kelly, Mr. James    male   \n1          893       3              Wilkes, Mrs. James (Ellen Needs)  female   \n2          894       2                     Myles, Mr. Thomas Francis    male   \n3          895       3                              Wirz, Mr. Albert    male   \n4          896       3  Hirvonen, Mrs. Alexander (Helga E Lindqvist)  female   \n\n    Age  SibSp  Parch   Ticket     Fare Cabin Embarked  \n0  34.5      0      0   330911   7.8292   NaN        Q  \n1  47.0      1      0   363272   7.0000   NaN        S  \n2  62.0      0      0   240276   9.6875   NaN        Q  \n3  27.0      0      0   315154   8.6625   NaN        S  \n4  22.0      1      1  3101298  12.2875   NaN        S  "
          },
          "metadata": {}
        }
      ]
    },
    {
      "metadata": {
        "trusted": true
      },
      "cell_type": "code",
      "source": "print(train.shape)\nprint(test.shape)",
      "execution_count": 28,
      "outputs": [
        {
          "output_type": "stream",
          "text": "(891, 12)\n(418, 11)\n",
          "name": "stdout"
        }
      ]
    },
    {
      "metadata": {
        "trusted": true,
        "scrolled": true
      },
      "cell_type": "code",
      "source": "train.describe()",
      "execution_count": 29,
      "outputs": [
        {
          "output_type": "execute_result",
          "execution_count": 29,
          "data": {
            "text/html": "<div>\n<style scoped>\n    .dataframe tbody tr th:only-of-type {\n        vertical-align: middle;\n    }\n\n    .dataframe tbody tr th {\n        vertical-align: top;\n    }\n\n    .dataframe thead th {\n        text-align: right;\n    }\n</style>\n<table border=\"1\" class=\"dataframe\">\n  <thead>\n    <tr style=\"text-align: right;\">\n      <th></th>\n      <th>PassengerId</th>\n      <th>Survived</th>\n      <th>Pclass</th>\n      <th>Age</th>\n      <th>SibSp</th>\n      <th>Parch</th>\n      <th>Fare</th>\n    </tr>\n  </thead>\n  <tbody>\n    <tr>\n      <th>count</th>\n      <td>891.000000</td>\n      <td>891.000000</td>\n      <td>891.000000</td>\n      <td>714.000000</td>\n      <td>891.000000</td>\n      <td>891.000000</td>\n      <td>891.000000</td>\n    </tr>\n    <tr>\n      <th>mean</th>\n      <td>446.000000</td>\n      <td>0.383838</td>\n      <td>2.308642</td>\n      <td>29.699118</td>\n      <td>0.523008</td>\n      <td>0.381594</td>\n      <td>32.204208</td>\n    </tr>\n    <tr>\n      <th>std</th>\n      <td>257.353842</td>\n      <td>0.486592</td>\n      <td>0.836071</td>\n      <td>14.526497</td>\n      <td>1.102743</td>\n      <td>0.806057</td>\n      <td>49.693429</td>\n    </tr>\n    <tr>\n      <th>min</th>\n      <td>1.000000</td>\n      <td>0.000000</td>\n      <td>1.000000</td>\n      <td>0.420000</td>\n      <td>0.000000</td>\n      <td>0.000000</td>\n      <td>0.000000</td>\n    </tr>\n    <tr>\n      <th>25%</th>\n      <td>223.500000</td>\n      <td>0.000000</td>\n      <td>2.000000</td>\n      <td>20.125000</td>\n      <td>0.000000</td>\n      <td>0.000000</td>\n      <td>7.910400</td>\n    </tr>\n    <tr>\n      <th>50%</th>\n      <td>446.000000</td>\n      <td>0.000000</td>\n      <td>3.000000</td>\n      <td>28.000000</td>\n      <td>0.000000</td>\n      <td>0.000000</td>\n      <td>14.454200</td>\n    </tr>\n    <tr>\n      <th>75%</th>\n      <td>668.500000</td>\n      <td>1.000000</td>\n      <td>3.000000</td>\n      <td>38.000000</td>\n      <td>1.000000</td>\n      <td>0.000000</td>\n      <td>31.000000</td>\n    </tr>\n    <tr>\n      <th>max</th>\n      <td>891.000000</td>\n      <td>1.000000</td>\n      <td>3.000000</td>\n      <td>80.000000</td>\n      <td>8.000000</td>\n      <td>6.000000</td>\n      <td>512.329200</td>\n    </tr>\n  </tbody>\n</table>\n</div>",
            "text/plain": "       PassengerId    Survived      Pclass         Age       SibSp  \\\ncount   891.000000  891.000000  891.000000  714.000000  891.000000   \nmean    446.000000    0.383838    2.308642   29.699118    0.523008   \nstd     257.353842    0.486592    0.836071   14.526497    1.102743   \nmin       1.000000    0.000000    1.000000    0.420000    0.000000   \n25%     223.500000    0.000000    2.000000   20.125000    0.000000   \n50%     446.000000    0.000000    3.000000   28.000000    0.000000   \n75%     668.500000    1.000000    3.000000   38.000000    1.000000   \nmax     891.000000    1.000000    3.000000   80.000000    8.000000   \n\n            Parch        Fare  \ncount  891.000000  891.000000  \nmean     0.381594   32.204208  \nstd      0.806057   49.693429  \nmin      0.000000    0.000000  \n25%      0.000000    7.910400  \n50%      0.000000   14.454200  \n75%      0.000000   31.000000  \nmax      6.000000  512.329200  "
          },
          "metadata": {}
        }
      ]
    },
    {
      "metadata": {},
      "cell_type": "markdown",
      "source": "Female vs Male"
    },
    {
      "metadata": {
        "trusted": true
      },
      "cell_type": "code",
      "source": "\n# Passengers that survived vs passengers that passed away\nprint(train[\"Survived\"].value_counts())\n\n# As proportions\nprint(train[\"Survived\"].value_counts(normalize = True))\n\n# Males that survived vs males that passed away\nprint(train[\"Survived\"][train[\"Sex\"] == 'male'].value_counts())\n\n# Females that survived vs Females that passed away\nprint(train[\"Survived\"][train[\"Sex\"] == 'female'].value_counts())\n\n# Normalized male survival\nprint(train[\"Survived\"][train[\"Sex\"] == 'male'].value_counts(normalize = True))\n\n# Normalized female survival\nprint(train[\"Survived\"][train[\"Sex\"] == 'female'].value_counts(normalize = True))\n",
      "execution_count": 30,
      "outputs": [
        {
          "output_type": "stream",
          "text": "0    549\n1    342\nName: Survived, dtype: int64\n0    0.616162\n1    0.383838\nName: Survived, dtype: float64\n0    468\n1    109\nName: Survived, dtype: int64\n1    233\n0     81\nName: Survived, dtype: int64\n0    0.811092\n1    0.188908\nName: Survived, dtype: float64\n1    0.742038\n0    0.257962\nName: Survived, dtype: float64\n",
          "name": "stdout"
        }
      ]
    },
    {
      "metadata": {},
      "cell_type": "markdown",
      "source": "Does age play a role?    "
    },
    {
      "metadata": {
        "trusted": true
      },
      "cell_type": "code",
      "source": "# Create the column Child and assign to 'NaN'\ntrain[\"Child\"] = float('NaN')\n\n# Assign 1 to passengers under 18, 0 to those 18 or older. Print the new column.\ntrain[\"Child\"][train[\"Age\"] < 18] = 1\ntrain[\"Child\"][train[\"Age\"] >= 18] = 0\nprint(train[\"Child\"])\n\n# Print normalized Survival Rates for passengers under 18\nprint(train[\"Survived\"][train[\"Child\"] == 1].value_counts(normalize = True))\n\n# Print normalized Survival Rates for passengers 18 or older\nprint(train[\"Survived\"][train[\"Child\"] == 0].value_counts(normalize = True))\n",
      "execution_count": 31,
      "outputs": [
        {
          "output_type": "stream",
          "text": "0      0.0\n1      0.0\n2      0.0\n3      0.0\n4      0.0\n5      NaN\n6      0.0\n7      1.0\n8      0.0\n9      1.0\n10     1.0\n11     0.0\n12     0.0\n13     0.0\n14     1.0\n15     0.0\n16     1.0\n17     NaN\n18     0.0\n19     NaN\n20     0.0\n21     0.0\n22     1.0\n23     0.0\n24     1.0\n25     0.0\n26     NaN\n27     0.0\n28     NaN\n29     NaN\n      ... \n861    0.0\n862    0.0\n863    NaN\n864    0.0\n865    0.0\n866    0.0\n867    0.0\n868    NaN\n869    1.0\n870    0.0\n871    0.0\n872    0.0\n873    0.0\n874    0.0\n875    1.0\n876    0.0\n877    0.0\n878    NaN\n879    0.0\n880    0.0\n881    0.0\n882    0.0\n883    0.0\n884    0.0\n885    0.0\n886    0.0\n887    0.0\n888    NaN\n889    0.0\n890    0.0\nName: Child, Length: 891, dtype: float64\n1    0.539823\n0    0.460177\nName: Survived, dtype: float64\n0    0.618968\n1    0.381032\nName: Survived, dtype: float64\n",
          "name": "stdout"
        }
      ]
    },
    {
      "metadata": {},
      "cell_type": "markdown",
      "source": "First Prediction"
    },
    {
      "metadata": {
        "trusted": true,
        "scrolled": false
      },
      "cell_type": "code",
      "source": "# Create a copy of test: test_one\ntest_one = test\n\n# Initialize a Survived column to 0\ntest_one[\"Survived\"] = 0\n\n# Set Survived to 1 if Sex equals \"female\"\ntest_one[\"Survived\"][test_one[\"Sex\"] == \"female\"] = 1\nprint(test_one.Survived)",
      "execution_count": 32,
      "outputs": [
        {
          "output_type": "stream",
          "text": "0      0\n1      1\n2      0\n3      0\n4      1\n5      0\n6      1\n7      0\n8      1\n9      0\n10     0\n11     0\n12     1\n13     0\n14     1\n15     1\n16     0\n17     0\n18     1\n19     1\n20     0\n21     0\n22     1\n23     0\n24     1\n25     0\n26     1\n27     0\n28     0\n29     0\n      ..\n388    0\n389    0\n390    0\n391    1\n392    0\n393    0\n394    0\n395    1\n396    0\n397    1\n398    0\n399    0\n400    1\n401    0\n402    1\n403    0\n404    0\n405    0\n406    0\n407    0\n408    1\n409    1\n410    1\n411    1\n412    1\n413    0\n414    1\n415    0\n416    0\n417    0\nName: Survived, Length: 418, dtype: int64\n",
          "name": "stdout"
        }
      ]
    },
    {
      "metadata": {
        "trusted": true
      },
      "cell_type": "code",
      "source": "# Import the Numpy library\nimport numpy as np\n# Import 'tree' from scikit-learn library\nfrom sklearn import tree",
      "execution_count": 33,
      "outputs": []
    },
    {
      "metadata": {},
      "cell_type": "markdown",
      "source": "Cleaning and Formatting your Data\n"
    },
    {
      "metadata": {
        "trusted": true,
        "scrolled": true
      },
      "cell_type": "code",
      "source": "# Convert the male and female groups to integer form\ntrain[\"Sex\"][train[\"Sex\"] == \"male\"] = 0\ntrain[\"Sex\"][train[\"Sex\"] == \"female\"] = 1\n\n# Impute the Embarked variable\ntrain[\"Embarked\"] = train[\"Embarked\"].fillna('s')\n\n# Convert the Embarked classes to integer form\ntrain[\"Embarked\"][train[\"Embarked\"] == \"S\"] = 0\ntrain[\"Embarked\"][train[\"Embarked\"] == \"C\"] = 1\ntrain[\"Embarked\"][train[\"Embarked\"] == \"Q\"] = 2\n\n#Print the Sex and Embarked columns\nprint(train[\"Sex\"])\nprint(train[\"Embarked\"])",
      "execution_count": 34,
      "outputs": [
        {
          "output_type": "stream",
          "text": "0      0\n1      1\n2      1\n3      1\n4      0\n5      0\n6      0\n7      0\n8      1\n9      1\n10     1\n11     1\n12     0\n13     0\n14     1\n15     1\n16     0\n17     0\n18     1\n19     1\n20     0\n21     0\n22     1\n23     0\n24     1\n25     1\n26     0\n27     0\n28     1\n29     0\n      ..\n861    0\n862    1\n863    1\n864    0\n865    1\n866    1\n867    0\n868    0\n869    0\n870    0\n871    1\n872    0\n873    0\n874    1\n875    1\n876    0\n877    0\n878    0\n879    1\n880    1\n881    0\n882    1\n883    0\n884    0\n885    1\n886    0\n887    1\n888    1\n889    0\n890    0\nName: Sex, Length: 891, dtype: object\n0      0\n1      1\n2      0\n3      0\n4      0\n5      2\n6      0\n7      0\n8      0\n9      1\n10     0\n11     0\n12     0\n13     0\n14     0\n15     0\n16     2\n17     0\n18     0\n19     1\n20     0\n21     0\n22     2\n23     0\n24     0\n25     0\n26     1\n27     0\n28     2\n29     0\n      ..\n861    0\n862    0\n863    0\n864    0\n865    0\n866    1\n867    0\n868    0\n869    0\n870    0\n871    0\n872    0\n873    0\n874    1\n875    1\n876    0\n877    0\n878    0\n879    1\n880    0\n881    0\n882    0\n883    0\n884    0\n885    2\n886    0\n887    0\n888    0\n889    1\n890    2\nName: Embarked, Length: 891, dtype: object\n",
          "name": "stdout"
        }
      ]
    },
    {
      "metadata": {},
      "cell_type": "markdown",
      "source": "Creating your first decision tree"
    },
    {
      "metadata": {
        "trusted": true
      },
      "cell_type": "code",
      "source": "from sklearn import tree\n# Print the train data to see the available features\nprint(train)\n\n# Create the target and features numpy arrays: target, features_one\ntarget = train[\"Survived\"].values\nfeatures_one = train[[\"Pclass\", \"Sex\", \"Age\", \"Fare\"]].values",
      "execution_count": 41,
      "outputs": [
        {
          "output_type": "stream",
          "text": "     PassengerId  Survived  Pclass  \\\n0              1         0       3   \n1              2         1       1   \n2              3         1       3   \n3              4         1       1   \n4              5         0       3   \n5              6         0       3   \n6              7         0       1   \n7              8         0       3   \n8              9         1       3   \n9             10         1       2   \n10            11         1       3   \n11            12         1       1   \n12            13         0       3   \n13            14         0       3   \n14            15         0       3   \n15            16         1       2   \n16            17         0       3   \n17            18         1       2   \n18            19         0       3   \n19            20         1       3   \n20            21         0       2   \n21            22         1       2   \n22            23         1       3   \n23            24         1       1   \n24            25         0       3   \n25            26         1       3   \n26            27         0       3   \n27            28         0       1   \n28            29         1       3   \n29            30         0       3   \n..           ...       ...     ...   \n861          862         0       2   \n862          863         1       1   \n863          864         0       3   \n864          865         0       2   \n865          866         1       2   \n866          867         1       2   \n867          868         0       1   \n868          869         0       3   \n869          870         1       3   \n870          871         0       3   \n871          872         1       1   \n872          873         0       1   \n873          874         0       3   \n874          875         1       2   \n875          876         1       3   \n876          877         0       3   \n877          878         0       3   \n878          879         0       3   \n879          880         1       1   \n880          881         1       2   \n881          882         0       3   \n882          883         0       3   \n883          884         0       2   \n884          885         0       3   \n885          886         0       3   \n886          887         0       2   \n887          888         1       1   \n888          889         0       3   \n889          890         1       1   \n890          891         0       3   \n\n                                                  Name Sex   Age  SibSp  \\\n0                              Braund, Mr. Owen Harris   0  22.0      1   \n1    Cumings, Mrs. John Bradley (Florence Briggs Th...   1  38.0      1   \n2                               Heikkinen, Miss. Laina   1  26.0      0   \n3         Futrelle, Mrs. Jacques Heath (Lily May Peel)   1  35.0      1   \n4                             Allen, Mr. William Henry   0  35.0      0   \n5                                     Moran, Mr. James   0   NaN      0   \n6                              McCarthy, Mr. Timothy J   0  54.0      0   \n7                       Palsson, Master. Gosta Leonard   0   2.0      3   \n8    Johnson, Mrs. Oscar W (Elisabeth Vilhelmina Berg)   1  27.0      0   \n9                  Nasser, Mrs. Nicholas (Adele Achem)   1  14.0      1   \n10                     Sandstrom, Miss. Marguerite Rut   1   4.0      1   \n11                            Bonnell, Miss. Elizabeth   1  58.0      0   \n12                      Saundercock, Mr. William Henry   0  20.0      0   \n13                         Andersson, Mr. Anders Johan   0  39.0      1   \n14                Vestrom, Miss. Hulda Amanda Adolfina   1  14.0      0   \n15                    Hewlett, Mrs. (Mary D Kingcome)    1  55.0      0   \n16                                Rice, Master. Eugene   0   2.0      4   \n17                        Williams, Mr. Charles Eugene   0   NaN      0   \n18   Vander Planke, Mrs. Julius (Emelia Maria Vande...   1  31.0      1   \n19                             Masselmani, Mrs. Fatima   1   NaN      0   \n20                                Fynney, Mr. Joseph J   0  35.0      0   \n21                               Beesley, Mr. Lawrence   0  34.0      0   \n22                         McGowan, Miss. Anna \"Annie\"   1  15.0      0   \n23                        Sloper, Mr. William Thompson   0  28.0      0   \n24                       Palsson, Miss. Torborg Danira   1   8.0      3   \n25   Asplund, Mrs. Carl Oscar (Selma Augusta Emilia...   1  38.0      1   \n26                             Emir, Mr. Farred Chehab   0   NaN      0   \n27                      Fortune, Mr. Charles Alexander   0  19.0      3   \n28                       O'Dwyer, Miss. Ellen \"Nellie\"   1   NaN      0   \n29                                 Todoroff, Mr. Lalio   0   NaN      0   \n..                                                 ...  ..   ...    ...   \n861                        Giles, Mr. Frederick Edward   0  21.0      1   \n862  Swift, Mrs. Frederick Joel (Margaret Welles Ba...   1  48.0      0   \n863                  Sage, Miss. Dorothy Edith \"Dolly\"   1   NaN      8   \n864                             Gill, Mr. John William   0  24.0      0   \n865                           Bystrom, Mrs. (Karolina)   1  42.0      0   \n866                       Duran y More, Miss. Asuncion   1  27.0      1   \n867               Roebling, Mr. Washington Augustus II   0  31.0      0   \n868                        van Melkebeke, Mr. Philemon   0   NaN      0   \n869                    Johnson, Master. Harold Theodor   0   4.0      1   \n870                                  Balkic, Mr. Cerin   0  26.0      0   \n871   Beckwith, Mrs. Richard Leonard (Sallie Monypeny)   1  47.0      1   \n872                           Carlsson, Mr. Frans Olof   0  33.0      0   \n873                        Vander Cruyssen, Mr. Victor   0  47.0      0   \n874              Abelson, Mrs. Samuel (Hannah Wizosky)   1  28.0      1   \n875                   Najib, Miss. Adele Kiamie \"Jane\"   1  15.0      0   \n876                      Gustafsson, Mr. Alfred Ossian   0  20.0      0   \n877                               Petroff, Mr. Nedelio   0  19.0      0   \n878                                 Laleff, Mr. Kristo   0   NaN      0   \n879      Potter, Mrs. Thomas Jr (Lily Alexenia Wilson)   1  56.0      0   \n880       Shelley, Mrs. William (Imanita Parrish Hall)   1  25.0      0   \n881                                 Markun, Mr. Johann   0  33.0      0   \n882                       Dahlberg, Miss. Gerda Ulrika   1  22.0      0   \n883                      Banfield, Mr. Frederick James   0  28.0      0   \n884                             Sutehall, Mr. Henry Jr   0  25.0      0   \n885               Rice, Mrs. William (Margaret Norton)   1  39.0      0   \n886                              Montvila, Rev. Juozas   0  27.0      0   \n887                       Graham, Miss. Margaret Edith   1  19.0      0   \n888           Johnston, Miss. Catherine Helen \"Carrie\"   1   NaN      1   \n889                              Behr, Mr. Karl Howell   0  26.0      0   \n890                                Dooley, Mr. Patrick   0  32.0      0   \n\n     Parch            Ticket      Fare        Cabin Embarked  Child  \n0        0         A/5 21171    7.2500          NaN        0    0.0  \n1        0          PC 17599   71.2833          C85        1    0.0  \n2        0  STON/O2. 3101282    7.9250          NaN        0    0.0  \n3        0            113803   53.1000         C123        0    0.0  \n4        0            373450    8.0500          NaN        0    0.0  \n5        0            330877    8.4583          NaN        2    NaN  \n6        0             17463   51.8625          E46        0    0.0  \n7        1            349909   21.0750          NaN        0    1.0  \n8        2            347742   11.1333          NaN        0    0.0  \n9        0            237736   30.0708          NaN        1    1.0  \n10       1           PP 9549   16.7000           G6        0    1.0  \n11       0            113783   26.5500         C103        0    0.0  \n12       0         A/5. 2151    8.0500          NaN        0    0.0  \n13       5            347082   31.2750          NaN        0    0.0  \n14       0            350406    7.8542          NaN        0    1.0  \n15       0            248706   16.0000          NaN        0    0.0  \n16       1            382652   29.1250          NaN        2    1.0  \n17       0            244373   13.0000          NaN        0    NaN  \n18       0            345763   18.0000          NaN        0    0.0  \n19       0              2649    7.2250          NaN        1    NaN  \n20       0            239865   26.0000          NaN        0    0.0  \n21       0            248698   13.0000          D56        0    0.0  \n22       0            330923    8.0292          NaN        2    1.0  \n23       0            113788   35.5000           A6        0    0.0  \n24       1            349909   21.0750          NaN        0    1.0  \n25       5            347077   31.3875          NaN        0    0.0  \n26       0              2631    7.2250          NaN        1    NaN  \n27       2             19950  263.0000  C23 C25 C27        0    0.0  \n28       0            330959    7.8792          NaN        2    NaN  \n29       0            349216    7.8958          NaN        0    NaN  \n..     ...               ...       ...          ...      ...    ...  \n861      0             28134   11.5000          NaN        0    0.0  \n862      0             17466   25.9292          D17        0    0.0  \n863      2          CA. 2343   69.5500          NaN        0    NaN  \n864      0            233866   13.0000          NaN        0    0.0  \n865      0            236852   13.0000          NaN        0    0.0  \n866      0     SC/PARIS 2149   13.8583          NaN        1    0.0  \n867      0          PC 17590   50.4958          A24        0    0.0  \n868      0            345777    9.5000          NaN        0    NaN  \n869      1            347742   11.1333          NaN        0    1.0  \n870      0            349248    7.8958          NaN        0    0.0  \n871      1             11751   52.5542          D35        0    0.0  \n872      0               695    5.0000  B51 B53 B55        0    0.0  \n873      0            345765    9.0000          NaN        0    0.0  \n874      0         P/PP 3381   24.0000          NaN        1    0.0  \n875      0              2667    7.2250          NaN        1    1.0  \n876      0              7534    9.8458          NaN        0    0.0  \n877      0            349212    7.8958          NaN        0    0.0  \n878      0            349217    7.8958          NaN        0    NaN  \n879      1             11767   83.1583          C50        1    0.0  \n880      1            230433   26.0000          NaN        0    0.0  \n881      0            349257    7.8958          NaN        0    0.0  \n882      0              7552   10.5167          NaN        0    0.0  \n883      0  C.A./SOTON 34068   10.5000          NaN        0    0.0  \n884      0   SOTON/OQ 392076    7.0500          NaN        0    0.0  \n885      5            382652   29.1250          NaN        2    0.0  \n886      0            211536   13.0000          NaN        0    0.0  \n887      0            112053   30.0000          B42        0    0.0  \n888      2        W./C. 6607   23.4500          NaN        0    NaN  \n889      0            111369   30.0000         C148        1    0.0  \n890      0            370376    7.7500          NaN        2    0.0  \n\n[891 rows x 13 columns]\n",
          "name": "stdout"
        }
      ]
    },
    {
      "metadata": {
        "trusted": true
      },
      "cell_type": "code",
      "source": "# Fit your first decision tree: my_tree_one\nmy_tree_one = tree.DecisionTreeClassifier()\nmy_tree_one = my_tree_one.fit(features_one, target)",
      "execution_count": 43,
      "outputs": [
        {
          "output_type": "error",
          "ename": "ValueError",
          "evalue": "Input contains NaN, infinity or a value too large for dtype('float32').",
          "traceback": [
            "\u001b[0;31m---------------------------------------------------------------------------\u001b[0m",
            "\u001b[0;31mValueError\u001b[0m                                Traceback (most recent call last)",
            "\u001b[0;32m<ipython-input-43-2937396a2b75>\u001b[0m in \u001b[0;36m<module>\u001b[0;34m\u001b[0m\n\u001b[1;32m      1\u001b[0m \u001b[0;31m# Fit your first decision tree: my_tree_one\u001b[0m\u001b[0;34m\u001b[0m\u001b[0;34m\u001b[0m\u001b[0m\n\u001b[1;32m      2\u001b[0m \u001b[0mmy_tree_one\u001b[0m \u001b[0;34m=\u001b[0m \u001b[0mtree\u001b[0m\u001b[0;34m.\u001b[0m\u001b[0mDecisionTreeClassifier\u001b[0m\u001b[0;34m(\u001b[0m\u001b[0;34m)\u001b[0m\u001b[0;34m\u001b[0m\u001b[0m\n\u001b[0;32m----> 3\u001b[0;31m \u001b[0mmy_tree_one\u001b[0m \u001b[0;34m=\u001b[0m \u001b[0mmy_tree_one\u001b[0m\u001b[0;34m.\u001b[0m\u001b[0mfit\u001b[0m\u001b[0;34m(\u001b[0m\u001b[0mfeatures_one\u001b[0m\u001b[0;34m,\u001b[0m \u001b[0mtarget\u001b[0m\u001b[0;34m)\u001b[0m\u001b[0;34m\u001b[0m\u001b[0m\n\u001b[0m",
            "\u001b[0;32m~/anaconda3_501/lib/python3.6/site-packages/sklearn/tree/tree.py\u001b[0m in \u001b[0;36mfit\u001b[0;34m(self, X, y, sample_weight, check_input, X_idx_sorted)\u001b[0m\n\u001b[1;32m    788\u001b[0m             \u001b[0msample_weight\u001b[0m\u001b[0;34m=\u001b[0m\u001b[0msample_weight\u001b[0m\u001b[0;34m,\u001b[0m\u001b[0;34m\u001b[0m\u001b[0m\n\u001b[1;32m    789\u001b[0m             \u001b[0mcheck_input\u001b[0m\u001b[0;34m=\u001b[0m\u001b[0mcheck_input\u001b[0m\u001b[0;34m,\u001b[0m\u001b[0;34m\u001b[0m\u001b[0m\n\u001b[0;32m--> 790\u001b[0;31m             X_idx_sorted=X_idx_sorted)\n\u001b[0m\u001b[1;32m    791\u001b[0m         \u001b[0;32mreturn\u001b[0m \u001b[0mself\u001b[0m\u001b[0;34m\u001b[0m\u001b[0m\n\u001b[1;32m    792\u001b[0m \u001b[0;34m\u001b[0m\u001b[0m\n",
            "\u001b[0;32m~/anaconda3_501/lib/python3.6/site-packages/sklearn/tree/tree.py\u001b[0m in \u001b[0;36mfit\u001b[0;34m(self, X, y, sample_weight, check_input, X_idx_sorted)\u001b[0m\n\u001b[1;32m    114\u001b[0m         \u001b[0mrandom_state\u001b[0m \u001b[0;34m=\u001b[0m \u001b[0mcheck_random_state\u001b[0m\u001b[0;34m(\u001b[0m\u001b[0mself\u001b[0m\u001b[0;34m.\u001b[0m\u001b[0mrandom_state\u001b[0m\u001b[0;34m)\u001b[0m\u001b[0;34m\u001b[0m\u001b[0m\n\u001b[1;32m    115\u001b[0m         \u001b[0;32mif\u001b[0m \u001b[0mcheck_input\u001b[0m\u001b[0;34m:\u001b[0m\u001b[0;34m\u001b[0m\u001b[0m\n\u001b[0;32m--> 116\u001b[0;31m             \u001b[0mX\u001b[0m \u001b[0;34m=\u001b[0m \u001b[0mcheck_array\u001b[0m\u001b[0;34m(\u001b[0m\u001b[0mX\u001b[0m\u001b[0;34m,\u001b[0m \u001b[0mdtype\u001b[0m\u001b[0;34m=\u001b[0m\u001b[0mDTYPE\u001b[0m\u001b[0;34m,\u001b[0m \u001b[0maccept_sparse\u001b[0m\u001b[0;34m=\u001b[0m\u001b[0;34m\"csc\"\u001b[0m\u001b[0;34m)\u001b[0m\u001b[0;34m\u001b[0m\u001b[0m\n\u001b[0m\u001b[1;32m    117\u001b[0m             \u001b[0my\u001b[0m \u001b[0;34m=\u001b[0m \u001b[0mcheck_array\u001b[0m\u001b[0;34m(\u001b[0m\u001b[0my\u001b[0m\u001b[0;34m,\u001b[0m \u001b[0mensure_2d\u001b[0m\u001b[0;34m=\u001b[0m\u001b[0;32mFalse\u001b[0m\u001b[0;34m,\u001b[0m \u001b[0mdtype\u001b[0m\u001b[0;34m=\u001b[0m\u001b[0;32mNone\u001b[0m\u001b[0;34m)\u001b[0m\u001b[0;34m\u001b[0m\u001b[0m\n\u001b[1;32m    118\u001b[0m             \u001b[0;32mif\u001b[0m \u001b[0missparse\u001b[0m\u001b[0;34m(\u001b[0m\u001b[0mX\u001b[0m\u001b[0;34m)\u001b[0m\u001b[0;34m:\u001b[0m\u001b[0;34m\u001b[0m\u001b[0m\n",
            "\u001b[0;32m~/anaconda3_501/lib/python3.6/site-packages/sklearn/utils/validation.py\u001b[0m in \u001b[0;36mcheck_array\u001b[0;34m(array, accept_sparse, dtype, order, copy, force_all_finite, ensure_2d, allow_nd, ensure_min_samples, ensure_min_features, warn_on_dtype, estimator)\u001b[0m\n\u001b[1;32m    451\u001b[0m                              % (array.ndim, estimator_name))\n\u001b[1;32m    452\u001b[0m         \u001b[0;32mif\u001b[0m \u001b[0mforce_all_finite\u001b[0m\u001b[0;34m:\u001b[0m\u001b[0;34m\u001b[0m\u001b[0m\n\u001b[0;32m--> 453\u001b[0;31m             \u001b[0m_assert_all_finite\u001b[0m\u001b[0;34m(\u001b[0m\u001b[0marray\u001b[0m\u001b[0;34m)\u001b[0m\u001b[0;34m\u001b[0m\u001b[0m\n\u001b[0m\u001b[1;32m    454\u001b[0m \u001b[0;34m\u001b[0m\u001b[0m\n\u001b[1;32m    455\u001b[0m     \u001b[0mshape_repr\u001b[0m \u001b[0;34m=\u001b[0m \u001b[0m_shape_repr\u001b[0m\u001b[0;34m(\u001b[0m\u001b[0marray\u001b[0m\u001b[0;34m.\u001b[0m\u001b[0mshape\u001b[0m\u001b[0;34m)\u001b[0m\u001b[0;34m\u001b[0m\u001b[0m\n",
            "\u001b[0;32m~/anaconda3_501/lib/python3.6/site-packages/sklearn/utils/validation.py\u001b[0m in \u001b[0;36m_assert_all_finite\u001b[0;34m(X)\u001b[0m\n\u001b[1;32m     42\u001b[0m             and not np.isfinite(X).all()):\n\u001b[1;32m     43\u001b[0m         raise ValueError(\"Input contains NaN, infinity\"\n\u001b[0;32m---> 44\u001b[0;31m                          \" or a value too large for %r.\" % X.dtype)\n\u001b[0m\u001b[1;32m     45\u001b[0m \u001b[0;34m\u001b[0m\u001b[0m\n\u001b[1;32m     46\u001b[0m \u001b[0;34m\u001b[0m\u001b[0m\n",
            "\u001b[0;31mValueError\u001b[0m: Input contains NaN, infinity or a value too large for dtype('float32')."
          ]
        }
      ]
    },
    {
      "metadata": {
        "trusted": true
      },
      "cell_type": "code",
      "source": "# Look at the importance and score of the included features\nprint(my_tree_one.feature_importances_)\nprint(my_tree_one.score(features_one, target))",
      "execution_count": 40,
      "outputs": [
        {
          "output_type": "stream",
          "text": "     PassengerId  Survived  Pclass  \\\n0              1         0       3   \n1              2         1       1   \n2              3         1       3   \n3              4         1       1   \n4              5         0       3   \n5              6         0       3   \n6              7         0       1   \n7              8         0       3   \n8              9         1       3   \n9             10         1       2   \n10            11         1       3   \n11            12         1       1   \n12            13         0       3   \n13            14         0       3   \n14            15         0       3   \n15            16         1       2   \n16            17         0       3   \n17            18         1       2   \n18            19         0       3   \n19            20         1       3   \n20            21         0       2   \n21            22         1       2   \n22            23         1       3   \n23            24         1       1   \n24            25         0       3   \n25            26         1       3   \n26            27         0       3   \n27            28         0       1   \n28            29         1       3   \n29            30         0       3   \n..           ...       ...     ...   \n861          862         0       2   \n862          863         1       1   \n863          864         0       3   \n864          865         0       2   \n865          866         1       2   \n866          867         1       2   \n867          868         0       1   \n868          869         0       3   \n869          870         1       3   \n870          871         0       3   \n871          872         1       1   \n872          873         0       1   \n873          874         0       3   \n874          875         1       2   \n875          876         1       3   \n876          877         0       3   \n877          878         0       3   \n878          879         0       3   \n879          880         1       1   \n880          881         1       2   \n881          882         0       3   \n882          883         0       3   \n883          884         0       2   \n884          885         0       3   \n885          886         0       3   \n886          887         0       2   \n887          888         1       1   \n888          889         0       3   \n889          890         1       1   \n890          891         0       3   \n\n                                                  Name Sex   Age  SibSp  \\\n0                              Braund, Mr. Owen Harris   0  22.0      1   \n1    Cumings, Mrs. John Bradley (Florence Briggs Th...   1  38.0      1   \n2                               Heikkinen, Miss. Laina   1  26.0      0   \n3         Futrelle, Mrs. Jacques Heath (Lily May Peel)   1  35.0      1   \n4                             Allen, Mr. William Henry   0  35.0      0   \n5                                     Moran, Mr. James   0   NaN      0   \n6                              McCarthy, Mr. Timothy J   0  54.0      0   \n7                       Palsson, Master. Gosta Leonard   0   2.0      3   \n8    Johnson, Mrs. Oscar W (Elisabeth Vilhelmina Berg)   1  27.0      0   \n9                  Nasser, Mrs. Nicholas (Adele Achem)   1  14.0      1   \n10                     Sandstrom, Miss. Marguerite Rut   1   4.0      1   \n11                            Bonnell, Miss. Elizabeth   1  58.0      0   \n12                      Saundercock, Mr. William Henry   0  20.0      0   \n13                         Andersson, Mr. Anders Johan   0  39.0      1   \n14                Vestrom, Miss. Hulda Amanda Adolfina   1  14.0      0   \n15                    Hewlett, Mrs. (Mary D Kingcome)    1  55.0      0   \n16                                Rice, Master. Eugene   0   2.0      4   \n17                        Williams, Mr. Charles Eugene   0   NaN      0   \n18   Vander Planke, Mrs. Julius (Emelia Maria Vande...   1  31.0      1   \n19                             Masselmani, Mrs. Fatima   1   NaN      0   \n20                                Fynney, Mr. Joseph J   0  35.0      0   \n21                               Beesley, Mr. Lawrence   0  34.0      0   \n22                         McGowan, Miss. Anna \"Annie\"   1  15.0      0   \n23                        Sloper, Mr. William Thompson   0  28.0      0   \n24                       Palsson, Miss. Torborg Danira   1   8.0      3   \n25   Asplund, Mrs. Carl Oscar (Selma Augusta Emilia...   1  38.0      1   \n26                             Emir, Mr. Farred Chehab   0   NaN      0   \n27                      Fortune, Mr. Charles Alexander   0  19.0      3   \n28                       O'Dwyer, Miss. Ellen \"Nellie\"   1   NaN      0   \n29                                 Todoroff, Mr. Lalio   0   NaN      0   \n..                                                 ...  ..   ...    ...   \n861                        Giles, Mr. Frederick Edward   0  21.0      1   \n862  Swift, Mrs. Frederick Joel (Margaret Welles Ba...   1  48.0      0   \n863                  Sage, Miss. Dorothy Edith \"Dolly\"   1   NaN      8   \n864                             Gill, Mr. John William   0  24.0      0   \n865                           Bystrom, Mrs. (Karolina)   1  42.0      0   \n866                       Duran y More, Miss. Asuncion   1  27.0      1   \n867               Roebling, Mr. Washington Augustus II   0  31.0      0   \n868                        van Melkebeke, Mr. Philemon   0   NaN      0   \n869                    Johnson, Master. Harold Theodor   0   4.0      1   \n870                                  Balkic, Mr. Cerin   0  26.0      0   \n871   Beckwith, Mrs. Richard Leonard (Sallie Monypeny)   1  47.0      1   \n872                           Carlsson, Mr. Frans Olof   0  33.0      0   \n873                        Vander Cruyssen, Mr. Victor   0  47.0      0   \n874              Abelson, Mrs. Samuel (Hannah Wizosky)   1  28.0      1   \n875                   Najib, Miss. Adele Kiamie \"Jane\"   1  15.0      0   \n876                      Gustafsson, Mr. Alfred Ossian   0  20.0      0   \n877                               Petroff, Mr. Nedelio   0  19.0      0   \n878                                 Laleff, Mr. Kristo   0   NaN      0   \n879      Potter, Mrs. Thomas Jr (Lily Alexenia Wilson)   1  56.0      0   \n880       Shelley, Mrs. William (Imanita Parrish Hall)   1  25.0      0   \n881                                 Markun, Mr. Johann   0  33.0      0   \n882                       Dahlberg, Miss. Gerda Ulrika   1  22.0      0   \n883                      Banfield, Mr. Frederick James   0  28.0      0   \n884                             Sutehall, Mr. Henry Jr   0  25.0      0   \n885               Rice, Mrs. William (Margaret Norton)   1  39.0      0   \n886                              Montvila, Rev. Juozas   0  27.0      0   \n887                       Graham, Miss. Margaret Edith   1  19.0      0   \n888           Johnston, Miss. Catherine Helen \"Carrie\"   1   NaN      1   \n889                              Behr, Mr. Karl Howell   0  26.0      0   \n890                                Dooley, Mr. Patrick   0  32.0      0   \n\n     Parch            Ticket      Fare        Cabin Embarked  Child  \n0        0         A/5 21171    7.2500          NaN        0    0.0  \n1        0          PC 17599   71.2833          C85        1    0.0  \n2        0  STON/O2. 3101282    7.9250          NaN        0    0.0  \n3        0            113803   53.1000         C123        0    0.0  \n4        0            373450    8.0500          NaN        0    0.0  \n5        0            330877    8.4583          NaN        2    NaN  \n6        0             17463   51.8625          E46        0    0.0  \n7        1            349909   21.0750          NaN        0    1.0  \n8        2            347742   11.1333          NaN        0    0.0  \n9        0            237736   30.0708          NaN        1    1.0  \n10       1           PP 9549   16.7000           G6        0    1.0  \n11       0            113783   26.5500         C103        0    0.0  \n12       0         A/5. 2151    8.0500          NaN        0    0.0  \n13       5            347082   31.2750          NaN        0    0.0  \n14       0            350406    7.8542          NaN        0    1.0  \n15       0            248706   16.0000          NaN        0    0.0  \n16       1            382652   29.1250          NaN        2    1.0  \n17       0            244373   13.0000          NaN        0    NaN  \n18       0            345763   18.0000          NaN        0    0.0  \n19       0              2649    7.2250          NaN        1    NaN  \n20       0            239865   26.0000          NaN        0    0.0  \n21       0            248698   13.0000          D56        0    0.0  \n22       0            330923    8.0292          NaN        2    1.0  \n23       0            113788   35.5000           A6        0    0.0  \n24       1            349909   21.0750          NaN        0    1.0  \n25       5            347077   31.3875          NaN        0    0.0  \n26       0              2631    7.2250          NaN        1    NaN  \n27       2             19950  263.0000  C23 C25 C27        0    0.0  \n28       0            330959    7.8792          NaN        2    NaN  \n29       0            349216    7.8958          NaN        0    NaN  \n..     ...               ...       ...          ...      ...    ...  \n861      0             28134   11.5000          NaN        0    0.0  \n862      0             17466   25.9292          D17        0    0.0  \n863      2          CA. 2343   69.5500          NaN        0    NaN  \n864      0            233866   13.0000          NaN        0    0.0  \n865      0            236852   13.0000          NaN        0    0.0  \n866      0     SC/PARIS 2149   13.8583          NaN        1    0.0  \n867      0          PC 17590   50.4958          A24        0    0.0  \n868      0            345777    9.5000          NaN        0    NaN  \n869      1            347742   11.1333          NaN        0    1.0  \n870      0            349248    7.8958          NaN        0    0.0  \n871      1             11751   52.5542          D35        0    0.0  \n872      0               695    5.0000  B51 B53 B55        0    0.0  \n873      0            345765    9.0000          NaN        0    0.0  \n874      0         P/PP 3381   24.0000          NaN        1    0.0  \n875      0              2667    7.2250          NaN        1    1.0  \n876      0              7534    9.8458          NaN        0    0.0  \n877      0            349212    7.8958          NaN        0    0.0  \n878      0            349217    7.8958          NaN        0    NaN  \n879      1             11767   83.1583          C50        1    0.0  \n880      1            230433   26.0000          NaN        0    0.0  \n881      0            349257    7.8958          NaN        0    0.0  \n882      0              7552   10.5167          NaN        0    0.0  \n883      0  C.A./SOTON 34068   10.5000          NaN        0    0.0  \n884      0   SOTON/OQ 392076    7.0500          NaN        0    0.0  \n885      5            382652   29.1250          NaN        2    0.0  \n886      0            211536   13.0000          NaN        0    0.0  \n887      0            112053   30.0000          B42        0    0.0  \n888      2        W./C. 6607   23.4500          NaN        0    NaN  \n889      0            111369   30.0000         C148        1    0.0  \n890      0            370376    7.7500          NaN        2    0.0  \n\n[891 rows x 13 columns]\n",
          "name": "stdout"
        },
        {
          "output_type": "error",
          "ename": "ValueError",
          "evalue": "Input contains NaN, infinity or a value too large for dtype('float32').",
          "traceback": [
            "\u001b[0;31m---------------------------------------------------------------------------\u001b[0m",
            "\u001b[0;31mValueError\u001b[0m                                Traceback (most recent call last)",
            "\u001b[0;32m<ipython-input-40-08197523b301>\u001b[0m in \u001b[0;36m<module>\u001b[0;34m\u001b[0m\n\u001b[1;32m      9\u001b[0m \u001b[0;31m# Fit your first decision tree: my_tree_one\u001b[0m\u001b[0;34m\u001b[0m\u001b[0;34m\u001b[0m\u001b[0m\n\u001b[1;32m     10\u001b[0m \u001b[0mmy_tree_one\u001b[0m \u001b[0;34m=\u001b[0m \u001b[0mtree\u001b[0m\u001b[0;34m.\u001b[0m\u001b[0mDecisionTreeClassifier\u001b[0m\u001b[0;34m(\u001b[0m\u001b[0;34m)\u001b[0m\u001b[0;34m\u001b[0m\u001b[0m\n\u001b[0;32m---> 11\u001b[0;31m \u001b[0mmy_tree_one\u001b[0m \u001b[0;34m=\u001b[0m \u001b[0mmy_tree_one\u001b[0m\u001b[0;34m.\u001b[0m\u001b[0mfit\u001b[0m\u001b[0;34m(\u001b[0m\u001b[0mfeatures_one\u001b[0m\u001b[0;34m,\u001b[0m \u001b[0mtarget\u001b[0m\u001b[0;34m)\u001b[0m\u001b[0;34m\u001b[0m\u001b[0m\n\u001b[0m\u001b[1;32m     12\u001b[0m \u001b[0;34m\u001b[0m\u001b[0m\n\u001b[1;32m     13\u001b[0m \u001b[0;31m# Look at the importance and score of the included features\u001b[0m\u001b[0;34m\u001b[0m\u001b[0;34m\u001b[0m\u001b[0m\n",
            "\u001b[0;32m~/anaconda3_501/lib/python3.6/site-packages/sklearn/tree/tree.py\u001b[0m in \u001b[0;36mfit\u001b[0;34m(self, X, y, sample_weight, check_input, X_idx_sorted)\u001b[0m\n\u001b[1;32m    788\u001b[0m             \u001b[0msample_weight\u001b[0m\u001b[0;34m=\u001b[0m\u001b[0msample_weight\u001b[0m\u001b[0;34m,\u001b[0m\u001b[0;34m\u001b[0m\u001b[0m\n\u001b[1;32m    789\u001b[0m             \u001b[0mcheck_input\u001b[0m\u001b[0;34m=\u001b[0m\u001b[0mcheck_input\u001b[0m\u001b[0;34m,\u001b[0m\u001b[0;34m\u001b[0m\u001b[0m\n\u001b[0;32m--> 790\u001b[0;31m             X_idx_sorted=X_idx_sorted)\n\u001b[0m\u001b[1;32m    791\u001b[0m         \u001b[0;32mreturn\u001b[0m \u001b[0mself\u001b[0m\u001b[0;34m\u001b[0m\u001b[0m\n\u001b[1;32m    792\u001b[0m \u001b[0;34m\u001b[0m\u001b[0m\n",
            "\u001b[0;32m~/anaconda3_501/lib/python3.6/site-packages/sklearn/tree/tree.py\u001b[0m in \u001b[0;36mfit\u001b[0;34m(self, X, y, sample_weight, check_input, X_idx_sorted)\u001b[0m\n\u001b[1;32m    114\u001b[0m         \u001b[0mrandom_state\u001b[0m \u001b[0;34m=\u001b[0m \u001b[0mcheck_random_state\u001b[0m\u001b[0;34m(\u001b[0m\u001b[0mself\u001b[0m\u001b[0;34m.\u001b[0m\u001b[0mrandom_state\u001b[0m\u001b[0;34m)\u001b[0m\u001b[0;34m\u001b[0m\u001b[0m\n\u001b[1;32m    115\u001b[0m         \u001b[0;32mif\u001b[0m \u001b[0mcheck_input\u001b[0m\u001b[0;34m:\u001b[0m\u001b[0;34m\u001b[0m\u001b[0m\n\u001b[0;32m--> 116\u001b[0;31m             \u001b[0mX\u001b[0m \u001b[0;34m=\u001b[0m \u001b[0mcheck_array\u001b[0m\u001b[0;34m(\u001b[0m\u001b[0mX\u001b[0m\u001b[0;34m,\u001b[0m \u001b[0mdtype\u001b[0m\u001b[0;34m=\u001b[0m\u001b[0mDTYPE\u001b[0m\u001b[0;34m,\u001b[0m \u001b[0maccept_sparse\u001b[0m\u001b[0;34m=\u001b[0m\u001b[0;34m\"csc\"\u001b[0m\u001b[0;34m)\u001b[0m\u001b[0;34m\u001b[0m\u001b[0m\n\u001b[0m\u001b[1;32m    117\u001b[0m             \u001b[0my\u001b[0m \u001b[0;34m=\u001b[0m \u001b[0mcheck_array\u001b[0m\u001b[0;34m(\u001b[0m\u001b[0my\u001b[0m\u001b[0;34m,\u001b[0m \u001b[0mensure_2d\u001b[0m\u001b[0;34m=\u001b[0m\u001b[0;32mFalse\u001b[0m\u001b[0;34m,\u001b[0m \u001b[0mdtype\u001b[0m\u001b[0;34m=\u001b[0m\u001b[0;32mNone\u001b[0m\u001b[0;34m)\u001b[0m\u001b[0;34m\u001b[0m\u001b[0m\n\u001b[1;32m    118\u001b[0m             \u001b[0;32mif\u001b[0m \u001b[0missparse\u001b[0m\u001b[0;34m(\u001b[0m\u001b[0mX\u001b[0m\u001b[0;34m)\u001b[0m\u001b[0;34m:\u001b[0m\u001b[0;34m\u001b[0m\u001b[0m\n",
            "\u001b[0;32m~/anaconda3_501/lib/python3.6/site-packages/sklearn/utils/validation.py\u001b[0m in \u001b[0;36mcheck_array\u001b[0;34m(array, accept_sparse, dtype, order, copy, force_all_finite, ensure_2d, allow_nd, ensure_min_samples, ensure_min_features, warn_on_dtype, estimator)\u001b[0m\n\u001b[1;32m    451\u001b[0m                              % (array.ndim, estimator_name))\n\u001b[1;32m    452\u001b[0m         \u001b[0;32mif\u001b[0m \u001b[0mforce_all_finite\u001b[0m\u001b[0;34m:\u001b[0m\u001b[0;34m\u001b[0m\u001b[0m\n\u001b[0;32m--> 453\u001b[0;31m             \u001b[0m_assert_all_finite\u001b[0m\u001b[0;34m(\u001b[0m\u001b[0marray\u001b[0m\u001b[0;34m)\u001b[0m\u001b[0;34m\u001b[0m\u001b[0m\n\u001b[0m\u001b[1;32m    454\u001b[0m \u001b[0;34m\u001b[0m\u001b[0m\n\u001b[1;32m    455\u001b[0m     \u001b[0mshape_repr\u001b[0m \u001b[0;34m=\u001b[0m \u001b[0m_shape_repr\u001b[0m\u001b[0;34m(\u001b[0m\u001b[0marray\u001b[0m\u001b[0;34m.\u001b[0m\u001b[0mshape\u001b[0m\u001b[0;34m)\u001b[0m\u001b[0;34m\u001b[0m\u001b[0m\n",
            "\u001b[0;32m~/anaconda3_501/lib/python3.6/site-packages/sklearn/utils/validation.py\u001b[0m in \u001b[0;36m_assert_all_finite\u001b[0;34m(X)\u001b[0m\n\u001b[1;32m     42\u001b[0m             and not np.isfinite(X).all()):\n\u001b[1;32m     43\u001b[0m         raise ValueError(\"Input contains NaN, infinity\"\n\u001b[0;32m---> 44\u001b[0;31m                          \" or a value too large for %r.\" % X.dtype)\n\u001b[0m\u001b[1;32m     45\u001b[0m \u001b[0;34m\u001b[0m\u001b[0m\n\u001b[1;32m     46\u001b[0m \u001b[0;34m\u001b[0m\u001b[0m\n",
            "\u001b[0;31mValueError\u001b[0m: Input contains NaN, infinity or a value too large for dtype('float32')."
          ]
        }
      ]
    },
    {
      "metadata": {
        "trusted": true,
        "scrolled": true
      },
      "cell_type": "code",
      "source": "my_tree_one.feature_importances_",
      "execution_count": 37,
      "outputs": [
        {
          "output_type": "error",
          "ename": "NotFittedError",
          "evalue": "This DecisionTreeClassifier instance is not fitted yet. Call 'fit' with appropriate arguments before using this method.",
          "traceback": [
            "\u001b[0;31m---------------------------------------------------------------------------\u001b[0m",
            "\u001b[0;31mNotFittedError\u001b[0m                            Traceback (most recent call last)",
            "\u001b[0;32m<ipython-input-37-fb93ee39baa6>\u001b[0m in \u001b[0;36m<module>\u001b[0;34m\u001b[0m\n\u001b[0;32m----> 1\u001b[0;31m \u001b[0mmy_tree_one\u001b[0m\u001b[0;34m.\u001b[0m\u001b[0mfeature_importances_\u001b[0m\u001b[0;34m\u001b[0m\u001b[0m\n\u001b[0m",
            "\u001b[0;32m~/anaconda3_501/lib/python3.6/site-packages/sklearn/tree/tree.py\u001b[0m in \u001b[0;36mfeature_importances_\u001b[0;34m(self)\u001b[0m\n\u001b[1;32m    504\u001b[0m         \u001b[0mfeature_importances_\u001b[0m \u001b[0;34m:\u001b[0m \u001b[0marray\u001b[0m\u001b[0;34m,\u001b[0m \u001b[0mshape\u001b[0m \u001b[0;34m=\u001b[0m \u001b[0;34m[\u001b[0m\u001b[0mn_features\u001b[0m\u001b[0;34m]\u001b[0m\u001b[0;34m\u001b[0m\u001b[0m\n\u001b[1;32m    505\u001b[0m         \"\"\"\n\u001b[0;32m--> 506\u001b[0;31m         \u001b[0mcheck_is_fitted\u001b[0m\u001b[0;34m(\u001b[0m\u001b[0mself\u001b[0m\u001b[0;34m,\u001b[0m \u001b[0;34m'tree_'\u001b[0m\u001b[0;34m)\u001b[0m\u001b[0;34m\u001b[0m\u001b[0m\n\u001b[0m\u001b[1;32m    507\u001b[0m \u001b[0;34m\u001b[0m\u001b[0m\n\u001b[1;32m    508\u001b[0m         \u001b[0;32mreturn\u001b[0m \u001b[0mself\u001b[0m\u001b[0;34m.\u001b[0m\u001b[0mtree_\u001b[0m\u001b[0;34m.\u001b[0m\u001b[0mcompute_feature_importances\u001b[0m\u001b[0;34m(\u001b[0m\u001b[0;34m)\u001b[0m\u001b[0;34m\u001b[0m\u001b[0m\n",
            "\u001b[0;32m~/anaconda3_501/lib/python3.6/site-packages/sklearn/utils/validation.py\u001b[0m in \u001b[0;36mcheck_is_fitted\u001b[0;34m(estimator, attributes, msg, all_or_any)\u001b[0m\n\u001b[1;32m    766\u001b[0m \u001b[0;34m\u001b[0m\u001b[0m\n\u001b[1;32m    767\u001b[0m     \u001b[0;32mif\u001b[0m \u001b[0;32mnot\u001b[0m \u001b[0mall_or_any\u001b[0m\u001b[0;34m(\u001b[0m\u001b[0;34m[\u001b[0m\u001b[0mhasattr\u001b[0m\u001b[0;34m(\u001b[0m\u001b[0mestimator\u001b[0m\u001b[0;34m,\u001b[0m \u001b[0mattr\u001b[0m\u001b[0;34m)\u001b[0m \u001b[0;32mfor\u001b[0m \u001b[0mattr\u001b[0m \u001b[0;32min\u001b[0m \u001b[0mattributes\u001b[0m\u001b[0;34m]\u001b[0m\u001b[0;34m)\u001b[0m\u001b[0;34m:\u001b[0m\u001b[0;34m\u001b[0m\u001b[0m\n\u001b[0;32m--> 768\u001b[0;31m         \u001b[0;32mraise\u001b[0m \u001b[0mNotFittedError\u001b[0m\u001b[0;34m(\u001b[0m\u001b[0mmsg\u001b[0m \u001b[0;34m%\u001b[0m \u001b[0;34m{\u001b[0m\u001b[0;34m'name'\u001b[0m\u001b[0;34m:\u001b[0m \u001b[0mtype\u001b[0m\u001b[0;34m(\u001b[0m\u001b[0mestimator\u001b[0m\u001b[0;34m)\u001b[0m\u001b[0;34m.\u001b[0m\u001b[0m__name__\u001b[0m\u001b[0;34m}\u001b[0m\u001b[0;34m)\u001b[0m\u001b[0;34m\u001b[0m\u001b[0m\n\u001b[0m\u001b[1;32m    769\u001b[0m \u001b[0;34m\u001b[0m\u001b[0m\n\u001b[1;32m    770\u001b[0m \u001b[0;34m\u001b[0m\u001b[0m\n",
            "\u001b[0;31mNotFittedError\u001b[0m: This DecisionTreeClassifier instance is not fitted yet. Call 'fit' with appropriate arguments before using this method."
          ]
        }
      ]
    },
    {
      "metadata": {
        "trusted": true
      },
      "cell_type": "code",
      "source": "",
      "execution_count": null,
      "outputs": []
    }
  ],
  "metadata": {
    "kernelspec": {
      "name": "python36",
      "display_name": "Python 3.6",
      "language": "python"
    },
    "language_info": {
      "mimetype": "text/x-python",
      "nbconvert_exporter": "python",
      "name": "python",
      "pygments_lexer": "ipython3",
      "version": "3.6.6",
      "file_extension": ".py",
      "codemirror_mode": {
        "version": 3,
        "name": "ipython"
      }
    },
    "toc": {
      "nav_menu": {},
      "number_sections": true,
      "sideBar": true,
      "skip_h1_title": false,
      "base_numbering": 1,
      "title_cell": "Table of Contents",
      "title_sidebar": "Contents",
      "toc_cell": false,
      "toc_position": {},
      "toc_section_display": true,
      "toc_window_display": false
    }
  },
  "nbformat": 4,
  "nbformat_minor": 2
}